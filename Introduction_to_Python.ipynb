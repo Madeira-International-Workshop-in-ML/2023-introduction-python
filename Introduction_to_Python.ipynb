{
  "nbformat": 4,
  "nbformat_minor": 0,
  "metadata": {
    "colab": {
      "provenance": [],
      "toc_visible": true,
      "include_colab_link": true
    },
    "kernelspec": {
      "name": "python3",
      "language": "python",
      "display_name": "Python 3"
    },
    "language_info": {
      "name": "python"
    }
  },
  "cells": [
    {
      "cell_type": "markdown",
      "metadata": {
        "id": "view-in-github",
        "colab_type": "text"
      },
      "source": [
        "<a href=\"https://colab.research.google.com/github/Dntfreitas/2023-introduction-python/blob/main/Introduction_to_Python.ipynb\" target=\"_parent\"><img src=\"https://colab.research.google.com/assets/colab-badge.svg\" alt=\"Open In Colab\"/></a>"
      ]
    },
    {
      "cell_type": "markdown",
      "source": [
        "# Introduction to Python"
      ],
      "metadata": {
        "collapsed": false,
        "id": "YsL8CkwaSNYz"
      }
    },
    {
      "cell_type": "code",
      "metadata": {
        "colab": {
          "base_uri": "https://localhost:8080/"
        },
        "id": "c5EzIf1Nx4_z",
        "outputId": "5721d140-f2ea-41a8-a554-6c5b98e24596",
        "ExecuteTime": {
          "end_time": "2023-09-09T19:24:53.536579Z",
          "start_time": "2023-09-09T19:24:52.097747Z"
        }
      },
      "source": [
        "print('Hello, 🌎!')"
      ],
      "execution_count": 1,
      "outputs": [
        {
          "output_type": "stream",
          "name": "stdout",
          "text": [
            "Hello, 🌎!\n"
          ]
        }
      ]
    },
    {
      "cell_type": "markdown",
      "metadata": {
        "id": "wvTs9H8uD6RC"
      },
      "source": [
        "\n",
        "\n",
        "---\n",
        "\n"
      ]
    },
    {
      "cell_type": "markdown",
      "metadata": {
        "id": "uesjTANVxv3F"
      },
      "source": [
        "## Documentation of objects and functions"
      ]
    },
    {
      "cell_type": "code",
      "metadata": {
        "colab": {
          "base_uri": "https://localhost:8080/"
        },
        "id": "kqXyRJOYxPBM",
        "outputId": "e8b18927-b174-48e7-bb63-f96e0bb5c6dc",
        "ExecuteTime": {
          "end_time": "2023-09-09T19:24:54.456149Z",
          "start_time": "2023-09-09T19:24:52.130277Z"
        }
      },
      "source": [
        "help(len)  # `len`is a function"
      ],
      "execution_count": 2,
      "outputs": [
        {
          "output_type": "stream",
          "name": "stdout",
          "text": [
            "Help on built-in function len in module builtins:\n",
            "\n",
            "len(obj, /)\n",
            "    Return the number of items in a container.\n",
            "\n"
          ]
        }
      ]
    },
    {
      "cell_type": "markdown",
      "metadata": {
        "id": "J0GmtSnj0yR0"
      },
      "source": [
        "### Accessing the source code"
      ]
    },
    {
      "cell_type": "code",
      "metadata": {
        "id": "IWrfGCLp0IVS",
        "ExecuteTime": {
          "end_time": "2023-09-09T19:24:54.546414Z",
          "start_time": "2023-09-09T19:24:52.146775Z"
        }
      },
      "source": [
        "def f(x):\n",
        "    \"\"\"\n",
        "    This function retrieves the result of the function `2x+1`\n",
        "    \"\"\"\n",
        "    return 2 * x + 1"
      ],
      "execution_count": 3,
      "outputs": []
    },
    {
      "cell_type": "code",
      "metadata": {
        "id": "6KlTcc8-0LGX",
        "ExecuteTime": {
          "end_time": "2023-09-09T19:24:54.554025Z",
          "start_time": "2023-09-09T19:24:52.149359Z"
        }
      },
      "source": [
        "f??"
      ],
      "execution_count": 4,
      "outputs": []
    },
    {
      "cell_type": "markdown",
      "metadata": {
        "id": "-g7PZUId17hF"
      },
      "source": [
        "## Comments"
      ]
    },
    {
      "cell_type": "code",
      "metadata": {
        "colab": {
          "base_uri": "https://localhost:8080/"
        },
        "id": "IAPLbS061sm3",
        "outputId": "958ffbc7-fc51-40df-a1ca-d3ac8aedae6c",
        "ExecuteTime": {
          "end_time": "2023-09-09T19:24:54.595904Z",
          "start_time": "2023-09-09T19:24:52.178774Z"
        }
      },
      "source": [
        "# this is a single-line comment\n",
        "\n",
        "f(3)  # compute the result of the `f` evaluated on 3 (comments can also be put inline)\n",
        "\n",
        "# For multi-line comments, use multiple single-line comments, such as:\n",
        "# Lorem ipsum dolor sit amet, consectetuer adipiscing elit. Aenean commodo ligula eget dolor. Aenean massa. Cum sociis\n",
        "# natoque penatibus et magnis dis parturient montes, nascetur ridiculus mus. Donec quam felis, ultricies nec,\n",
        "# pellentesque eu, pretium quis, sem. Nulla consequat massa quis enim. Donec pede justo, fringilla vel, aliquet nec..."
      ],
      "execution_count": 5,
      "outputs": [
        {
          "output_type": "execute_result",
          "data": {
            "text/plain": [
              "7"
            ]
          },
          "metadata": {},
          "execution_count": 5
        }
      ]
    },
    {
      "cell_type": "markdown",
      "metadata": {
        "id": "gVDqESE13GOz"
      },
      "source": [
        "## Variables\n",
        "\n",
        "\n",
        "⚠️ **Python is a strongly typed and, at the same time, dynamically typed language. This means that variables have a type, and particular operations cannot be performed between different types of variables (e.g., the sum between a string and integer number). On the other hand, we do not have to specify/declare the type of variable when creating/assigning a variable. The type of the variable is determined on runtime.**\n",
        "\n",
        "*That can be problematic, especially for complex and/or long functions!*"
      ]
    },
    {
      "cell_type": "code",
      "metadata": {
        "colab": {
          "base_uri": "https://localhost:8080/"
        },
        "id": "uYP9c_Qm5YcN",
        "outputId": "44c4e81c-039a-4735-9329-a69a4631ec22",
        "ExecuteTime": {
          "end_time": "2023-09-09T19:24:54.631222Z",
          "start_time": "2023-09-09T19:24:52.209411Z"
        }
      },
      "source": [
        "var = 3\n",
        "print(type(var))  # at this point, `var` is an integer\n",
        "\n",
        "var = False\n",
        "print(type(var))  # at this point, `var` is a boolean"
      ],
      "execution_count": 6,
      "outputs": [
        {
          "output_type": "stream",
          "name": "stdout",
          "text": [
            "<class 'int'>\n",
            "<class 'bool'>\n"
          ]
        }
      ]
    },
    {
      "cell_type": "markdown",
      "metadata": {
        "id": "Mjx5X45455_1"
      },
      "source": [
        "### Simple numeric operations"
      ]
    },
    {
      "cell_type": "code",
      "metadata": {
        "id": "SY6N4OiD7LpR",
        "ExecuteTime": {
          "end_time": "2023-09-09T19:24:54.684157Z",
          "start_time": "2023-09-09T19:24:52.225640Z"
        }
      },
      "source": [
        "import math  # this serves to import a module to the Python workspace"
      ],
      "execution_count": 7,
      "outputs": []
    },
    {
      "cell_type": "code",
      "metadata": {
        "colab": {
          "base_uri": "https://localhost:8080/"
        },
        "id": "boMRrYlj43sg",
        "outputId": "ccc554df-33a9-4932-e0ab-8a9fb6cd455e",
        "ExecuteTime": {
          "end_time": "2023-09-09T19:24:54.684550Z",
          "start_time": "2023-09-09T19:24:52.228721Z"
        }
      },
      "source": [
        "n = 5\n",
        "\n",
        "n += 1  # increment n by 1\n",
        "n -= 1  # decrement n by 1\n",
        "\n",
        "n *= 3  # multiply n by 3\n",
        "n /= 7  # divide n by 3\n",
        "\n",
        "n **= 2  # square of n\n",
        "n = math.sqrt(n)  # square root of n\n",
        "\n",
        "n"
      ],
      "execution_count": 8,
      "outputs": [
        {
          "output_type": "execute_result",
          "data": {
            "text/plain": [
              "2.142857142857143"
            ]
          },
          "metadata": {},
          "execution_count": 8
        }
      ]
    },
    {
      "cell_type": "markdown",
      "metadata": {
        "id": "4PgR1_CyFDhO"
      },
      "source": [
        "### F-Strings"
      ]
    },
    {
      "cell_type": "code",
      "metadata": {
        "colab": {
          "base_uri": "https://localhost:8080/"
        },
        "id": "xE-nQ9q9FD1z",
        "outputId": "53ad48fc-9803-4839-c406-1c6ebdfc6f5a",
        "ExecuteTime": {
          "end_time": "2023-09-09T19:24:54.713962Z",
          "start_time": "2023-09-09T19:24:52.242782Z"
        }
      },
      "source": [
        "name = 'Diogo'\n",
        "age = 25\n",
        "weight = 73\n",
        "height = 1.73\n",
        "bmi = weight / height ** 2\n",
        "\n",
        "print(f'My name is {name}, and I\\'m {age} years old. My BMI is {bmi:.2f}')"
      ],
      "execution_count": 9,
      "outputs": [
        {
          "output_type": "stream",
          "name": "stdout",
          "text": [
            "My name is Diogo, and I'm 25 years old. My BMI is 24.39\n"
          ]
        }
      ]
    },
    {
      "cell_type": "markdown",
      "metadata": {
        "id": "V4v0eMa_8z6i"
      },
      "source": [
        "### Unpacking"
      ]
    },
    {
      "cell_type": "code",
      "metadata": {
        "colab": {
          "base_uri": "https://localhost:8080/"
        },
        "id": "NqlxkvpV_2GL",
        "outputId": "c213bc85-fb8e-428f-8fc8-2e9e0aaae884",
        "ExecuteTime": {
          "end_time": "2023-09-09T19:24:54.743710Z",
          "start_time": "2023-09-09T19:24:52.259194Z"
        }
      },
      "source": [
        "x, y, z = [0, 1, 2]\n",
        "\n",
        "print(x, y, z)\n",
        "\n",
        "x, y, z = 0, 1, 2  # this is similar to what was done before\n",
        "print(x, y, z)"
      ],
      "execution_count": 10,
      "outputs": [
        {
          "output_type": "stream",
          "name": "stdout",
          "text": [
            "0 1 2\n",
            "0 1 2\n"
          ]
        }
      ]
    },
    {
      "cell_type": "markdown",
      "metadata": {
        "id": "LfuTqYFRINBo"
      },
      "source": [
        "### Multiple assignments"
      ]
    },
    {
      "cell_type": "code",
      "metadata": {
        "colab": {
          "base_uri": "https://localhost:8080/"
        },
        "id": "PM6Fq5tOArZ0",
        "outputId": "a9e3ab10-9c9b-48eb-a252-9cd6901d8c2c",
        "ExecuteTime": {
          "end_time": "2023-09-09T19:24:54.768314Z",
          "start_time": "2023-09-09T19:24:52.275195Z"
        }
      },
      "source": [
        "x = y = z = 1  # assign the value of `1` to `x`, `y` and `z`\n",
        "\n",
        "x == y == z  # check if that happened"
      ],
      "execution_count": 11,
      "outputs": [
        {
          "output_type": "execute_result",
          "data": {
            "text/plain": [
              "True"
            ]
          },
          "metadata": {},
          "execution_count": 11
        }
      ]
    },
    {
      "cell_type": "markdown",
      "metadata": {
        "id": "M6nxSrBwLX22"
      },
      "source": [
        "## Loops (`for`s and `while`s)"
      ]
    },
    {
      "cell_type": "code",
      "metadata": {
        "colab": {
          "base_uri": "https://localhost:8080/"
        },
        "id": "cpUbba0lLW2R",
        "outputId": "1c4097be-773e-4ee4-f601-3423715899d8",
        "ExecuteTime": {
          "end_time": "2023-09-09T19:24:54.826276Z",
          "start_time": "2023-09-09T19:24:52.291534Z"
        }
      },
      "source": [
        "for i in range(10):  # if the iterator (`i`) is not needed, it is possible to replace `i` by `_`\n",
        "    print(i)"
      ],
      "execution_count": 12,
      "outputs": [
        {
          "output_type": "stream",
          "name": "stdout",
          "text": [
            "0\n",
            "1\n",
            "2\n",
            "3\n",
            "4\n",
            "5\n",
            "6\n",
            "7\n",
            "8\n",
            "9\n"
          ]
        }
      ]
    },
    {
      "cell_type": "code",
      "metadata": {
        "colab": {
          "base_uri": "https://localhost:8080/"
        },
        "id": "tontXWrNLWyr",
        "outputId": "26ba4231-ddd3-4e49-f2c5-0f511f4bcb7f",
        "ExecuteTime": {
          "end_time": "2023-09-09T19:24:54.826535Z",
          "start_time": "2023-09-09T19:24:52.293812Z"
        }
      },
      "source": [
        "i = 0\n",
        "\n",
        "while i < 10:  # the loop will continue as long as the condition is true\n",
        "    print(i)\n",
        "    i = i + 1"
      ],
      "execution_count": 13,
      "outputs": [
        {
          "output_type": "stream",
          "name": "stdout",
          "text": [
            "0\n",
            "1\n",
            "2\n",
            "3\n",
            "4\n",
            "5\n",
            "6\n",
            "7\n",
            "8\n",
            "9\n"
          ]
        }
      ]
    },
    {
      "cell_type": "markdown",
      "metadata": {
        "id": "_gOXW6DVNvkh"
      },
      "source": [
        "#### `break` and `continue`"
      ]
    },
    {
      "cell_type": "code",
      "metadata": {
        "colab": {
          "base_uri": "https://localhost:8080/"
        },
        "id": "ou6GyCM_OJEI",
        "outputId": "3aa6d213-0836-4511-b8a9-6817d659f9d6",
        "ExecuteTime": {
          "end_time": "2023-09-09T19:24:54.885518Z",
          "start_time": "2023-09-09T19:24:52.307905Z"
        }
      },
      "source": [
        "arr = [8, 45, 47, 9, 37, 3, 5, 1, 16, 40]\n",
        "\n",
        "for i in range(len(arr)):\n",
        "    if arr[i] == 3:\n",
        "        print(f'Found 3 in position {i}')\n",
        "        break  # `break` stops the execution of the loop, jumping to the next line of code after the `for` block\n",
        "    print(f'3 not in position {i}')"
      ],
      "execution_count": 14,
      "outputs": [
        {
          "output_type": "stream",
          "name": "stdout",
          "text": [
            "3 not in position 0\n",
            "3 not in position 1\n",
            "3 not in position 2\n",
            "3 not in position 3\n",
            "3 not in position 4\n",
            "Found 3 in position 5\n"
          ]
        }
      ]
    },
    {
      "cell_type": "code",
      "metadata": {
        "colab": {
          "base_uri": "https://localhost:8080/"
        },
        "id": "SYFQhicELWug",
        "outputId": "71a550ca-b364-4f8a-dd49-b12377e0e259",
        "ExecuteTime": {
          "end_time": "2023-09-09T19:24:54.885792Z",
          "start_time": "2023-09-09T19:24:52.310005Z"
        }
      },
      "source": [
        "for i in range(5):\n",
        "    if i == 0:\n",
        "        continue  # `continue` makes the for loop jumping for the next item in the loop\n",
        "    print(4 / i)"
      ],
      "execution_count": 15,
      "outputs": [
        {
          "output_type": "stream",
          "name": "stdout",
          "text": [
            "4.0\n",
            "2.0\n",
            "1.3333333333333333\n",
            "1.0\n"
          ]
        }
      ]
    },
    {
      "cell_type": "markdown",
      "metadata": {
        "id": "YTKQBoY6f7Bb"
      },
      "source": [
        "*Note*: `break` and `continue` can also be used with `while` loops!"
      ]
    },
    {
      "cell_type": "markdown",
      "metadata": {
        "id": "l9nPjjpYKD5q"
      },
      "source": [
        "## Lists"
      ]
    },
    {
      "cell_type": "code",
      "metadata": {
        "id": "cUvOxTnkISVK",
        "ExecuteTime": {
          "end_time": "2023-09-09T19:24:54.914757Z",
          "start_time": "2023-09-09T19:24:52.354202Z"
        }
      },
      "source": [
        "arr = ['a', 1, [2, 3]]  # lists in Python can save objects of different types"
      ],
      "execution_count": 16,
      "outputs": []
    },
    {
      "cell_type": "markdown",
      "metadata": {
        "id": "D1uoDh-ZK6-G"
      },
      "source": [
        "### Indexing"
      ]
    },
    {
      "cell_type": "code",
      "metadata": {
        "colab": {
          "base_uri": "https://localhost:8080/"
        },
        "id": "dSqZQ9i2Kere",
        "outputId": "a110ee61-09c6-4fe9-f739-d5ceaf774b86",
        "ExecuteTime": {
          "end_time": "2023-09-09T19:24:54.967968Z",
          "start_time": "2023-09-09T19:24:52.370742Z"
        }
      },
      "source": [
        "arr = list(range(10))  # let's generate a list from 0 to 9 (10 elements)\n",
        "arr"
      ],
      "execution_count": 17,
      "outputs": [
        {
          "output_type": "execute_result",
          "data": {
            "text/plain": [
              "[0, 1, 2, 3, 4, 5, 6, 7, 8, 9]"
            ]
          },
          "metadata": {},
          "execution_count": 17
        }
      ]
    },
    {
      "cell_type": "code",
      "metadata": {
        "colab": {
          "base_uri": "https://localhost:8080/"
        },
        "id": "D5HSjtLvLUaZ",
        "outputId": "d18a6914-d41d-40ec-f679-27895d8f577a",
        "ExecuteTime": {
          "end_time": "2023-09-09T19:24:54.968241Z",
          "start_time": "2023-09-09T19:24:52.373833Z"
        }
      },
      "source": [
        "arr[0]  # array indexes start on 0!\n",
        "arr[-1]  # get the last element from the array!\n",
        "arr[1:4]  # get the second to fourth elements from the array\n",
        "arr[-3:-1]  # get the penultimate and antepenultimate elements from the array\n",
        "arr[1:]  # get all the elements except the first one\n",
        "arr[:-1]  # get all the elements except the last one"
      ],
      "execution_count": 18,
      "outputs": [
        {
          "output_type": "execute_result",
          "data": {
            "text/plain": [
              "[0, 1, 2, 3, 4, 5, 6, 7, 8]"
            ]
          },
          "metadata": {},
          "execution_count": 18
        }
      ]
    },
    {
      "cell_type": "markdown",
      "metadata": {
        "id": "nt1n8iLqOZza"
      },
      "source": [
        "### Multi-dimensional list\n",
        "\n",
        "**Using the Python lists, the process can be a little complex. We will see later in this tutorial that the library `numpy` facilitates the multidimensional array indexing.**"
      ]
    },
    {
      "cell_type": "code",
      "metadata": {
        "colab": {
          "base_uri": "https://localhost:8080/"
        },
        "id": "4bY1uE6XNEm7",
        "outputId": "44d33b1d-487e-4c5c-a3ac-69dadb8a3a78",
        "ExecuteTime": {
          "end_time": "2023-09-09T19:24:54.998375Z",
          "start_time": "2023-09-09T19:24:52.386944Z"
        }
      },
      "source": [
        "arr_multi = [[1, 2, 3],\n",
        "             [4, 5, 6]]  # this is multidimensional list\n",
        "\n",
        "arr_multi"
      ],
      "execution_count": 19,
      "outputs": [
        {
          "output_type": "execute_result",
          "data": {
            "text/plain": [
              "[[1, 2, 3], [4, 5, 6]]"
            ]
          },
          "metadata": {},
          "execution_count": 19
        }
      ]
    },
    {
      "cell_type": "markdown",
      "metadata": {
        "id": "IBtCqt3XMVbu"
      },
      "source": [
        "### Looping"
      ]
    },
    {
      "cell_type": "code",
      "metadata": {
        "colab": {
          "base_uri": "https://localhost:8080/"
        },
        "id": "hfbjNskfMsXI",
        "outputId": "4ae0e85f-537d-462d-8cc3-a2ff15390143",
        "ExecuteTime": {
          "end_time": "2023-09-09T19:24:55.028579Z",
          "start_time": "2023-09-09T19:24:52.402969Z"
        }
      },
      "source": [
        "arr = list(range(10))  # let's generate a list from 0 to 9 (10 elements)\n",
        "\n",
        "for element in arr:  # foreach element inside the array...\n",
        "    print(element)"
      ],
      "execution_count": 20,
      "outputs": [
        {
          "output_type": "stream",
          "name": "stdout",
          "text": [
            "0\n",
            "1\n",
            "2\n",
            "3\n",
            "4\n",
            "5\n",
            "6\n",
            "7\n",
            "8\n",
            "9\n"
          ]
        }
      ]
    },
    {
      "cell_type": "markdown",
      "source": [
        "### List comprehension"
      ],
      "metadata": {
        "id": "8CFFec8oa7HZ"
      }
    },
    {
      "cell_type": "code",
      "metadata": {
        "colab": {
          "base_uri": "https://localhost:8080/"
        },
        "id": "zpLpQbHuNugm",
        "outputId": "3b305a87-44eb-4ca7-e9dc-2c70051d3d65",
        "ExecuteTime": {
          "end_time": "2023-09-09T19:24:55.088939Z",
          "start_time": "2023-09-09T19:24:52.419730Z"
        }
      },
      "source": [
        "[arr[0] for arr in arr_multi]  # extract the first column"
      ],
      "execution_count": 21,
      "outputs": [
        {
          "output_type": "execute_result",
          "data": {
            "text/plain": [
              "[1, 4]"
            ]
          },
          "metadata": {},
          "execution_count": 21
        }
      ]
    },
    {
      "cell_type": "code",
      "metadata": {
        "colab": {
          "base_uri": "https://localhost:8080/"
        },
        "id": "MooArPRzN00b",
        "outputId": "a3920a44-8278-488e-c440-9d77cc4d9574",
        "ExecuteTime": {
          "end_time": "2023-09-09T19:24:55.089238Z",
          "start_time": "2023-09-09T19:24:52.422801Z"
        }
      },
      "source": [
        "[arr[-1] for arr in arr_multi]  # extract the last column"
      ],
      "execution_count": 22,
      "outputs": [
        {
          "output_type": "execute_result",
          "data": {
            "text/plain": [
              "[3, 6]"
            ]
          },
          "metadata": {},
          "execution_count": 22
        }
      ]
    },
    {
      "cell_type": "markdown",
      "metadata": {
        "id": "uy5KTQEDQfpD"
      },
      "source": [
        "### Operations"
      ]
    },
    {
      "cell_type": "markdown",
      "metadata": {
        "id": "-l3T8QC3RCxD"
      },
      "source": [
        "#### Append"
      ]
    },
    {
      "cell_type": "code",
      "metadata": {
        "colab": {
          "base_uri": "https://localhost:8080/"
        },
        "id": "fELAxA2LP5-J",
        "outputId": "30688096-e62f-4b8c-d736-865f49d39dcc",
        "ExecuteTime": {
          "end_time": "2023-09-09T19:24:55.266915Z",
          "start_time": "2023-09-09T19:24:52.484361Z"
        }
      },
      "source": [
        "arr = list(range(10))  # let's generate a list from 0 to 9 (10 elements)\n",
        "\n",
        "arr.append(10)  # append `10` in the last position of the list\n",
        "arr"
      ],
      "execution_count": 23,
      "outputs": [
        {
          "output_type": "execute_result",
          "data": {
            "text/plain": [
              "[0, 1, 2, 3, 4, 5, 6, 7, 8, 9, 10]"
            ]
          },
          "metadata": {},
          "execution_count": 23
        }
      ]
    },
    {
      "cell_type": "code",
      "metadata": {
        "colab": {
          "base_uri": "https://localhost:8080/"
        },
        "id": "Q5v-2HXDQt2J",
        "outputId": "9e71a882-06e4-4aff-fa34-6d303bc5851b",
        "ExecuteTime": {
          "end_time": "2023-09-09T19:24:55.267247Z",
          "start_time": "2023-09-09T19:24:52.487043Z"
        }
      },
      "source": [
        "arr.insert(0, -1)  # insert `-1` on the first position of the array\n",
        "arr"
      ],
      "execution_count": 24,
      "outputs": [
        {
          "output_type": "execute_result",
          "data": {
            "text/plain": [
              "[-1, 0, 1, 2, 3, 4, 5, 6, 7, 8, 9, 10]"
            ]
          },
          "metadata": {},
          "execution_count": 24
        }
      ]
    },
    {
      "cell_type": "markdown",
      "metadata": {
        "id": "mKtfoW8eRtMZ"
      },
      "source": [
        "#### Update"
      ]
    },
    {
      "cell_type": "code",
      "metadata": {
        "colab": {
          "base_uri": "https://localhost:8080/"
        },
        "id": "gxYGZzg5QzTC",
        "outputId": "9854420b-944e-4c82-f381-8b7dd6f481e8",
        "ExecuteTime": {
          "end_time": "2023-09-09T19:24:55.321565Z",
          "start_time": "2023-09-09T19:24:52.501087Z"
        }
      },
      "source": [
        "arr = list(range(10))  # let's generate a list from 0 to 9 (10 elements)\n",
        "\n",
        "arr[0] = -1  # change the element on the first position\n",
        "arr"
      ],
      "execution_count": 25,
      "outputs": [
        {
          "output_type": "execute_result",
          "data": {
            "text/plain": [
              "[-1, 1, 2, 3, 4, 5, 6, 7, 8, 9]"
            ]
          },
          "metadata": {},
          "execution_count": 25
        }
      ]
    },
    {
      "cell_type": "code",
      "metadata": {
        "colab": {
          "base_uri": "https://localhost:8080/"
        },
        "id": "aeTKEqsFR3rx",
        "outputId": "e071edef-d779-4b53-ddbb-2be7f1e572b6",
        "ExecuteTime": {
          "end_time": "2023-09-09T19:24:55.321851Z",
          "start_time": "2023-09-09T19:24:52.503706Z"
        }
      },
      "source": [
        "arr[1:4] = list(range(3))  # update from the second to the forth position\n",
        "arr"
      ],
      "execution_count": 26,
      "outputs": [
        {
          "output_type": "execute_result",
          "data": {
            "text/plain": [
              "[-1, 0, 1, 2, 4, 5, 6, 7, 8, 9]"
            ]
          },
          "metadata": {},
          "execution_count": 26
        }
      ]
    },
    {
      "cell_type": "markdown",
      "metadata": {
        "id": "w05V2cCOTCEe"
      },
      "source": [
        "#### Remove"
      ]
    },
    {
      "cell_type": "code",
      "metadata": {
        "colab": {
          "base_uri": "https://localhost:8080/"
        },
        "id": "imjLgOLXS_Re",
        "outputId": "15e03df6-e640-475b-f215-f69e1053ce9b",
        "ExecuteTime": {
          "end_time": "2023-09-09T19:24:55.351806Z",
          "start_time": "2023-09-09T19:24:52.517082Z"
        }
      },
      "source": [
        "arr = list(range(10))  # let's generate a list from 0 to 9 (10 elements)\n",
        "\n",
        "del arr[1:4]  # remove the elements from the second to the forth positions\n",
        "arr"
      ],
      "execution_count": 27,
      "outputs": [
        {
          "output_type": "execute_result",
          "data": {
            "text/plain": [
              "[0, 4, 5, 6, 7, 8, 9]"
            ]
          },
          "metadata": {},
          "execution_count": 27
        }
      ]
    },
    {
      "cell_type": "markdown",
      "metadata": {
        "id": "THlXK0WpRMgW"
      },
      "source": [
        "#### Length"
      ]
    },
    {
      "cell_type": "code",
      "metadata": {
        "colab": {
          "base_uri": "https://localhost:8080/"
        },
        "id": "Sb-qCse5RKEn",
        "outputId": "481583e2-687f-4390-a036-79d282041b08",
        "ExecuteTime": {
          "end_time": "2023-09-09T19:24:55.381530Z",
          "start_time": "2023-09-09T19:24:52.533209Z"
        }
      },
      "source": [
        "arr = list(range(10))  # let's generate a list from 0 to 9 (10 elements)\n",
        "\n",
        "print(f'List has {len(arr)} elements.')"
      ],
      "execution_count": 28,
      "outputs": [
        {
          "output_type": "stream",
          "name": "stdout",
          "text": [
            "List has 10 elements.\n"
          ]
        }
      ]
    },
    {
      "cell_type": "markdown",
      "source": [
        "**_Do it your self_:** Define a function that receives a list and returns a list with all the even numbers from the original list."
      ],
      "metadata": {
        "collapsed": false,
        "id": "oexcOspUaqQw"
      }
    },
    {
      "cell_type": "markdown",
      "metadata": {
        "id": "-MTq3R-HT1bL"
      },
      "source": [
        "## Dictionaries"
      ]
    },
    {
      "cell_type": "markdown",
      "source": [
        "**Python dictionaries can be viewed as an associative array. That is, always keep a unique key and a value.**"
      ],
      "metadata": {
        "id": "NiNVkIQEWEFn"
      }
    },
    {
      "cell_type": "code",
      "metadata": {
        "id": "_ZuK7PW-SDoU",
        "ExecuteTime": {
          "end_time": "2023-09-09T19:24:55.411124Z",
          "start_time": "2023-09-09T19:24:52.598845Z"
        }
      },
      "source": [
        "population_dict = {'California': 38332521,\n",
        "                   'Texas': 26448193,\n",
        "                   'New York': 19651127,\n",
        "                   'Florida': 19552860,\n",
        "                   'Illinois': 12882135}"
      ],
      "execution_count": 29,
      "outputs": []
    },
    {
      "cell_type": "markdown",
      "metadata": {
        "id": "lP6zoL-pUAUw"
      },
      "source": [
        "### Indexing"
      ]
    },
    {
      "cell_type": "code",
      "metadata": {
        "colab": {
          "base_uri": "https://localhost:8080/"
        },
        "id": "M1Vt5q01T6Dz",
        "outputId": "fb819c69-2d59-479d-f288-16a6f1050ae1",
        "ExecuteTime": {
          "end_time": "2023-09-09T19:24:55.446993Z",
          "start_time": "2023-09-09T19:24:52.614814Z"
        }
      },
      "source": [
        "population_dict['California']  # access the California's information"
      ],
      "execution_count": 30,
      "outputs": [
        {
          "output_type": "execute_result",
          "data": {
            "text/plain": [
              "38332521"
            ]
          },
          "metadata": {},
          "execution_count": 30
        }
      ]
    },
    {
      "cell_type": "markdown",
      "metadata": {
        "id": "CkBIDRYjVZWi"
      },
      "source": [
        "### Looping"
      ]
    },
    {
      "cell_type": "code",
      "metadata": {
        "colab": {
          "base_uri": "https://localhost:8080/"
        },
        "id": "OTJ32NJ2VTQ1",
        "outputId": "78a26875-5bcd-489d-fe99-7b799bea779a",
        "ExecuteTime": {
          "end_time": "2023-09-09T19:24:55.477634Z",
          "start_time": "2023-09-09T19:24:52.631192Z"
        }
      },
      "source": [
        "for country in population_dict:  # for each key in the array\n",
        "    print(f'{country} has a total of {population_dict[country]} individuals.')"
      ],
      "execution_count": 31,
      "outputs": [
        {
          "output_type": "stream",
          "name": "stdout",
          "text": [
            "California has a total of 38332521 individuals.\n",
            "Texas has a total of 26448193 individuals.\n",
            "New York has a total of 19651127 individuals.\n",
            "Florida has a total of 19552860 individuals.\n",
            "Illinois has a total of 12882135 individuals.\n"
          ]
        }
      ]
    },
    {
      "cell_type": "markdown",
      "metadata": {
        "id": "XNMgJC9sURwU"
      },
      "source": [
        "### Operations"
      ]
    },
    {
      "cell_type": "markdown",
      "metadata": {
        "id": "EgZuGR4cUSWN"
      },
      "source": [
        "#### Append"
      ]
    },
    {
      "cell_type": "code",
      "metadata": {
        "colab": {
          "base_uri": "https://localhost:8080/"
        },
        "id": "uydZAnAVT8Do",
        "outputId": "ffc8f585-5d4e-4b35-fa74-470beb942e84",
        "ExecuteTime": {
          "end_time": "2023-09-09T19:24:55.514545Z",
          "start_time": "2023-09-09T19:24:52.662157Z"
        }
      },
      "source": [
        "population_dict['Portugal'] = 10297080\n",
        "population_dict"
      ],
      "execution_count": 32,
      "outputs": [
        {
          "output_type": "execute_result",
          "data": {
            "text/plain": [
              "{'California': 38332521,\n",
              " 'Texas': 26448193,\n",
              " 'New York': 19651127,\n",
              " 'Florida': 19552860,\n",
              " 'Illinois': 12882135,\n",
              " 'Portugal': 10297080}"
            ]
          },
          "metadata": {},
          "execution_count": 32
        }
      ]
    },
    {
      "cell_type": "markdown",
      "metadata": {
        "id": "Q5iyhvpeU91I"
      },
      "source": [
        "#### Update"
      ]
    },
    {
      "cell_type": "code",
      "metadata": {
        "colab": {
          "base_uri": "https://localhost:8080/"
        },
        "id": "tEFcQxlnVC4_",
        "outputId": "9f1430fc-0a93-4e72-bc00-1d8d71832db3",
        "ExecuteTime": {
          "end_time": "2023-09-09T19:24:55.544825Z",
          "start_time": "2023-09-09T19:24:52.678575Z"
        }
      },
      "source": [
        "population_dict['Portugal'] += 1\n",
        "population_dict"
      ],
      "execution_count": 33,
      "outputs": [
        {
          "output_type": "execute_result",
          "data": {
            "text/plain": [
              "{'California': 38332521,\n",
              " 'Texas': 26448193,\n",
              " 'New York': 19651127,\n",
              " 'Florida': 19552860,\n",
              " 'Illinois': 12882135,\n",
              " 'Portugal': 10297081}"
            ]
          },
          "metadata": {},
          "execution_count": 33
        }
      ]
    },
    {
      "cell_type": "markdown",
      "metadata": {
        "id": "PO9MtRSlV6-b"
      },
      "source": [
        "#### Remove"
      ]
    },
    {
      "cell_type": "code",
      "metadata": {
        "colab": {
          "base_uri": "https://localhost:8080/"
        },
        "id": "300_Hy3JV6OU",
        "outputId": "98db1e55-2f5c-42bc-e574-fd57ffce6102",
        "ExecuteTime": {
          "end_time": "2023-09-09T19:24:55.575571Z",
          "start_time": "2023-09-09T19:24:52.694499Z"
        }
      },
      "source": [
        "del population_dict['California']\n",
        "population_dict"
      ],
      "execution_count": 34,
      "outputs": [
        {
          "output_type": "execute_result",
          "data": {
            "text/plain": [
              "{'Texas': 26448193,\n",
              " 'New York': 19651127,\n",
              " 'Florida': 19552860,\n",
              " 'Illinois': 12882135,\n",
              " 'Portugal': 10297081}"
            ]
          },
          "metadata": {},
          "execution_count": 34
        }
      ]
    },
    {
      "cell_type": "markdown",
      "metadata": {
        "id": "Rwz1vktFsID3"
      },
      "source": [
        "## Functions"
      ]
    },
    {
      "cell_type": "markdown",
      "metadata": {
        "id": "cQiQqnWJtb-p"
      },
      "source": [
        "⚠️ **Python uses indentation to indicate a block of code. Indentation can be done using `TABs` or simply a set of spaces.**\n",
        "\n",
        "Besides being mandatory, indentation also improves the code readability!"
      ]
    },
    {
      "cell_type": "code",
      "metadata": {
        "id": "HH7ZLhDfWILf",
        "ExecuteTime": {
          "end_time": "2023-09-09T19:24:55.700339Z",
          "start_time": "2023-09-09T19:24:52.751467Z"
        }
      },
      "source": [
        "def exponentiation(b, n=2):  # note: here, the parameter `n` is optional. That is if the parameter is not specified, then `n` will be equal to 2\n",
        "    \"\"\"\n",
        "    Return b raised to the power of n.\n",
        "    \"\"\"\n",
        "    return b ** n"
      ],
      "execution_count": 35,
      "outputs": []
    },
    {
      "cell_type": "code",
      "metadata": {
        "colab": {
          "base_uri": "https://localhost:8080/"
        },
        "id": "1yRWlUH268vT",
        "outputId": "1c2ad015-f39e-4c3c-9af4-3f967a3fd560",
        "ExecuteTime": {
          "end_time": "2023-09-09T19:24:55.700714Z",
          "start_time": "2023-09-09T19:24:52.754406Z"
        }
      },
      "source": [
        "help(exponentiation)  # it is a good practice to explain what is the purpose of each function"
      ],
      "execution_count": 36,
      "outputs": [
        {
          "output_type": "stream",
          "name": "stdout",
          "text": [
            "Help on function exponentiation in module __main__:\n",
            "\n",
            "exponentiation(b, n=2)\n",
            "    Return b raised to the power of n.\n",
            "\n"
          ]
        }
      ]
    },
    {
      "cell_type": "code",
      "source": [
        "exponentiation(2)  # `n` = 2 by definition"
      ],
      "metadata": {
        "colab": {
          "base_uri": "https://localhost:8080/"
        },
        "id": "r5RUW1-wdU9e",
        "outputId": "3daab3d1-f408-494b-ee01-e75a4b18ff48",
        "ExecuteTime": {
          "end_time": "2023-09-09T19:24:55.700911Z",
          "start_time": "2023-09-09T19:24:52.756673Z"
        }
      },
      "execution_count": 37,
      "outputs": [
        {
          "output_type": "execute_result",
          "data": {
            "text/plain": [
              "4"
            ]
          },
          "metadata": {},
          "execution_count": 37
        }
      ]
    },
    {
      "cell_type": "code",
      "source": [
        "exponentiation(2, 3)"
      ],
      "metadata": {
        "colab": {
          "base_uri": "https://localhost:8080/"
        },
        "id": "gGw-cO4odr11",
        "outputId": "1cc8765a-25d9-4185-97e5-26c038dc82a2",
        "ExecuteTime": {
          "end_time": "2023-09-09T19:24:55.701088Z",
          "start_time": "2023-09-09T19:24:52.759095Z"
        }
      },
      "execution_count": 38,
      "outputs": [
        {
          "output_type": "execute_result",
          "data": {
            "text/plain": [
              "8"
            ]
          },
          "metadata": {},
          "execution_count": 38
        }
      ]
    },
    {
      "cell_type": "markdown",
      "metadata": {
        "id": "pBOww5Q65MEZ"
      },
      "source": [
        "### Unpacking"
      ]
    },
    {
      "cell_type": "code",
      "metadata": {
        "colab": {
          "base_uri": "https://localhost:8080/"
        },
        "id": "4cdKiDLBswPH",
        "outputId": "de41b86c-b435-4514-e3e5-c15d1b566532",
        "ExecuteTime": {
          "end_time": "2023-09-09T19:24:55.736413Z",
          "start_time": "2023-09-09T19:24:52.767428Z"
        }
      },
      "source": [
        "def div(numerator, denominator):\n",
        "    return numerator / denominator, numerator % denominator\n",
        "\n",
        "\n",
        "# let's print the results using f-strings\n",
        "numerator, denominator = 13, 7\n",
        "result, rest = div(numerator, denominator)\n",
        "\n",
        "print(f'{numerator} divided by {denominator} results in {result:.4f}, with a division remainder of {rest}.')"
      ],
      "execution_count": 39,
      "outputs": [
        {
          "output_type": "stream",
          "name": "stdout",
          "text": [
            "13 divided by 7 results in 1.8571, with a division remainder of 6.\n"
          ]
        }
      ]
    },
    {
      "cell_type": "markdown",
      "metadata": {
        "id": "lz1WHFwK6WU4"
      },
      "source": [
        "### Global variables"
      ]
    },
    {
      "cell_type": "markdown",
      "metadata": {
        "id": "HADo4MQF7KMw"
      },
      "source": [
        "⚠️ **You should try as much as possible to avoid the use of global variables. Nevertheless, you can use it in Python as follows.**"
      ]
    },
    {
      "cell_type": "code",
      "metadata": {
        "colab": {
          "base_uri": "https://localhost:8080/"
        },
        "id": "AGq7aspQ6Z0N",
        "outputId": "4bf92abd-ca21-4c7c-932b-4d34e3ca3f41",
        "ExecuteTime": {
          "end_time": "2023-09-09T19:24:55.766615Z",
          "start_time": "2023-09-09T19:24:52.799902Z"
        }
      },
      "source": [
        "global_name = 'Diogo'\n",
        "\n",
        "\n",
        "def whats_my_name():\n",
        "    # global_name = 'My name is' + global_name <- global variables cannot be changed inside the function\n",
        "    return global_name\n",
        "\n",
        "\n",
        "def change_my_name():\n",
        "    global global_name\n",
        "    global_name = 'Nuno'\n",
        "\n",
        "\n",
        "print(whats_my_name())\n",
        "\n",
        "change_my_name()\n",
        "\n",
        "print(whats_my_name())"
      ],
      "execution_count": 40,
      "outputs": [
        {
          "output_type": "stream",
          "name": "stdout",
          "text": [
            "Diogo\n",
            "Nuno\n"
          ]
        }
      ]
    },
    {
      "cell_type": "markdown",
      "metadata": {
        "id": "dYe1V24ePhsF"
      },
      "source": [
        "## Modules"
      ]
    },
    {
      "cell_type": "code",
      "metadata": {
        "id": "HGO6ddy8LDbW",
        "ExecuteTime": {
          "end_time": "2023-09-09T19:24:55.795921Z",
          "start_time": "2023-09-09T19:24:52.831583Z"
        }
      },
      "source": [
        "import pandas as pd  # this will import all pandas module and rename it for `pd`\n",
        "import numpy as np  # this will import all numpy module and rename it for `np`"
      ],
      "execution_count": 41,
      "outputs": []
    },
    {
      "cell_type": "markdown",
      "metadata": {
        "id": "VaruOC_PRr0n"
      },
      "source": [
        "# Introduction to NumPy"
      ]
    },
    {
      "cell_type": "markdown",
      "metadata": {
        "id": "6Lf2cy85UeQI"
      },
      "source": [
        "**NumPy allows you to work with multidimensional arrays, and has tools for fast numerical computation.**\n",
        "\n",
        "**NumPy's arrays are homogeneous, that is, all the members of an array have the same type.**"
      ]
    },
    {
      "cell_type": "markdown",
      "metadata": {
        "id": "pkquFl4LSSFe"
      },
      "source": [
        "## Create an array"
      ]
    },
    {
      "cell_type": "code",
      "metadata": {
        "colab": {
          "base_uri": "https://localhost:8080/"
        },
        "id": "juLOeyjOSQ5v",
        "outputId": "f29248eb-957f-4732-9840-24148f35c717",
        "ExecuteTime": {
          "end_time": "2023-09-09T19:24:55.880390Z",
          "start_time": "2023-09-09T19:24:52.893063Z"
        }
      },
      "source": [
        "arr = np.array([1, 2, 3, 4])\n",
        "arr"
      ],
      "execution_count": 42,
      "outputs": [
        {
          "output_type": "execute_result",
          "data": {
            "text/plain": [
              "array([1, 2, 3, 4])"
            ]
          },
          "metadata": {},
          "execution_count": 42
        }
      ]
    },
    {
      "cell_type": "code",
      "metadata": {
        "colab": {
          "base_uri": "https://localhost:8080/"
        },
        "id": "pxNIfFaeSQ27",
        "outputId": "bd5f8b6b-43d3-48c9-d140-97846cf21755",
        "ExecuteTime": {
          "end_time": "2023-09-09T19:24:55.880710Z",
          "start_time": "2023-09-09T19:24:52.896151Z"
        }
      },
      "source": [
        "zeros_arr = np.zeros((3, 3))  # it is always good practice allocating memory beforehand\n",
        "print(zeros_arr)\n",
        "\n",
        "empty_arr = np.empty((4, 4))  # you can also create an array without initializing its entries\n",
        "print(empty_arr)"
      ],
      "execution_count": 43,
      "outputs": [
        {
          "output_type": "stream",
          "name": "stdout",
          "text": [
            "[[0. 0. 0.]\n",
            " [0. 0. 0.]\n",
            " [0. 0. 0.]]\n",
            "[[5.00915055e-310 0.00000000e+000 6.91928767e-310 6.91934587e-310]\n",
            " [6.91928890e-310 6.91928890e-310 6.91934253e-310 6.91928767e-310]\n",
            " [6.91928767e-310 6.91928767e-310 6.91934621e-310 6.91928767e-310]\n",
            " [6.91928767e-310 6.91928767e-310 6.91934656e-310 6.91934656e-310]]\n"
          ]
        }
      ]
    },
    {
      "cell_type": "code",
      "metadata": {
        "colab": {
          "base_uri": "https://localhost:8080/"
        },
        "id": "QRkbx7jWSQ0Q",
        "outputId": "ec8d8624-090b-4461-9a36-1c952b07602c",
        "ExecuteTime": {
          "end_time": "2023-09-09T19:24:55.880992Z",
          "start_time": "2023-09-09T19:24:52.897800Z"
        }
      },
      "source": [
        "random_arr = np.random.randint(10, size=(3, 4, 5))  # this will create a random array of 3 elements, with 4 rows and 5 columns\n",
        "random_arr"
      ],
      "execution_count": 44,
      "outputs": [
        {
          "output_type": "execute_result",
          "data": {
            "text/plain": [
              "array([[[8, 5, 6, 4, 0],\n",
              "        [0, 7, 7, 5, 0],\n",
              "        [7, 1, 9, 6, 2],\n",
              "        [9, 9, 7, 8, 5]],\n",
              "\n",
              "       [[5, 6, 2, 4, 2],\n",
              "        [4, 8, 9, 6, 3],\n",
              "        [8, 8, 4, 0, 3],\n",
              "        [3, 4, 1, 3, 9]],\n",
              "\n",
              "       [[1, 9, 4, 5, 5],\n",
              "        [1, 0, 8, 3, 9],\n",
              "        [6, 9, 8, 9, 4],\n",
              "        [1, 9, 8, 4, 7]]])"
            ]
          },
          "metadata": {},
          "execution_count": 44
        }
      ]
    },
    {
      "cell_type": "markdown",
      "source": [
        "## Indexing"
      ],
      "metadata": {
        "id": "x6najx_2903x"
      }
    },
    {
      "cell_type": "markdown",
      "source": [
        "⚠️ **For one dimensional arrays, NumPy indexing is similar to Python list indexing.**"
      ],
      "metadata": {
        "id": "38xCt1XR_F6s"
      }
    },
    {
      "cell_type": "code",
      "source": [
        "arr = np.arange(10)\n",
        "arr"
      ],
      "metadata": {
        "colab": {
          "base_uri": "https://localhost:8080/"
        },
        "id": "uNuZ6VTv-KmS",
        "outputId": "61f9cd10-adaf-49db-8e02-7da0cbce3e16",
        "ExecuteTime": {
          "end_time": "2023-09-09T19:24:56.020575Z",
          "start_time": "2023-09-09T19:24:52.938485Z"
        }
      },
      "execution_count": 45,
      "outputs": [
        {
          "output_type": "execute_result",
          "data": {
            "text/plain": [
              "array([0, 1, 2, 3, 4, 5, 6, 7, 8, 9])"
            ]
          },
          "metadata": {},
          "execution_count": 45
        }
      ]
    },
    {
      "cell_type": "code",
      "source": [
        "arr[0]  # get the first element"
      ],
      "metadata": {
        "colab": {
          "base_uri": "https://localhost:8080/"
        },
        "id": "59V4DeO6-S3E",
        "outputId": "eaab6f90-3f7a-47b1-f78e-cde743b92174",
        "ExecuteTime": {
          "end_time": "2023-09-09T19:24:56.020838Z",
          "start_time": "2023-09-09T19:24:52.941397Z"
        }
      },
      "execution_count": 46,
      "outputs": [
        {
          "output_type": "execute_result",
          "data": {
            "text/plain": [
              "0"
            ]
          },
          "metadata": {},
          "execution_count": 46
        }
      ]
    },
    {
      "cell_type": "code",
      "source": [
        "arr[-1]  # get the last element"
      ],
      "metadata": {
        "colab": {
          "base_uri": "https://localhost:8080/"
        },
        "id": "Yp6PPRvX-bRO",
        "outputId": "8218234f-2c5a-479e-d0e9-9868d30ea6e2",
        "ExecuteTime": {
          "end_time": "2023-09-09T19:24:56.021024Z",
          "start_time": "2023-09-09T19:24:52.943596Z"
        }
      },
      "execution_count": 47,
      "outputs": [
        {
          "output_type": "execute_result",
          "data": {
            "text/plain": [
              "9"
            ]
          },
          "metadata": {},
          "execution_count": 47
        }
      ]
    },
    {
      "cell_type": "code",
      "source": [
        "arr[2:]  # get elements from position 2 forward"
      ],
      "metadata": {
        "colab": {
          "base_uri": "https://localhost:8080/"
        },
        "id": "1VAPTT8V-bL6",
        "outputId": "1e96087c-7f82-4296-a2b5-190fe004e3cf",
        "ExecuteTime": {
          "end_time": "2023-09-09T19:24:56.021230Z",
          "start_time": "2023-09-09T19:24:52.946226Z"
        }
      },
      "execution_count": 48,
      "outputs": [
        {
          "output_type": "execute_result",
          "data": {
            "text/plain": [
              "array([2, 3, 4, 5, 6, 7, 8, 9])"
            ]
          },
          "metadata": {},
          "execution_count": 48
        }
      ]
    },
    {
      "cell_type": "code",
      "source": [
        "arr[1:3]  # get elements from position 1 to position 2"
      ],
      "metadata": {
        "colab": {
          "base_uri": "https://localhost:8080/"
        },
        "id": "pDTo8Yvg-bFD",
        "outputId": "2eb1a561-10e0-4b4c-98f1-c861ec97dd4b",
        "ExecuteTime": {
          "end_time": "2023-09-09T19:24:56.021406Z",
          "start_time": "2023-09-09T19:24:52.949416Z"
        }
      },
      "execution_count": 49,
      "outputs": [
        {
          "output_type": "execute_result",
          "data": {
            "text/plain": [
              "array([1, 2])"
            ]
          },
          "metadata": {},
          "execution_count": 49
        }
      ]
    },
    {
      "cell_type": "markdown",
      "metadata": {
        "id": "b8Fm5np3XYU1"
      },
      "source": [
        "### Multi-dimensional indexing"
      ]
    },
    {
      "cell_type": "code",
      "metadata": {
        "id": "mJkx2LTySQml",
        "ExecuteTime": {
          "end_time": "2023-09-09T19:24:56.115346Z",
          "start_time": "2023-09-09T19:24:52.954336Z"
        }
      },
      "source": [
        "arr_multi = np.array([[1, 2, 3],\n",
        "                      [4, 5, 6]])"
      ],
      "execution_count": 50,
      "outputs": []
    },
    {
      "cell_type": "code",
      "metadata": {
        "colab": {
          "base_uri": "https://localhost:8080/"
        },
        "id": "O1N2Lt5YSQjN",
        "outputId": "e4c2874f-4a03-497d-b1f6-b2625adb0b00",
        "ExecuteTime": {
          "end_time": "2023-09-09T19:24:56.115713Z",
          "start_time": "2023-09-09T19:24:52.956843Z"
        }
      },
      "source": [
        "arr_multi[:, 0]  # extract the first column"
      ],
      "execution_count": 51,
      "outputs": [
        {
          "output_type": "execute_result",
          "data": {
            "text/plain": [
              "array([1, 4])"
            ]
          },
          "metadata": {},
          "execution_count": 51
        }
      ]
    },
    {
      "cell_type": "code",
      "metadata": {
        "colab": {
          "base_uri": "https://localhost:8080/"
        },
        "id": "k19V56A5SQhJ",
        "outputId": "2bb6fb3c-3dc5-4cce-ba76-0c0f0bd038e0",
        "ExecuteTime": {
          "end_time": "2023-09-09T19:24:56.115913Z",
          "start_time": "2023-09-09T19:24:52.959064Z"
        }
      },
      "source": [
        "arr_multi[:, -1]  # extract the last column"
      ],
      "execution_count": 52,
      "outputs": [
        {
          "output_type": "execute_result",
          "data": {
            "text/plain": [
              "array([3, 6])"
            ]
          },
          "metadata": {},
          "execution_count": 52
        }
      ]
    },
    {
      "cell_type": "markdown",
      "source": [
        "## Array attributes"
      ],
      "metadata": {
        "id": "u-TqLnNsAKtj"
      }
    },
    {
      "cell_type": "code",
      "source": [
        "arr_multi = np.array([[1, 2, 3],\n",
        "                      [4, 5, 6]])"
      ],
      "metadata": {
        "id": "JlJvz4wHAAIx",
        "ExecuteTime": {
          "end_time": "2023-09-09T19:24:56.296980Z",
          "start_time": "2023-09-09T19:24:52.970537Z"
        }
      },
      "execution_count": 53,
      "outputs": []
    },
    {
      "cell_type": "code",
      "source": [
        "arr_multi.ndim  # number of dimensions"
      ],
      "metadata": {
        "colab": {
          "base_uri": "https://localhost:8080/"
        },
        "id": "MXrSrNlV_1yE",
        "outputId": "c97da376-b5c9-456a-9625-f146112b99a1",
        "ExecuteTime": {
          "end_time": "2023-09-09T19:24:56.297429Z",
          "start_time": "2023-09-09T19:24:52.973102Z"
        }
      },
      "execution_count": 54,
      "outputs": [
        {
          "output_type": "execute_result",
          "data": {
            "text/plain": [
              "2"
            ]
          },
          "metadata": {},
          "execution_count": 54
        }
      ]
    },
    {
      "cell_type": "code",
      "source": [
        "arr_multi_unequal = np.array([[1, 2, 3],\n",
        "                              [4, 5, 6, 7]])\n",
        "arr_multi_unequal.ndim  # in this case, the number of dimensions is 1. In n-dimensional arrays, all sub-arrays must have the same number of elements"
      ],
      "metadata": {
        "colab": {
          "base_uri": "https://localhost:8080/"
        },
        "id": "htyNMUeRaZog",
        "outputId": "3cc9a2d1-7934-4df8-9714-220e217bd3cb",
        "ExecuteTime": {
          "end_time": "2023-09-09T19:24:57.151221Z",
          "start_time": "2023-09-09T19:24:52.977052Z"
        }
      },
      "execution_count": 55,
      "outputs": [
        {
          "output_type": "stream",
          "name": "stderr",
          "text": [
            "<ipython-input-55-dd345fcaeeb2>:1: VisibleDeprecationWarning: Creating an ndarray from ragged nested sequences (which is a list-or-tuple of lists-or-tuples-or ndarrays with different lengths or shapes) is deprecated. If you meant to do this, you must specify 'dtype=object' when creating the ndarray.\n",
            "  arr_multi_unequal = np.array([[1, 2, 3],\n"
          ]
        },
        {
          "output_type": "execute_result",
          "data": {
            "text/plain": [
              "1"
            ]
          },
          "metadata": {},
          "execution_count": 55
        }
      ]
    },
    {
      "cell_type": "code",
      "source": [
        "# arr_multi_unequal[0,2] -> this will not work because ndim = 1"
      ],
      "metadata": {
        "id": "-5xaRQGgaZad",
        "ExecuteTime": {
          "start_time": "2023-09-09T19:24:53.216486Z"
        }
      },
      "execution_count": 56,
      "outputs": []
    },
    {
      "cell_type": "code",
      "source": [
        "arr_multi.shape  # array's shape"
      ],
      "metadata": {
        "colab": {
          "base_uri": "https://localhost:8080/"
        },
        "id": "yWW24RAB_1s1",
        "outputId": "cdfbfd00-d3f3-4f98-df77-d56ec2ac182e",
        "ExecuteTime": {
          "start_time": "2023-09-09T19:24:53.217658Z"
        }
      },
      "execution_count": 57,
      "outputs": [
        {
          "output_type": "execute_result",
          "data": {
            "text/plain": [
              "(2, 3)"
            ]
          },
          "metadata": {},
          "execution_count": 57
        }
      ]
    },
    {
      "cell_type": "code",
      "source": [
        "arr_multi.size  # total number of elemets"
      ],
      "metadata": {
        "colab": {
          "base_uri": "https://localhost:8080/"
        },
        "id": "SovIkRsN_1n4",
        "outputId": "d666bd27-e547-4baa-de62-17244b1beaba",
        "ExecuteTime": {
          "start_time": "2023-09-09T19:24:53.218912Z"
        }
      },
      "execution_count": 58,
      "outputs": [
        {
          "output_type": "execute_result",
          "data": {
            "text/plain": [
              "6"
            ]
          },
          "metadata": {},
          "execution_count": 58
        }
      ]
    },
    {
      "cell_type": "markdown",
      "metadata": {
        "id": "olQ6f9k3Yc9G"
      },
      "source": [
        "## Reshaping"
      ]
    },
    {
      "cell_type": "code",
      "metadata": {
        "id": "JxTi8juzYYsM",
        "ExecuteTime": {
          "start_time": "2023-09-09T19:24:53.220026Z"
        }
      },
      "source": [
        "arr_multi = np.array([[1, 2, 3, 4],\n",
        "                      [5, 6, 7, 8],\n",
        "                      [9, 10, 11, 12]])"
      ],
      "execution_count": 59,
      "outputs": []
    },
    {
      "cell_type": "code",
      "metadata": {
        "colab": {
          "base_uri": "https://localhost:8080/"
        },
        "id": "_19qzDl5YYnZ",
        "outputId": "431b062b-8cb5-4e75-f140-c0169d816d49",
        "ExecuteTime": {
          "start_time": "2023-09-09T19:24:53.221250Z"
        }
      },
      "source": [
        "arr_multi.shape  # get the shape of the array. In this case, 3 rows of 4 columns"
      ],
      "execution_count": 60,
      "outputs": [
        {
          "output_type": "execute_result",
          "data": {
            "text/plain": [
              "(3, 4)"
            ]
          },
          "metadata": {},
          "execution_count": 60
        }
      ]
    },
    {
      "cell_type": "code",
      "metadata": {
        "colab": {
          "base_uri": "https://localhost:8080/"
        },
        "id": "RfjJnw0LYYgu",
        "outputId": "14133eb1-9f71-4e50-aba2-5bb1f90d9a85",
        "ExecuteTime": {
          "start_time": "2023-09-09T19:24:53.222524Z"
        }
      },
      "source": [
        "arr_multi.reshape((2, -1))  # reshape the array for two rows. The number of columns is inferred"
      ],
      "execution_count": 61,
      "outputs": [
        {
          "output_type": "execute_result",
          "data": {
            "text/plain": [
              "array([[ 1,  2,  3,  4,  5,  6],\n",
              "       [ 7,  8,  9, 10, 11, 12]])"
            ]
          },
          "metadata": {},
          "execution_count": 61
        }
      ]
    },
    {
      "cell_type": "code",
      "metadata": {
        "id": "YaZYiB3LYYbx",
        "colab": {
          "base_uri": "https://localhost:8080/"
        },
        "outputId": "29a070f9-96bc-456d-8c93-b15bc2d3e13f",
        "ExecuteTime": {
          "start_time": "2023-09-09T19:24:53.223844Z"
        }
      },
      "source": [
        "arr_multi.reshape((-1, 2))  # reshape the array for two columns. The number of rows is inferred"
      ],
      "execution_count": 62,
      "outputs": [
        {
          "output_type": "execute_result",
          "data": {
            "text/plain": [
              "array([[ 1,  2],\n",
              "       [ 3,  4],\n",
              "       [ 5,  6],\n",
              "       [ 7,  8],\n",
              "       [ 9, 10],\n",
              "       [11, 12]])"
            ]
          },
          "metadata": {},
          "execution_count": 62
        }
      ]
    },
    {
      "cell_type": "code",
      "metadata": {
        "id": "PeNbnQB1YYYm",
        "colab": {
          "base_uri": "https://localhost:8080/"
        },
        "outputId": "af6c928b-0398-4b4e-a8a9-88996f7b51c9",
        "ExecuteTime": {
          "start_time": "2023-09-09T19:24:53.225605Z"
        }
      },
      "source": [
        "arr_multi.reshape((4, 3))  # reshape the array for 4 rows and 3 columns"
      ],
      "execution_count": 63,
      "outputs": [
        {
          "output_type": "execute_result",
          "data": {
            "text/plain": [
              "array([[ 1,  2,  3],\n",
              "       [ 4,  5,  6],\n",
              "       [ 7,  8,  9],\n",
              "       [10, 11, 12]])"
            ]
          },
          "metadata": {},
          "execution_count": 63
        }
      ]
    },
    {
      "cell_type": "markdown",
      "metadata": {
        "id": "gFUD1wEh13q_"
      },
      "source": [
        "## Views vs. copies"
      ]
    },
    {
      "cell_type": "markdown",
      "metadata": {
        "id": "nMZmz_-T2JU_"
      },
      "source": [
        "⚠️ **Views can be seen as pointers. Copies are created by coping the full object to a new location in memory.**"
      ]
    },
    {
      "cell_type": "markdown",
      "metadata": {
        "id": "M_ZtnWto3V_Z"
      },
      "source": [
        "### Views"
      ]
    },
    {
      "cell_type": "code",
      "metadata": {
        "colab": {
          "base_uri": "https://localhost:8080/"
        },
        "id": "0CFNvuTC12h7",
        "outputId": "60fd1b25-2ef3-437a-a64f-9bb27060818d",
        "ExecuteTime": {
          "start_time": "2023-09-09T19:24:53.228297Z"
        }
      },
      "source": [
        "arr = np.random.randint(0, 100, (5, 5))\n",
        "arr"
      ],
      "execution_count": 64,
      "outputs": [
        {
          "output_type": "execute_result",
          "data": {
            "text/plain": [
              "array([[89, 21, 36, 48, 36],\n",
              "       [63, 31, 52, 11, 89],\n",
              "       [78, 95, 54, 89, 96],\n",
              "       [94, 76, 95, 83, 14],\n",
              "       [78, 43, 30, 21, 66]])"
            ]
          },
          "metadata": {},
          "execution_count": 64
        }
      ]
    },
    {
      "cell_type": "code",
      "metadata": {
        "id": "rqfx0GQQYYSW",
        "ExecuteTime": {
          "start_time": "2023-09-09T19:24:53.229635Z"
        }
      },
      "source": [
        "new_arr = arr\n",
        "new_arr[0, 0] = 3"
      ],
      "execution_count": 65,
      "outputs": []
    },
    {
      "cell_type": "code",
      "metadata": {
        "colab": {
          "base_uri": "https://localhost:8080/"
        },
        "id": "K52xAWjM3FXv",
        "outputId": "cdc83489-7723-474c-ddf1-da57ea989a48",
        "ExecuteTime": {
          "start_time": "2023-09-09T19:24:53.230398Z"
        }
      },
      "source": [
        "arr"
      ],
      "execution_count": 66,
      "outputs": [
        {
          "output_type": "execute_result",
          "data": {
            "text/plain": [
              "array([[ 3, 21, 36, 48, 36],\n",
              "       [63, 31, 52, 11, 89],\n",
              "       [78, 95, 54, 89, 96],\n",
              "       [94, 76, 95, 83, 14],\n",
              "       [78, 43, 30, 21, 66]])"
            ]
          },
          "metadata": {},
          "execution_count": 66
        }
      ]
    },
    {
      "cell_type": "code",
      "metadata": {
        "colab": {
          "base_uri": "https://localhost:8080/"
        },
        "id": "RdkPq9ys2EjZ",
        "outputId": "819ad9cc-4bb5-4279-fe1e-bd76786f6803",
        "ExecuteTime": {
          "start_time": "2023-09-09T19:24:53.231388Z"
        }
      },
      "source": [
        "hex(id(arr)) == hex(id(new_arr))  # as you can see, both variables point to the *same* memory address"
      ],
      "execution_count": 67,
      "outputs": [
        {
          "output_type": "execute_result",
          "data": {
            "text/plain": [
              "True"
            ]
          },
          "metadata": {},
          "execution_count": 67
        }
      ]
    },
    {
      "cell_type": "markdown",
      "metadata": {
        "id": "D_DxlaaR3ak3"
      },
      "source": [
        "### Copies"
      ]
    },
    {
      "cell_type": "code",
      "metadata": {
        "colab": {
          "base_uri": "https://localhost:8080/"
        },
        "id": "3ONwnYZf2uXV",
        "outputId": "ba439a75-22b3-4536-f639-b2f9d8b1cf9e",
        "ExecuteTime": {
          "start_time": "2023-09-09T19:24:53.232503Z"
        }
      },
      "source": [
        "arr = np.random.randint(0, 100, (5, 5))\n",
        "arr"
      ],
      "execution_count": 68,
      "outputs": [
        {
          "output_type": "execute_result",
          "data": {
            "text/plain": [
              "array([[15, 57, 99, 25, 14],\n",
              "       [55,  4,  4, 91, 86],\n",
              "       [35, 52, 69, 62, 16],\n",
              "       [49, 13, 75, 71, 28],\n",
              "       [17, 94, 28, 80, 14]])"
            ]
          },
          "metadata": {},
          "execution_count": 68
        }
      ]
    },
    {
      "cell_type": "code",
      "metadata": {
        "id": "zZIWSRwx2uS3",
        "ExecuteTime": {
          "start_time": "2023-09-09T19:24:53.233235Z"
        }
      },
      "source": [
        "new_arr = arr.copy()  # now we are creating a full copy\n",
        "new_arr[0, 0] = 3"
      ],
      "execution_count": 69,
      "outputs": []
    },
    {
      "cell_type": "code",
      "metadata": {
        "colab": {
          "base_uri": "https://localhost:8080/"
        },
        "id": "ybG0QSeS2uN7",
        "outputId": "81eee3f6-a012-44d5-dd6c-d4f686894dbe",
        "ExecuteTime": {
          "start_time": "2023-09-09T19:24:53.233903Z"
        }
      },
      "source": [
        "arr"
      ],
      "execution_count": 70,
      "outputs": [
        {
          "output_type": "execute_result",
          "data": {
            "text/plain": [
              "array([[15, 57, 99, 25, 14],\n",
              "       [55,  4,  4, 91, 86],\n",
              "       [35, 52, 69, 62, 16],\n",
              "       [49, 13, 75, 71, 28],\n",
              "       [17, 94, 28, 80, 14]])"
            ]
          },
          "metadata": {},
          "execution_count": 70
        }
      ]
    },
    {
      "cell_type": "code",
      "metadata": {
        "colab": {
          "base_uri": "https://localhost:8080/"
        },
        "id": "zJ23Nyi92uJT",
        "outputId": "579c021f-e833-470b-cc81-2069fad53acd",
        "ExecuteTime": {
          "start_time": "2023-09-09T19:24:53.234585Z"
        }
      },
      "source": [
        "hex(id(arr)) == hex(id(new_arr))  # as you can see, variables point to *different* memory addresses"
      ],
      "execution_count": 71,
      "outputs": [
        {
          "output_type": "execute_result",
          "data": {
            "text/plain": [
              "False"
            ]
          },
          "metadata": {},
          "execution_count": 71
        }
      ]
    },
    {
      "cell_type": "markdown",
      "metadata": {
        "id": "upieN2Ra3zmp"
      },
      "source": [
        "## Vectorized functions"
      ]
    },
    {
      "cell_type": "code",
      "metadata": {
        "id": "OcGlZgKF2uFi",
        "ExecuteTime": {
          "start_time": "2023-09-09T19:24:53.235483Z"
        }
      },
      "source": [
        "big_array = np.random.randint(1, 100, size=1000000)"
      ],
      "execution_count": 72,
      "outputs": []
    },
    {
      "cell_type": "code",
      "metadata": {
        "id": "dcmncYmm2uBT",
        "ExecuteTime": {
          "start_time": "2023-09-09T19:24:53.236405Z"
        }
      },
      "source": [
        "def inverse_big_array(arr):  # this function will compute 1/n in all elements in the array\n",
        "    return_arr = np.empty(len(arr))\n",
        "    for i in range(len(arr)):\n",
        "        return_arr[i] = 1 / arr[i]\n",
        "    return return_arr"
      ],
      "execution_count": 73,
      "outputs": []
    },
    {
      "cell_type": "code",
      "metadata": {
        "colab": {
          "base_uri": "https://localhost:8080/"
        },
        "id": "ReNUf8w32t7c",
        "outputId": "5fd9fb83-fb43-4705-eca8-8021833e4b8e",
        "ExecuteTime": {
          "start_time": "2023-09-09T19:24:53.237572Z"
        }
      },
      "source": [
        "%timeit inverse_big_array(big_array)"
      ],
      "execution_count": 74,
      "outputs": [
        {
          "output_type": "stream",
          "name": "stdout",
          "text": [
            "176 ms ± 5.98 ms per loop (mean ± std. dev. of 7 runs, 1 loop each)\n"
          ]
        }
      ]
    },
    {
      "cell_type": "code",
      "metadata": {
        "colab": {
          "base_uri": "https://localhost:8080/"
        },
        "id": "ebxpizka2t2_",
        "outputId": "674ef6fa-aa01-467b-8e91-d574375d4199",
        "ExecuteTime": {
          "start_time": "2023-09-09T19:24:53.238466Z"
        }
      },
      "source": [
        "%timeit (1 /big_array)"
      ],
      "execution_count": 75,
      "outputs": [
        {
          "output_type": "stream",
          "name": "stdout",
          "text": [
            "2.57 ms ± 765 µs per loop (mean ± std. dev. of 7 runs, 1000 loops each)\n"
          ]
        }
      ]
    },
    {
      "cell_type": "markdown",
      "metadata": {
        "id": "F05Za9z94eDz"
      },
      "source": [
        "⚠️ **You must use whenever possible vectorized functions available for Python. Also note that most of the arithmetic functions for Python can also be used for NumPy arrays.**"
      ]
    },
    {
      "cell_type": "code",
      "source": [
        "big_array + 20"
      ],
      "metadata": {
        "colab": {
          "base_uri": "https://localhost:8080/"
        },
        "id": "igG0tm-OAyVz",
        "outputId": "d5275ba1-e916-45a9-8445-16601899e10e",
        "ExecuteTime": {
          "start_time": "2023-09-09T19:24:53.239749Z"
        }
      },
      "execution_count": 76,
      "outputs": [
        {
          "output_type": "execute_result",
          "data": {
            "text/plain": [
              "array([ 72,  90,  63, ..., 102,  29,  66])"
            ]
          },
          "metadata": {},
          "execution_count": 76
        }
      ]
    },
    {
      "cell_type": "code",
      "source": [
        "big_array ** 2"
      ],
      "metadata": {
        "colab": {
          "base_uri": "https://localhost:8080/"
        },
        "id": "XrL5fq8mA0pE",
        "outputId": "2dc9eb1b-b8fc-4f2a-b0e2-a29520af0847",
        "ExecuteTime": {
          "start_time": "2023-09-09T19:24:53.240493Z"
        }
      },
      "execution_count": 77,
      "outputs": [
        {
          "output_type": "execute_result",
          "data": {
            "text/plain": [
              "array([2704, 4900, 1849, ..., 6724,   81, 2116])"
            ]
          },
          "metadata": {},
          "execution_count": 77
        }
      ]
    },
    {
      "cell_type": "code",
      "source": [
        "np.log(big_array)"
      ],
      "metadata": {
        "colab": {
          "base_uri": "https://localhost:8080/"
        },
        "id": "vWIacflsA19V",
        "outputId": "5986ab7e-d9a1-4572-c465-b0a43b7b1a6e",
        "ExecuteTime": {
          "start_time": "2023-09-09T19:24:53.241768Z"
        }
      },
      "execution_count": 78,
      "outputs": [
        {
          "output_type": "execute_result",
          "data": {
            "text/plain": [
              "array([3.95124372, 4.24849524, 3.76120012, ..., 4.40671925, 2.19722458,\n",
              "       3.8286414 ])"
            ]
          },
          "metadata": {},
          "execution_count": 78
        }
      ]
    },
    {
      "cell_type": "markdown",
      "metadata": {
        "id": "V-XQrJO87JLK"
      },
      "source": [
        "## Operations"
      ]
    },
    {
      "cell_type": "markdown",
      "metadata": {
        "id": "Tny3ox5K6CTs"
      },
      "source": [
        "### Aggregation functions"
      ]
    },
    {
      "cell_type": "code",
      "metadata": {
        "colab": {
          "base_uri": "https://localhost:8080/"
        },
        "id": "c-qsuAaw5j0-",
        "outputId": "9c6c8a2c-dbe9-4981-e562-0cd67795febf",
        "ExecuteTime": {
          "start_time": "2023-09-09T19:24:53.242487Z"
        }
      },
      "source": [
        "arr = np.random.randint(0, 100, (4, 5))\n",
        "arr"
      ],
      "execution_count": 79,
      "outputs": [
        {
          "output_type": "execute_result",
          "data": {
            "text/plain": [
              "array([[43, 99, 26, 38,  8],\n",
              "       [91, 71, 80, 33, 11],\n",
              "       [29, 78, 70, 50, 88],\n",
              "       [33, 28, 83, 41, 20]])"
            ]
          },
          "metadata": {},
          "execution_count": 79
        }
      ]
    },
    {
      "cell_type": "code",
      "metadata": {
        "colab": {
          "base_uri": "https://localhost:8080/"
        },
        "id": "aj23iids4dij",
        "outputId": "27ebb777-7fe1-41f3-840a-38ffda15ad58",
        "ExecuteTime": {
          "start_time": "2023-09-09T19:24:53.243792Z"
        }
      },
      "source": [
        "# if the axis is not specified, then the operation is calculated on all array\n",
        "print(f'Mean of array {arr.mean():.2f}')\n",
        "print(f'STD of array {arr.std():.2f}')\n",
        "print(f'Min of array {arr.min()}')\n",
        "print(f'Max of array {arr.max()}')\n",
        "print(f'Sum of array {arr.sum()}')"
      ],
      "execution_count": 80,
      "outputs": [
        {
          "output_type": "stream",
          "name": "stdout",
          "text": [
            "Mean of array 51.00\n",
            "STD of array 27.98\n",
            "Min of array 8\n",
            "Max of array 99\n",
            "Sum of array 1020\n"
          ]
        }
      ]
    },
    {
      "cell_type": "code",
      "metadata": {
        "colab": {
          "base_uri": "https://localhost:8080/"
        },
        "id": "q8BzmJEa56GC",
        "outputId": "8354bc59-d006-4a75-b914-13046ba9d169",
        "ExecuteTime": {
          "start_time": "2023-09-09T19:24:53.244726Z"
        }
      },
      "source": [
        "# if the `axis=0` is specified, then the operation is calculated on all columns\n",
        "print(f'Mean of each column {arr.mean(axis=0)}')\n",
        "print(f'STD of each column {arr.std(axis=0)}')\n",
        "print(f'Min of each column {arr.min(axis=0)}')\n",
        "print(f'Max of each column {arr.max(axis=0)}')\n",
        "print(f'Sum of each column {arr.sum(axis=0)}')"
      ],
      "execution_count": 81,
      "outputs": [
        {
          "output_type": "stream",
          "name": "stdout",
          "text": [
            "Mean of each column [49.   69.   64.75 40.5  31.75]\n",
            "STD of each column [24.77902339 25.81666129 22.88421945  6.18465844 32.77479977]\n",
            "Min of each column [29 28 26 33  8]\n",
            "Max of each column [91 99 83 50 88]\n",
            "Sum of each column [196 276 259 162 127]\n"
          ]
        }
      ]
    },
    {
      "cell_type": "code",
      "metadata": {
        "colab": {
          "base_uri": "https://localhost:8080/"
        },
        "id": "kq5tyBIA5vY9",
        "outputId": "86cedb77-f338-4714-d138-24fc85007f99",
        "ExecuteTime": {
          "start_time": "2023-09-09T19:24:53.245508Z"
        }
      },
      "source": [
        "# if the `axis=1` is specified, then the operation is calculated on all rows\n",
        "print(f'Mean of each row {arr.mean(axis=1)}')\n",
        "print(f'STD of each row {arr.std(axis=1)}')\n",
        "print(f'Min of each row {arr.min(axis=1)}')\n",
        "print(f'Max of each row {arr.max(axis=1)}')\n",
        "print(f'Sum of each row {arr.sum(axis=1)}')"
      ],
      "execution_count": 82,
      "outputs": [
        {
          "output_type": "stream",
          "name": "stdout",
          "text": [
            "Mean of each row [42.8 57.2 63.  41. ]\n",
            "STD of each row [30.57711563 30.24169307 21.09028212 22.0816666 ]\n",
            "Min of each row [ 8 11 29 20]\n",
            "Max of each row [99 91 88 83]\n",
            "Sum of each row [214 286 315 205]\n"
          ]
        }
      ]
    },
    {
      "cell_type": "markdown",
      "source": [
        "![image.png](data:image/png;base64,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)"
      ],
      "metadata": {
        "id": "yS6h8hH9BcSk"
      }
    },
    {
      "cell_type": "markdown",
      "metadata": {
        "id": "aNq3UJi57JEX"
      },
      "source": [
        "### Append"
      ]
    },
    {
      "cell_type": "code",
      "metadata": {
        "colab": {
          "base_uri": "https://localhost:8080/"
        },
        "id": "x6cDb51y7vNw",
        "outputId": "7aa596ab-f057-47b3-83f8-06cb28c814ab",
        "ExecuteTime": {
          "start_time": "2023-09-09T19:24:53.246564Z"
        }
      },
      "source": [
        "arr = np.random.randint(0, 100, (4, 5))\n",
        "arr"
      ],
      "execution_count": 83,
      "outputs": [
        {
          "output_type": "execute_result",
          "data": {
            "text/plain": [
              "array([[81, 39, 68, 61, 87],\n",
              "       [37, 93, 26, 57, 39],\n",
              "       [91, 25, 88, 23,  3],\n",
              "       [86, 81, 50, 94, 68]])"
            ]
          },
          "metadata": {},
          "execution_count": 83
        }
      ]
    },
    {
      "cell_type": "code",
      "metadata": {
        "colab": {
          "base_uri": "https://localhost:8080/"
        },
        "id": "SQyGgjuu7w45",
        "outputId": "32027053-81f7-42f9-bde2-0128cc32d0c8",
        "ExecuteTime": {
          "start_time": "2023-09-09T19:24:53.247358Z"
        }
      },
      "source": [
        "arr = np.append(arr, [np.random.randint(0, 100, 5)], axis=0)  # append a new row at the end of the array\n",
        "arr"
      ],
      "execution_count": 84,
      "outputs": [
        {
          "output_type": "execute_result",
          "data": {
            "text/plain": [
              "array([[81, 39, 68, 61, 87],\n",
              "       [37, 93, 26, 57, 39],\n",
              "       [91, 25, 88, 23,  3],\n",
              "       [86, 81, 50, 94, 68],\n",
              "       [24, 89, 45, 25, 15]])"
            ]
          },
          "metadata": {},
          "execution_count": 84
        }
      ]
    },
    {
      "cell_type": "code",
      "metadata": {
        "colab": {
          "base_uri": "https://localhost:8080/"
        },
        "id": "G65WFqNfUP7_",
        "outputId": "a1556cd4-e4ca-4f2f-d51e-69388add1a84",
        "ExecuteTime": {
          "start_time": "2023-09-09T19:24:53.248086Z"
        }
      },
      "source": [
        "arr = np.insert(arr, 0, [np.random.randint(0, 100, 5)], axis=0)  # add a new row on the first position of the array\n",
        "arr"
      ],
      "execution_count": 85,
      "outputs": [
        {
          "output_type": "execute_result",
          "data": {
            "text/plain": [
              "array([[96, 68, 17,  2, 43],\n",
              "       [81, 39, 68, 61, 87],\n",
              "       [37, 93, 26, 57, 39],\n",
              "       [91, 25, 88, 23,  3],\n",
              "       [86, 81, 50, 94, 68],\n",
              "       [24, 89, 45, 25, 15]])"
            ]
          },
          "metadata": {},
          "execution_count": 85
        }
      ]
    },
    {
      "cell_type": "markdown",
      "metadata": {
        "id": "6U2H3E137I-O"
      },
      "source": [
        "### Update"
      ]
    },
    {
      "cell_type": "code",
      "metadata": {
        "colab": {
          "base_uri": "https://localhost:8080/"
        },
        "id": "eFDoz5xZ9EHC",
        "outputId": "9426d3c9-a55f-4904-9666-c72fec268afb",
        "ExecuteTime": {
          "start_time": "2023-09-09T19:24:53.249027Z"
        }
      },
      "source": [
        "arr = np.random.randint(0, 100, (4, 5))\n",
        "arr"
      ],
      "execution_count": 86,
      "outputs": [
        {
          "output_type": "execute_result",
          "data": {
            "text/plain": [
              "array([[99, 84, 93, 81, 22],\n",
              "       [ 9, 62, 75, 65, 39],\n",
              "       [64, 20, 15, 93, 18],\n",
              "       [21, 48, 17, 98, 39]])"
            ]
          },
          "metadata": {},
          "execution_count": 86
        }
      ]
    },
    {
      "cell_type": "code",
      "metadata": {
        "id": "0pG5MCDw9E2C",
        "ExecuteTime": {
          "start_time": "2023-09-09T19:24:53.250052Z"
        }
      },
      "source": [
        "arr[0] = np.random.randint(0, 100, (1, 5))  # update the first row"
      ],
      "execution_count": 87,
      "outputs": []
    },
    {
      "cell_type": "code",
      "metadata": {
        "id": "Ml2qM66y9Ex-",
        "ExecuteTime": {
          "start_time": "2023-09-09T19:24:53.250823Z"
        }
      },
      "source": [
        "arr[:, -1] = np.random.randint(0, 100, (1, 4))  # update the last column"
      ],
      "execution_count": 88,
      "outputs": []
    },
    {
      "cell_type": "code",
      "metadata": {
        "id": "cqURmVup9EvU",
        "colab": {
          "base_uri": "https://localhost:8080/"
        },
        "outputId": "3b9d150c-f62e-48c2-be8f-6d693c9627fa",
        "ExecuteTime": {
          "start_time": "2023-09-09T19:24:53.251989Z"
        }
      },
      "source": [
        "mask = arr > 50\n",
        "arr = np.where(mask, 50, arr)  # updating according to a mask\n",
        "arr"
      ],
      "execution_count": 89,
      "outputs": [
        {
          "output_type": "execute_result",
          "data": {
            "text/plain": [
              "array([[29,  2, 50, 50, 49],\n",
              "       [ 9, 50, 50, 50, 50],\n",
              "       [50, 20, 15, 50,  9],\n",
              "       [21, 48, 17, 50, 43]])"
            ]
          },
          "metadata": {},
          "execution_count": 89
        }
      ]
    },
    {
      "cell_type": "code",
      "source": [
        "mask = arr == 50\n",
        "arr[mask] = arr[mask] + 1"
      ],
      "metadata": {
        "id": "GRreQQJ9B4OF",
        "ExecuteTime": {
          "start_time": "2023-09-09T19:24:53.252434Z"
        }
      },
      "execution_count": 90,
      "outputs": []
    },
    {
      "cell_type": "markdown",
      "metadata": {
        "id": "ubzds1SF7I4x"
      },
      "source": [
        "### Remove"
      ]
    },
    {
      "cell_type": "code",
      "metadata": {
        "colab": {
          "base_uri": "https://localhost:8080/"
        },
        "id": "y-2LGVf49g9s",
        "outputId": "18373ff2-baa7-48ca-a850-e1577b803bd3",
        "ExecuteTime": {
          "end_time": "2023-09-09T19:24:57.436058Z",
          "start_time": "2023-09-09T19:24:53.253035Z"
        }
      },
      "source": [
        "arr = np.arange(100)\n",
        "arr"
      ],
      "execution_count": 91,
      "outputs": [
        {
          "output_type": "execute_result",
          "data": {
            "text/plain": [
              "array([ 0,  1,  2,  3,  4,  5,  6,  7,  8,  9, 10, 11, 12, 13, 14, 15, 16,\n",
              "       17, 18, 19, 20, 21, 22, 23, 24, 25, 26, 27, 28, 29, 30, 31, 32, 33,\n",
              "       34, 35, 36, 37, 38, 39, 40, 41, 42, 43, 44, 45, 46, 47, 48, 49, 50,\n",
              "       51, 52, 53, 54, 55, 56, 57, 58, 59, 60, 61, 62, 63, 64, 65, 66, 67,\n",
              "       68, 69, 70, 71, 72, 73, 74, 75, 76, 77, 78, 79, 80, 81, 82, 83, 84,\n",
              "       85, 86, 87, 88, 89, 90, 91, 92, 93, 94, 95, 96, 97, 98, 99])"
            ]
          },
          "metadata": {},
          "execution_count": 91
        }
      ]
    },
    {
      "cell_type": "code",
      "metadata": {
        "colab": {
          "base_uri": "https://localhost:8080/"
        },
        "id": "26wmlC4n-Sdz",
        "outputId": "ac1f89e7-c416-4803-b1cb-05f5f7b975f7",
        "ExecuteTime": {
          "end_time": "2023-09-09T19:24:57.436337Z",
          "start_time": "2023-09-09T19:24:53.254238Z"
        }
      },
      "source": [
        "mask = arr % 3 == 0\n",
        "arr = arr[mask]  # use the mask to select the elements where `mask=True`\n",
        "\n",
        "arr"
      ],
      "execution_count": 92,
      "outputs": [
        {
          "output_type": "execute_result",
          "data": {
            "text/plain": [
              "array([ 0,  3,  6,  9, 12, 15, 18, 21, 24, 27, 30, 33, 36, 39, 42, 45, 48,\n",
              "       51, 54, 57, 60, 63, 66, 69, 72, 75, 78, 81, 84, 87, 90, 93, 96, 99])"
            ]
          },
          "metadata": {},
          "execution_count": 92
        }
      ]
    },
    {
      "cell_type": "markdown",
      "source": [
        "### Transpose"
      ],
      "metadata": {
        "id": "hxg54pAhduFE"
      }
    },
    {
      "cell_type": "code",
      "source": [
        "arr = np.random.rand(20, 100).T"
      ],
      "metadata": {
        "id": "Q9sCVXffdKZI",
        "ExecuteTime": {
          "end_time": "2023-09-09T19:24:57.471323Z",
          "start_time": "2023-09-09T19:24:53.258807Z"
        }
      },
      "execution_count": 93,
      "outputs": []
    },
    {
      "cell_type": "markdown",
      "source": [
        "### Flatten"
      ],
      "metadata": {
        "id": "8EqNbMaheLN0"
      }
    },
    {
      "cell_type": "code",
      "source": [
        "arr_fl = arr.flatten()  # collapses the array into one dimension"
      ],
      "metadata": {
        "id": "f-CAG2khdKhI",
        "ExecuteTime": {
          "end_time": "2023-09-09T19:24:57.575424Z",
          "start_time": "2023-09-09T19:24:53.275115Z"
        }
      },
      "execution_count": 94,
      "outputs": []
    },
    {
      "cell_type": "code",
      "source": [
        "arr_fl.shape"
      ],
      "metadata": {
        "colab": {
          "base_uri": "https://localhost:8080/"
        },
        "id": "XFh6a7KGeDco",
        "outputId": "7413f77c-6416-49c2-ccb4-e5ef2e257d38",
        "ExecuteTime": {
          "end_time": "2023-09-09T19:24:57.575770Z",
          "start_time": "2023-09-09T19:24:53.277504Z"
        }
      },
      "execution_count": 95,
      "outputs": [
        {
          "output_type": "execute_result",
          "data": {
            "text/plain": [
              "(2000,)"
            ]
          },
          "metadata": {},
          "execution_count": 95
        }
      ]
    },
    {
      "cell_type": "markdown",
      "metadata": {
        "id": "Kx4YDu0jQLVF"
      },
      "source": [
        "# Introduction to pandas"
      ]
    },
    {
      "cell_type": "markdown",
      "metadata": {
        "id": "XzQGfS8VQfFj"
      },
      "source": [
        "## What are DataFrames?\n",
        "\n",
        "- They are nothing more than multidimensional arrays, indexed to column and row.\n",
        "- In fact, they are a generalization of NumPy arrays.\n",
        "\n",
        "![dataframe.png](data:image/png;base64,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)\n",
        "\n"
      ]
    },
    {
      "cell_type": "code",
      "metadata": {
        "colab": {
          "base_uri": "https://localhost:8080/",
          "height": 175
        },
        "id": "IlC6-2eQQX-E",
        "outputId": "7a2e328b-a2ff-4d70-d680-7eb33ea71fca",
        "ExecuteTime": {
          "end_time": "2023-09-09T19:24:57.661963Z",
          "start_time": "2023-09-09T19:24:53.325354Z"
        }
      },
      "source": [
        "animals_dict = {'Name': ['Elephant', 'Snake', 'Goldfinch', 'Lizards'],\n",
        "                'Type': ['Mammals', 'Reptiles', 'Birds', 'Reptiles']}\n",
        "\n",
        "animals_df = pd.DataFrame(animals_dict, index=[1, 3, 5, 7])  # this will create a dataframe from a dictionary\n",
        "\n",
        "animals_df"
      ],
      "execution_count": 96,
      "outputs": [
        {
          "output_type": "execute_result",
          "data": {
            "text/plain": [
              "        Name      Type\n",
              "1   Elephant   Mammals\n",
              "3      Snake  Reptiles\n",
              "5  Goldfinch     Birds\n",
              "7    Lizards  Reptiles"
            ],
            "text/html": [
              "\n",
              "  <div id=\"df-7286670e-7498-43ec-a090-0ae35dccaf38\" class=\"colab-df-container\">\n",
              "    <div>\n",
              "<style scoped>\n",
              "    .dataframe tbody tr th:only-of-type {\n",
              "        vertical-align: middle;\n",
              "    }\n",
              "\n",
              "    .dataframe tbody tr th {\n",
              "        vertical-align: top;\n",
              "    }\n",
              "\n",
              "    .dataframe thead th {\n",
              "        text-align: right;\n",
              "    }\n",
              "</style>\n",
              "<table border=\"1\" class=\"dataframe\">\n",
              "  <thead>\n",
              "    <tr style=\"text-align: right;\">\n",
              "      <th></th>\n",
              "      <th>Name</th>\n",
              "      <th>Type</th>\n",
              "    </tr>\n",
              "  </thead>\n",
              "  <tbody>\n",
              "    <tr>\n",
              "      <th>1</th>\n",
              "      <td>Elephant</td>\n",
              "      <td>Mammals</td>\n",
              "    </tr>\n",
              "    <tr>\n",
              "      <th>3</th>\n",
              "      <td>Snake</td>\n",
              "      <td>Reptiles</td>\n",
              "    </tr>\n",
              "    <tr>\n",
              "      <th>5</th>\n",
              "      <td>Goldfinch</td>\n",
              "      <td>Birds</td>\n",
              "    </tr>\n",
              "    <tr>\n",
              "      <th>7</th>\n",
              "      <td>Lizards</td>\n",
              "      <td>Reptiles</td>\n",
              "    </tr>\n",
              "  </tbody>\n",
              "</table>\n",
              "</div>\n",
              "    <div class=\"colab-df-buttons\">\n",
              "\n",
              "  <div class=\"colab-df-container\">\n",
              "    <button class=\"colab-df-convert\" onclick=\"convertToInteractive('df-7286670e-7498-43ec-a090-0ae35dccaf38')\"\n",
              "            title=\"Convert this dataframe to an interactive table.\"\n",
              "            style=\"display:none;\">\n",
              "\n",
              "  <svg xmlns=\"http://www.w3.org/2000/svg\" height=\"24px\" viewBox=\"0 -960 960 960\">\n",
              "    <path d=\"M120-120v-720h720v720H120Zm60-500h600v-160H180v160Zm220 220h160v-160H400v160Zm0 220h160v-160H400v160ZM180-400h160v-160H180v160Zm440 0h160v-160H620v160ZM180-180h160v-160H180v160Zm440 0h160v-160H620v160Z\"/>\n",
              "  </svg>\n",
              "    </button>\n",
              "\n",
              "  <style>\n",
              "    .colab-df-container {\n",
              "      display:flex;\n",
              "      gap: 12px;\n",
              "    }\n",
              "\n",
              "    .colab-df-convert {\n",
              "      background-color: #E8F0FE;\n",
              "      border: none;\n",
              "      border-radius: 50%;\n",
              "      cursor: pointer;\n",
              "      display: none;\n",
              "      fill: #1967D2;\n",
              "      height: 32px;\n",
              "      padding: 0 0 0 0;\n",
              "      width: 32px;\n",
              "    }\n",
              "\n",
              "    .colab-df-convert:hover {\n",
              "      background-color: #E2EBFA;\n",
              "      box-shadow: 0px 1px 2px rgba(60, 64, 67, 0.3), 0px 1px 3px 1px rgba(60, 64, 67, 0.15);\n",
              "      fill: #174EA6;\n",
              "    }\n",
              "\n",
              "    .colab-df-buttons div {\n",
              "      margin-bottom: 4px;\n",
              "    }\n",
              "\n",
              "    [theme=dark] .colab-df-convert {\n",
              "      background-color: #3B4455;\n",
              "      fill: #D2E3FC;\n",
              "    }\n",
              "\n",
              "    [theme=dark] .colab-df-convert:hover {\n",
              "      background-color: #434B5C;\n",
              "      box-shadow: 0px 1px 3px 1px rgba(0, 0, 0, 0.15);\n",
              "      filter: drop-shadow(0px 1px 2px rgba(0, 0, 0, 0.3));\n",
              "      fill: #FFFFFF;\n",
              "    }\n",
              "  </style>\n",
              "\n",
              "    <script>\n",
              "      const buttonEl =\n",
              "        document.querySelector('#df-7286670e-7498-43ec-a090-0ae35dccaf38 button.colab-df-convert');\n",
              "      buttonEl.style.display =\n",
              "        google.colab.kernel.accessAllowed ? 'block' : 'none';\n",
              "\n",
              "      async function convertToInteractive(key) {\n",
              "        const element = document.querySelector('#df-7286670e-7498-43ec-a090-0ae35dccaf38');\n",
              "        const dataTable =\n",
              "          await google.colab.kernel.invokeFunction('convertToInteractive',\n",
              "                                                    [key], {});\n",
              "        if (!dataTable) return;\n",
              "\n",
              "        const docLinkHtml = 'Like what you see? Visit the ' +\n",
              "          '<a target=\"_blank\" href=https://colab.research.google.com/notebooks/data_table.ipynb>data table notebook</a>'\n",
              "          + ' to learn more about interactive tables.';\n",
              "        element.innerHTML = '';\n",
              "        dataTable['output_type'] = 'display_data';\n",
              "        await google.colab.output.renderOutput(dataTable, element);\n",
              "        const docLink = document.createElement('div');\n",
              "        docLink.innerHTML = docLinkHtml;\n",
              "        element.appendChild(docLink);\n",
              "      }\n",
              "    </script>\n",
              "  </div>\n",
              "\n",
              "\n",
              "<div id=\"df-afd0fb17-640f-42b2-a70f-933972d387a6\">\n",
              "  <button class=\"colab-df-quickchart\" onclick=\"quickchart('df-afd0fb17-640f-42b2-a70f-933972d387a6')\"\n",
              "            title=\"Suggest charts.\"\n",
              "            style=\"display:none;\">\n",
              "\n",
              "<svg xmlns=\"http://www.w3.org/2000/svg\" height=\"24px\"viewBox=\"0 0 24 24\"\n",
              "     width=\"24px\">\n",
              "    <g>\n",
              "        <path d=\"M19 3H5c-1.1 0-2 .9-2 2v14c0 1.1.9 2 2 2h14c1.1 0 2-.9 2-2V5c0-1.1-.9-2-2-2zM9 17H7v-7h2v7zm4 0h-2V7h2v10zm4 0h-2v-4h2v4z\"/>\n",
              "    </g>\n",
              "</svg>\n",
              "  </button>\n",
              "\n",
              "<style>\n",
              "  .colab-df-quickchart {\n",
              "      --bg-color: #E8F0FE;\n",
              "      --fill-color: #1967D2;\n",
              "      --hover-bg-color: #E2EBFA;\n",
              "      --hover-fill-color: #174EA6;\n",
              "      --disabled-fill-color: #AAA;\n",
              "      --disabled-bg-color: #DDD;\n",
              "  }\n",
              "\n",
              "  [theme=dark] .colab-df-quickchart {\n",
              "      --bg-color: #3B4455;\n",
              "      --fill-color: #D2E3FC;\n",
              "      --hover-bg-color: #434B5C;\n",
              "      --hover-fill-color: #FFFFFF;\n",
              "      --disabled-bg-color: #3B4455;\n",
              "      --disabled-fill-color: #666;\n",
              "  }\n",
              "\n",
              "  .colab-df-quickchart {\n",
              "    background-color: var(--bg-color);\n",
              "    border: none;\n",
              "    border-radius: 50%;\n",
              "    cursor: pointer;\n",
              "    display: none;\n",
              "    fill: var(--fill-color);\n",
              "    height: 32px;\n",
              "    padding: 0;\n",
              "    width: 32px;\n",
              "  }\n",
              "\n",
              "  .colab-df-quickchart:hover {\n",
              "    background-color: var(--hover-bg-color);\n",
              "    box-shadow: 0 1px 2px rgba(60, 64, 67, 0.3), 0 1px 3px 1px rgba(60, 64, 67, 0.15);\n",
              "    fill: var(--button-hover-fill-color);\n",
              "  }\n",
              "\n",
              "  .colab-df-quickchart-complete:disabled,\n",
              "  .colab-df-quickchart-complete:disabled:hover {\n",
              "    background-color: var(--disabled-bg-color);\n",
              "    fill: var(--disabled-fill-color);\n",
              "    box-shadow: none;\n",
              "  }\n",
              "\n",
              "  .colab-df-spinner {\n",
              "    border: 2px solid var(--fill-color);\n",
              "    border-color: transparent;\n",
              "    border-bottom-color: var(--fill-color);\n",
              "    animation:\n",
              "      spin 1s steps(1) infinite;\n",
              "  }\n",
              "\n",
              "  @keyframes spin {\n",
              "    0% {\n",
              "      border-color: transparent;\n",
              "      border-bottom-color: var(--fill-color);\n",
              "      border-left-color: var(--fill-color);\n",
              "    }\n",
              "    20% {\n",
              "      border-color: transparent;\n",
              "      border-left-color: var(--fill-color);\n",
              "      border-top-color: var(--fill-color);\n",
              "    }\n",
              "    30% {\n",
              "      border-color: transparent;\n",
              "      border-left-color: var(--fill-color);\n",
              "      border-top-color: var(--fill-color);\n",
              "      border-right-color: var(--fill-color);\n",
              "    }\n",
              "    40% {\n",
              "      border-color: transparent;\n",
              "      border-right-color: var(--fill-color);\n",
              "      border-top-color: var(--fill-color);\n",
              "    }\n",
              "    60% {\n",
              "      border-color: transparent;\n",
              "      border-right-color: var(--fill-color);\n",
              "    }\n",
              "    80% {\n",
              "      border-color: transparent;\n",
              "      border-right-color: var(--fill-color);\n",
              "      border-bottom-color: var(--fill-color);\n",
              "    }\n",
              "    90% {\n",
              "      border-color: transparent;\n",
              "      border-bottom-color: var(--fill-color);\n",
              "    }\n",
              "  }\n",
              "</style>\n",
              "\n",
              "  <script>\n",
              "    async function quickchart(key) {\n",
              "      const quickchartButtonEl =\n",
              "        document.querySelector('#' + key + ' button');\n",
              "      quickchartButtonEl.disabled = true;  // To prevent multiple clicks.\n",
              "      quickchartButtonEl.classList.add('colab-df-spinner');\n",
              "      try {\n",
              "        const charts = await google.colab.kernel.invokeFunction(\n",
              "            'suggestCharts', [key], {});\n",
              "      } catch (error) {\n",
              "        console.error('Error during call to suggestCharts:', error);\n",
              "      }\n",
              "      quickchartButtonEl.classList.remove('colab-df-spinner');\n",
              "      quickchartButtonEl.classList.add('colab-df-quickchart-complete');\n",
              "    }\n",
              "    (() => {\n",
              "      let quickchartButtonEl =\n",
              "        document.querySelector('#df-afd0fb17-640f-42b2-a70f-933972d387a6 button');\n",
              "      quickchartButtonEl.style.display =\n",
              "        google.colab.kernel.accessAllowed ? 'block' : 'none';\n",
              "    })();\n",
              "  </script>\n",
              "</div>\n",
              "    </div>\n",
              "  </div>\n"
            ]
          },
          "metadata": {},
          "execution_count": 96
        }
      ]
    },
    {
      "cell_type": "markdown",
      "metadata": {
        "id": "XprJ6_ADKDNv"
      },
      "source": [
        "## Indexing"
      ]
    },
    {
      "cell_type": "markdown",
      "metadata": {
        "id": "66JN2aCsJG6W"
      },
      "source": [
        "### Column indexing"
      ]
    },
    {
      "cell_type": "code",
      "metadata": {
        "colab": {
          "base_uri": "https://localhost:8080/"
        },
        "id": "aNlnLh-xRi9g",
        "outputId": "815db238-0499-49cf-9646-6962b338ef1f",
        "ExecuteTime": {
          "end_time": "2023-09-09T19:24:57.714822Z",
          "start_time": "2023-09-09T19:24:53.367062Z"
        }
      },
      "source": [
        "animals_df.Name  # get the `Name` column"
      ],
      "execution_count": 97,
      "outputs": [
        {
          "output_type": "execute_result",
          "data": {
            "text/plain": [
              "1     Elephant\n",
              "3        Snake\n",
              "5    Goldfinch\n",
              "7      Lizards\n",
              "Name: Name, dtype: object"
            ]
          },
          "metadata": {},
          "execution_count": 97
        }
      ]
    },
    {
      "cell_type": "markdown",
      "metadata": {
        "id": "T3tQxIw_Jj1H"
      },
      "source": [
        "### Row indexing"
      ]
    },
    {
      "cell_type": "markdown",
      "metadata": {
        "id": "VCda3EVPJv17"
      },
      "source": [
        "⚠️ **Row indexing is similar to row indexing in Python lists and NumPy arrays.**"
      ]
    },
    {
      "cell_type": "code",
      "metadata": {
        "colab": {
          "base_uri": "https://localhost:8080/"
        },
        "id": "AxqzkFDiJPgz",
        "outputId": "b8973ff7-2cfe-45ed-d39f-681ba660d0b7",
        "ExecuteTime": {
          "end_time": "2023-09-09T19:24:57.819316Z",
          "start_time": "2023-09-09T19:24:53.398351Z"
        }
      },
      "source": [
        "animals_df.iloc[0]  # get the first row"
      ],
      "execution_count": 98,
      "outputs": [
        {
          "output_type": "execute_result",
          "data": {
            "text/plain": [
              "Name    Elephant\n",
              "Type     Mammals\n",
              "Name: 1, dtype: object"
            ]
          },
          "metadata": {},
          "execution_count": 98
        }
      ]
    },
    {
      "cell_type": "code",
      "metadata": {
        "colab": {
          "base_uri": "https://localhost:8080/"
        },
        "id": "V6lMV0CdJnZ4",
        "outputId": "64cb1fe5-a95e-49ae-abd1-1f480cd4ba99",
        "ExecuteTime": {
          "end_time": "2023-09-09T19:24:57.819875Z",
          "start_time": "2023-09-09T19:24:53.400889Z"
        }
      },
      "source": [
        "animals_df.iloc[-1]  # get the last row"
      ],
      "execution_count": 99,
      "outputs": [
        {
          "output_type": "execute_result",
          "data": {
            "text/plain": [
              "Name     Lizards\n",
              "Type    Reptiles\n",
              "Name: 7, dtype: object"
            ]
          },
          "metadata": {},
          "execution_count": 99
        }
      ]
    },
    {
      "cell_type": "markdown",
      "metadata": {
        "id": "PhVWlO0vKaFx"
      },
      "source": [
        "### Row/Column indexing"
      ]
    },
    {
      "cell_type": "code",
      "metadata": {
        "colab": {
          "base_uri": "https://localhost:8080/",
          "height": 35
        },
        "id": "05or4axOKOQZ",
        "outputId": "2dc68cc6-8624-41fc-a682-36eeaca35ce9",
        "ExecuteTime": {
          "end_time": "2023-09-09T19:25:02.350604Z",
          "start_time": "2023-09-09T19:25:00.692581Z"
        }
      },
      "source": [
        "animals_df.iloc[-1].Name  # get the name of the animals on the last row"
      ],
      "execution_count": 100,
      "outputs": [
        {
          "output_type": "execute_result",
          "data": {
            "text/plain": [
              "'Lizards'"
            ],
            "application/vnd.google.colaboratory.intrinsic+json": {
              "type": "string"
            }
          },
          "metadata": {},
          "execution_count": 100
        }
      ]
    },
    {
      "cell_type": "markdown",
      "metadata": {
        "id": "75A1_lGXLpYz"
      },
      "source": [
        "### Row selection"
      ]
    },
    {
      "cell_type": "code",
      "metadata": {
        "colab": {
          "base_uri": "https://localhost:8080/",
          "height": 394
        },
        "id": "8ZqMXEaALk5M",
        "outputId": "fea98891-07ff-498d-be34-f5fbd6d5e14d"
      },
      "source": [
        "gas95_madeira_dict = {'data': ['2023-01-30',\n",
        "                               '2023-02-06',\n",
        "                               '2023-02-13',\n",
        "                               '2023-02-20',\n",
        "                               '2023-02-27',\n",
        "                               '2023-03-06',\n",
        "                               '2023-03-13',\n",
        "                               '2023-03-20',\n",
        "                               '2023-03-27',\n",
        "                               '2023-04-03',\n",
        "                               '2023-04-10'],\n",
        "                      'price': [1.608,\n",
        "                                1.642,\n",
        "                                1.62,\n",
        "                                1.599,\n",
        "                                1.605,\n",
        "                                1.604,\n",
        "                                1.61,\n",
        "                                1.615,\n",
        "                                1.59,\n",
        "                                1.6,\n",
        "                                1.625]}\n",
        "\n",
        "gas95_madeira_df = pd.DataFrame(gas95_madeira_dict)  # create a DataFrame from a dictionary\n",
        "\n",
        "gas95_madeira_df"
      ],
      "execution_count": 101,
      "outputs": [
        {
          "output_type": "execute_result",
          "data": {
            "text/plain": [
              "          data  price\n",
              "0   2023-01-30  1.608\n",
              "1   2023-02-06  1.642\n",
              "2   2023-02-13  1.620\n",
              "3   2023-02-20  1.599\n",
              "4   2023-02-27  1.605\n",
              "5   2023-03-06  1.604\n",
              "6   2023-03-13  1.610\n",
              "7   2023-03-20  1.615\n",
              "8   2023-03-27  1.590\n",
              "9   2023-04-03  1.600\n",
              "10  2023-04-10  1.625"
            ],
            "text/html": [
              "\n",
              "  <div id=\"df-dc76a19a-27c1-4376-b676-132a663af2d8\" class=\"colab-df-container\">\n",
              "    <div>\n",
              "<style scoped>\n",
              "    .dataframe tbody tr th:only-of-type {\n",
              "        vertical-align: middle;\n",
              "    }\n",
              "\n",
              "    .dataframe tbody tr th {\n",
              "        vertical-align: top;\n",
              "    }\n",
              "\n",
              "    .dataframe thead th {\n",
              "        text-align: right;\n",
              "    }\n",
              "</style>\n",
              "<table border=\"1\" class=\"dataframe\">\n",
              "  <thead>\n",
              "    <tr style=\"text-align: right;\">\n",
              "      <th></th>\n",
              "      <th>data</th>\n",
              "      <th>price</th>\n",
              "    </tr>\n",
              "  </thead>\n",
              "  <tbody>\n",
              "    <tr>\n",
              "      <th>0</th>\n",
              "      <td>2023-01-30</td>\n",
              "      <td>1.608</td>\n",
              "    </tr>\n",
              "    <tr>\n",
              "      <th>1</th>\n",
              "      <td>2023-02-06</td>\n",
              "      <td>1.642</td>\n",
              "    </tr>\n",
              "    <tr>\n",
              "      <th>2</th>\n",
              "      <td>2023-02-13</td>\n",
              "      <td>1.620</td>\n",
              "    </tr>\n",
              "    <tr>\n",
              "      <th>3</th>\n",
              "      <td>2023-02-20</td>\n",
              "      <td>1.599</td>\n",
              "    </tr>\n",
              "    <tr>\n",
              "      <th>4</th>\n",
              "      <td>2023-02-27</td>\n",
              "      <td>1.605</td>\n",
              "    </tr>\n",
              "    <tr>\n",
              "      <th>5</th>\n",
              "      <td>2023-03-06</td>\n",
              "      <td>1.604</td>\n",
              "    </tr>\n",
              "    <tr>\n",
              "      <th>6</th>\n",
              "      <td>2023-03-13</td>\n",
              "      <td>1.610</td>\n",
              "    </tr>\n",
              "    <tr>\n",
              "      <th>7</th>\n",
              "      <td>2023-03-20</td>\n",
              "      <td>1.615</td>\n",
              "    </tr>\n",
              "    <tr>\n",
              "      <th>8</th>\n",
              "      <td>2023-03-27</td>\n",
              "      <td>1.590</td>\n",
              "    </tr>\n",
              "    <tr>\n",
              "      <th>9</th>\n",
              "      <td>2023-04-03</td>\n",
              "      <td>1.600</td>\n",
              "    </tr>\n",
              "    <tr>\n",
              "      <th>10</th>\n",
              "      <td>2023-04-10</td>\n",
              "      <td>1.625</td>\n",
              "    </tr>\n",
              "  </tbody>\n",
              "</table>\n",
              "</div>\n",
              "    <div class=\"colab-df-buttons\">\n",
              "\n",
              "  <div class=\"colab-df-container\">\n",
              "    <button class=\"colab-df-convert\" onclick=\"convertToInteractive('df-dc76a19a-27c1-4376-b676-132a663af2d8')\"\n",
              "            title=\"Convert this dataframe to an interactive table.\"\n",
              "            style=\"display:none;\">\n",
              "\n",
              "  <svg xmlns=\"http://www.w3.org/2000/svg\" height=\"24px\" viewBox=\"0 -960 960 960\">\n",
              "    <path d=\"M120-120v-720h720v720H120Zm60-500h600v-160H180v160Zm220 220h160v-160H400v160Zm0 220h160v-160H400v160ZM180-400h160v-160H180v160Zm440 0h160v-160H620v160ZM180-180h160v-160H180v160Zm440 0h160v-160H620v160Z\"/>\n",
              "  </svg>\n",
              "    </button>\n",
              "\n",
              "  <style>\n",
              "    .colab-df-container {\n",
              "      display:flex;\n",
              "      gap: 12px;\n",
              "    }\n",
              "\n",
              "    .colab-df-convert {\n",
              "      background-color: #E8F0FE;\n",
              "      border: none;\n",
              "      border-radius: 50%;\n",
              "      cursor: pointer;\n",
              "      display: none;\n",
              "      fill: #1967D2;\n",
              "      height: 32px;\n",
              "      padding: 0 0 0 0;\n",
              "      width: 32px;\n",
              "    }\n",
              "\n",
              "    .colab-df-convert:hover {\n",
              "      background-color: #E2EBFA;\n",
              "      box-shadow: 0px 1px 2px rgba(60, 64, 67, 0.3), 0px 1px 3px 1px rgba(60, 64, 67, 0.15);\n",
              "      fill: #174EA6;\n",
              "    }\n",
              "\n",
              "    .colab-df-buttons div {\n",
              "      margin-bottom: 4px;\n",
              "    }\n",
              "\n",
              "    [theme=dark] .colab-df-convert {\n",
              "      background-color: #3B4455;\n",
              "      fill: #D2E3FC;\n",
              "    }\n",
              "\n",
              "    [theme=dark] .colab-df-convert:hover {\n",
              "      background-color: #434B5C;\n",
              "      box-shadow: 0px 1px 3px 1px rgba(0, 0, 0, 0.15);\n",
              "      filter: drop-shadow(0px 1px 2px rgba(0, 0, 0, 0.3));\n",
              "      fill: #FFFFFF;\n",
              "    }\n",
              "  </style>\n",
              "\n",
              "    <script>\n",
              "      const buttonEl =\n",
              "        document.querySelector('#df-dc76a19a-27c1-4376-b676-132a663af2d8 button.colab-df-convert');\n",
              "      buttonEl.style.display =\n",
              "        google.colab.kernel.accessAllowed ? 'block' : 'none';\n",
              "\n",
              "      async function convertToInteractive(key) {\n",
              "        const element = document.querySelector('#df-dc76a19a-27c1-4376-b676-132a663af2d8');\n",
              "        const dataTable =\n",
              "          await google.colab.kernel.invokeFunction('convertToInteractive',\n",
              "                                                    [key], {});\n",
              "        if (!dataTable) return;\n",
              "\n",
              "        const docLinkHtml = 'Like what you see? Visit the ' +\n",
              "          '<a target=\"_blank\" href=https://colab.research.google.com/notebooks/data_table.ipynb>data table notebook</a>'\n",
              "          + ' to learn more about interactive tables.';\n",
              "        element.innerHTML = '';\n",
              "        dataTable['output_type'] = 'display_data';\n",
              "        await google.colab.output.renderOutput(dataTable, element);\n",
              "        const docLink = document.createElement('div');\n",
              "        docLink.innerHTML = docLinkHtml;\n",
              "        element.appendChild(docLink);\n",
              "      }\n",
              "    </script>\n",
              "  </div>\n",
              "\n",
              "\n",
              "<div id=\"df-c33d9d21-4a30-4456-99ae-09b2278b531e\">\n",
              "  <button class=\"colab-df-quickchart\" onclick=\"quickchart('df-c33d9d21-4a30-4456-99ae-09b2278b531e')\"\n",
              "            title=\"Suggest charts.\"\n",
              "            style=\"display:none;\">\n",
              "\n",
              "<svg xmlns=\"http://www.w3.org/2000/svg\" height=\"24px\"viewBox=\"0 0 24 24\"\n",
              "     width=\"24px\">\n",
              "    <g>\n",
              "        <path d=\"M19 3H5c-1.1 0-2 .9-2 2v14c0 1.1.9 2 2 2h14c1.1 0 2-.9 2-2V5c0-1.1-.9-2-2-2zM9 17H7v-7h2v7zm4 0h-2V7h2v10zm4 0h-2v-4h2v4z\"/>\n",
              "    </g>\n",
              "</svg>\n",
              "  </button>\n",
              "\n",
              "<style>\n",
              "  .colab-df-quickchart {\n",
              "      --bg-color: #E8F0FE;\n",
              "      --fill-color: #1967D2;\n",
              "      --hover-bg-color: #E2EBFA;\n",
              "      --hover-fill-color: #174EA6;\n",
              "      --disabled-fill-color: #AAA;\n",
              "      --disabled-bg-color: #DDD;\n",
              "  }\n",
              "\n",
              "  [theme=dark] .colab-df-quickchart {\n",
              "      --bg-color: #3B4455;\n",
              "      --fill-color: #D2E3FC;\n",
              "      --hover-bg-color: #434B5C;\n",
              "      --hover-fill-color: #FFFFFF;\n",
              "      --disabled-bg-color: #3B4455;\n",
              "      --disabled-fill-color: #666;\n",
              "  }\n",
              "\n",
              "  .colab-df-quickchart {\n",
              "    background-color: var(--bg-color);\n",
              "    border: none;\n",
              "    border-radius: 50%;\n",
              "    cursor: pointer;\n",
              "    display: none;\n",
              "    fill: var(--fill-color);\n",
              "    height: 32px;\n",
              "    padding: 0;\n",
              "    width: 32px;\n",
              "  }\n",
              "\n",
              "  .colab-df-quickchart:hover {\n",
              "    background-color: var(--hover-bg-color);\n",
              "    box-shadow: 0 1px 2px rgba(60, 64, 67, 0.3), 0 1px 3px 1px rgba(60, 64, 67, 0.15);\n",
              "    fill: var(--button-hover-fill-color);\n",
              "  }\n",
              "\n",
              "  .colab-df-quickchart-complete:disabled,\n",
              "  .colab-df-quickchart-complete:disabled:hover {\n",
              "    background-color: var(--disabled-bg-color);\n",
              "    fill: var(--disabled-fill-color);\n",
              "    box-shadow: none;\n",
              "  }\n",
              "\n",
              "  .colab-df-spinner {\n",
              "    border: 2px solid var(--fill-color);\n",
              "    border-color: transparent;\n",
              "    border-bottom-color: var(--fill-color);\n",
              "    animation:\n",
              "      spin 1s steps(1) infinite;\n",
              "  }\n",
              "\n",
              "  @keyframes spin {\n",
              "    0% {\n",
              "      border-color: transparent;\n",
              "      border-bottom-color: var(--fill-color);\n",
              "      border-left-color: var(--fill-color);\n",
              "    }\n",
              "    20% {\n",
              "      border-color: transparent;\n",
              "      border-left-color: var(--fill-color);\n",
              "      border-top-color: var(--fill-color);\n",
              "    }\n",
              "    30% {\n",
              "      border-color: transparent;\n",
              "      border-left-color: var(--fill-color);\n",
              "      border-top-color: var(--fill-color);\n",
              "      border-right-color: var(--fill-color);\n",
              "    }\n",
              "    40% {\n",
              "      border-color: transparent;\n",
              "      border-right-color: var(--fill-color);\n",
              "      border-top-color: var(--fill-color);\n",
              "    }\n",
              "    60% {\n",
              "      border-color: transparent;\n",
              "      border-right-color: var(--fill-color);\n",
              "    }\n",
              "    80% {\n",
              "      border-color: transparent;\n",
              "      border-right-color: var(--fill-color);\n",
              "      border-bottom-color: var(--fill-color);\n",
              "    }\n",
              "    90% {\n",
              "      border-color: transparent;\n",
              "      border-bottom-color: var(--fill-color);\n",
              "    }\n",
              "  }\n",
              "</style>\n",
              "\n",
              "  <script>\n",
              "    async function quickchart(key) {\n",
              "      const quickchartButtonEl =\n",
              "        document.querySelector('#' + key + ' button');\n",
              "      quickchartButtonEl.disabled = true;  // To prevent multiple clicks.\n",
              "      quickchartButtonEl.classList.add('colab-df-spinner');\n",
              "      try {\n",
              "        const charts = await google.colab.kernel.invokeFunction(\n",
              "            'suggestCharts', [key], {});\n",
              "      } catch (error) {\n",
              "        console.error('Error during call to suggestCharts:', error);\n",
              "      }\n",
              "      quickchartButtonEl.classList.remove('colab-df-spinner');\n",
              "      quickchartButtonEl.classList.add('colab-df-quickchart-complete');\n",
              "    }\n",
              "    (() => {\n",
              "      let quickchartButtonEl =\n",
              "        document.querySelector('#df-c33d9d21-4a30-4456-99ae-09b2278b531e button');\n",
              "      quickchartButtonEl.style.display =\n",
              "        google.colab.kernel.accessAllowed ? 'block' : 'none';\n",
              "    })();\n",
              "  </script>\n",
              "</div>\n",
              "    </div>\n",
              "  </div>\n"
            ]
          },
          "metadata": {},
          "execution_count": 101
        }
      ]
    },
    {
      "cell_type": "code",
      "metadata": {
        "colab": {
          "base_uri": "https://localhost:8080/",
          "height": 206
        },
        "id": "ixBXPerCLkzI",
        "outputId": "9e41b3db-280e-4d64-a9d8-31bf09521a8c"
      },
      "source": [
        "gas95_madeira_df[gas95_madeira_df.data > '2023-03-06']  # selection based on one condition"
      ],
      "execution_count": 102,
      "outputs": [
        {
          "output_type": "execute_result",
          "data": {
            "text/plain": [
              "          data  price\n",
              "6   2023-03-13  1.610\n",
              "7   2023-03-20  1.615\n",
              "8   2023-03-27  1.590\n",
              "9   2023-04-03  1.600\n",
              "10  2023-04-10  1.625"
            ],
            "text/html": [
              "\n",
              "  <div id=\"df-dcfe2380-70a1-4e39-abb1-e96cc2b5ea4a\" class=\"colab-df-container\">\n",
              "    <div>\n",
              "<style scoped>\n",
              "    .dataframe tbody tr th:only-of-type {\n",
              "        vertical-align: middle;\n",
              "    }\n",
              "\n",
              "    .dataframe tbody tr th {\n",
              "        vertical-align: top;\n",
              "    }\n",
              "\n",
              "    .dataframe thead th {\n",
              "        text-align: right;\n",
              "    }\n",
              "</style>\n",
              "<table border=\"1\" class=\"dataframe\">\n",
              "  <thead>\n",
              "    <tr style=\"text-align: right;\">\n",
              "      <th></th>\n",
              "      <th>data</th>\n",
              "      <th>price</th>\n",
              "    </tr>\n",
              "  </thead>\n",
              "  <tbody>\n",
              "    <tr>\n",
              "      <th>6</th>\n",
              "      <td>2023-03-13</td>\n",
              "      <td>1.610</td>\n",
              "    </tr>\n",
              "    <tr>\n",
              "      <th>7</th>\n",
              "      <td>2023-03-20</td>\n",
              "      <td>1.615</td>\n",
              "    </tr>\n",
              "    <tr>\n",
              "      <th>8</th>\n",
              "      <td>2023-03-27</td>\n",
              "      <td>1.590</td>\n",
              "    </tr>\n",
              "    <tr>\n",
              "      <th>9</th>\n",
              "      <td>2023-04-03</td>\n",
              "      <td>1.600</td>\n",
              "    </tr>\n",
              "    <tr>\n",
              "      <th>10</th>\n",
              "      <td>2023-04-10</td>\n",
              "      <td>1.625</td>\n",
              "    </tr>\n",
              "  </tbody>\n",
              "</table>\n",
              "</div>\n",
              "    <div class=\"colab-df-buttons\">\n",
              "\n",
              "  <div class=\"colab-df-container\">\n",
              "    <button class=\"colab-df-convert\" onclick=\"convertToInteractive('df-dcfe2380-70a1-4e39-abb1-e96cc2b5ea4a')\"\n",
              "            title=\"Convert this dataframe to an interactive table.\"\n",
              "            style=\"display:none;\">\n",
              "\n",
              "  <svg xmlns=\"http://www.w3.org/2000/svg\" height=\"24px\" viewBox=\"0 -960 960 960\">\n",
              "    <path d=\"M120-120v-720h720v720H120Zm60-500h600v-160H180v160Zm220 220h160v-160H400v160Zm0 220h160v-160H400v160ZM180-400h160v-160H180v160Zm440 0h160v-160H620v160ZM180-180h160v-160H180v160Zm440 0h160v-160H620v160Z\"/>\n",
              "  </svg>\n",
              "    </button>\n",
              "\n",
              "  <style>\n",
              "    .colab-df-container {\n",
              "      display:flex;\n",
              "      gap: 12px;\n",
              "    }\n",
              "\n",
              "    .colab-df-convert {\n",
              "      background-color: #E8F0FE;\n",
              "      border: none;\n",
              "      border-radius: 50%;\n",
              "      cursor: pointer;\n",
              "      display: none;\n",
              "      fill: #1967D2;\n",
              "      height: 32px;\n",
              "      padding: 0 0 0 0;\n",
              "      width: 32px;\n",
              "    }\n",
              "\n",
              "    .colab-df-convert:hover {\n",
              "      background-color: #E2EBFA;\n",
              "      box-shadow: 0px 1px 2px rgba(60, 64, 67, 0.3), 0px 1px 3px 1px rgba(60, 64, 67, 0.15);\n",
              "      fill: #174EA6;\n",
              "    }\n",
              "\n",
              "    .colab-df-buttons div {\n",
              "      margin-bottom: 4px;\n",
              "    }\n",
              "\n",
              "    [theme=dark] .colab-df-convert {\n",
              "      background-color: #3B4455;\n",
              "      fill: #D2E3FC;\n",
              "    }\n",
              "\n",
              "    [theme=dark] .colab-df-convert:hover {\n",
              "      background-color: #434B5C;\n",
              "      box-shadow: 0px 1px 3px 1px rgba(0, 0, 0, 0.15);\n",
              "      filter: drop-shadow(0px 1px 2px rgba(0, 0, 0, 0.3));\n",
              "      fill: #FFFFFF;\n",
              "    }\n",
              "  </style>\n",
              "\n",
              "    <script>\n",
              "      const buttonEl =\n",
              "        document.querySelector('#df-dcfe2380-70a1-4e39-abb1-e96cc2b5ea4a button.colab-df-convert');\n",
              "      buttonEl.style.display =\n",
              "        google.colab.kernel.accessAllowed ? 'block' : 'none';\n",
              "\n",
              "      async function convertToInteractive(key) {\n",
              "        const element = document.querySelector('#df-dcfe2380-70a1-4e39-abb1-e96cc2b5ea4a');\n",
              "        const dataTable =\n",
              "          await google.colab.kernel.invokeFunction('convertToInteractive',\n",
              "                                                    [key], {});\n",
              "        if (!dataTable) return;\n",
              "\n",
              "        const docLinkHtml = 'Like what you see? Visit the ' +\n",
              "          '<a target=\"_blank\" href=https://colab.research.google.com/notebooks/data_table.ipynb>data table notebook</a>'\n",
              "          + ' to learn more about interactive tables.';\n",
              "        element.innerHTML = '';\n",
              "        dataTable['output_type'] = 'display_data';\n",
              "        await google.colab.output.renderOutput(dataTable, element);\n",
              "        const docLink = document.createElement('div');\n",
              "        docLink.innerHTML = docLinkHtml;\n",
              "        element.appendChild(docLink);\n",
              "      }\n",
              "    </script>\n",
              "  </div>\n",
              "\n",
              "\n",
              "<div id=\"df-e12e8434-e932-49e9-a638-7b1c39a750be\">\n",
              "  <button class=\"colab-df-quickchart\" onclick=\"quickchart('df-e12e8434-e932-49e9-a638-7b1c39a750be')\"\n",
              "            title=\"Suggest charts.\"\n",
              "            style=\"display:none;\">\n",
              "\n",
              "<svg xmlns=\"http://www.w3.org/2000/svg\" height=\"24px\"viewBox=\"0 0 24 24\"\n",
              "     width=\"24px\">\n",
              "    <g>\n",
              "        <path d=\"M19 3H5c-1.1 0-2 .9-2 2v14c0 1.1.9 2 2 2h14c1.1 0 2-.9 2-2V5c0-1.1-.9-2-2-2zM9 17H7v-7h2v7zm4 0h-2V7h2v10zm4 0h-2v-4h2v4z\"/>\n",
              "    </g>\n",
              "</svg>\n",
              "  </button>\n",
              "\n",
              "<style>\n",
              "  .colab-df-quickchart {\n",
              "      --bg-color: #E8F0FE;\n",
              "      --fill-color: #1967D2;\n",
              "      --hover-bg-color: #E2EBFA;\n",
              "      --hover-fill-color: #174EA6;\n",
              "      --disabled-fill-color: #AAA;\n",
              "      --disabled-bg-color: #DDD;\n",
              "  }\n",
              "\n",
              "  [theme=dark] .colab-df-quickchart {\n",
              "      --bg-color: #3B4455;\n",
              "      --fill-color: #D2E3FC;\n",
              "      --hover-bg-color: #434B5C;\n",
              "      --hover-fill-color: #FFFFFF;\n",
              "      --disabled-bg-color: #3B4455;\n",
              "      --disabled-fill-color: #666;\n",
              "  }\n",
              "\n",
              "  .colab-df-quickchart {\n",
              "    background-color: var(--bg-color);\n",
              "    border: none;\n",
              "    border-radius: 50%;\n",
              "    cursor: pointer;\n",
              "    display: none;\n",
              "    fill: var(--fill-color);\n",
              "    height: 32px;\n",
              "    padding: 0;\n",
              "    width: 32px;\n",
              "  }\n",
              "\n",
              "  .colab-df-quickchart:hover {\n",
              "    background-color: var(--hover-bg-color);\n",
              "    box-shadow: 0 1px 2px rgba(60, 64, 67, 0.3), 0 1px 3px 1px rgba(60, 64, 67, 0.15);\n",
              "    fill: var(--button-hover-fill-color);\n",
              "  }\n",
              "\n",
              "  .colab-df-quickchart-complete:disabled,\n",
              "  .colab-df-quickchart-complete:disabled:hover {\n",
              "    background-color: var(--disabled-bg-color);\n",
              "    fill: var(--disabled-fill-color);\n",
              "    box-shadow: none;\n",
              "  }\n",
              "\n",
              "  .colab-df-spinner {\n",
              "    border: 2px solid var(--fill-color);\n",
              "    border-color: transparent;\n",
              "    border-bottom-color: var(--fill-color);\n",
              "    animation:\n",
              "      spin 1s steps(1) infinite;\n",
              "  }\n",
              "\n",
              "  @keyframes spin {\n",
              "    0% {\n",
              "      border-color: transparent;\n",
              "      border-bottom-color: var(--fill-color);\n",
              "      border-left-color: var(--fill-color);\n",
              "    }\n",
              "    20% {\n",
              "      border-color: transparent;\n",
              "      border-left-color: var(--fill-color);\n",
              "      border-top-color: var(--fill-color);\n",
              "    }\n",
              "    30% {\n",
              "      border-color: transparent;\n",
              "      border-left-color: var(--fill-color);\n",
              "      border-top-color: var(--fill-color);\n",
              "      border-right-color: var(--fill-color);\n",
              "    }\n",
              "    40% {\n",
              "      border-color: transparent;\n",
              "      border-right-color: var(--fill-color);\n",
              "      border-top-color: var(--fill-color);\n",
              "    }\n",
              "    60% {\n",
              "      border-color: transparent;\n",
              "      border-right-color: var(--fill-color);\n",
              "    }\n",
              "    80% {\n",
              "      border-color: transparent;\n",
              "      border-right-color: var(--fill-color);\n",
              "      border-bottom-color: var(--fill-color);\n",
              "    }\n",
              "    90% {\n",
              "      border-color: transparent;\n",
              "      border-bottom-color: var(--fill-color);\n",
              "    }\n",
              "  }\n",
              "</style>\n",
              "\n",
              "  <script>\n",
              "    async function quickchart(key) {\n",
              "      const quickchartButtonEl =\n",
              "        document.querySelector('#' + key + ' button');\n",
              "      quickchartButtonEl.disabled = true;  // To prevent multiple clicks.\n",
              "      quickchartButtonEl.classList.add('colab-df-spinner');\n",
              "      try {\n",
              "        const charts = await google.colab.kernel.invokeFunction(\n",
              "            'suggestCharts', [key], {});\n",
              "      } catch (error) {\n",
              "        console.error('Error during call to suggestCharts:', error);\n",
              "      }\n",
              "      quickchartButtonEl.classList.remove('colab-df-spinner');\n",
              "      quickchartButtonEl.classList.add('colab-df-quickchart-complete');\n",
              "    }\n",
              "    (() => {\n",
              "      let quickchartButtonEl =\n",
              "        document.querySelector('#df-e12e8434-e932-49e9-a638-7b1c39a750be button');\n",
              "      quickchartButtonEl.style.display =\n",
              "        google.colab.kernel.accessAllowed ? 'block' : 'none';\n",
              "    })();\n",
              "  </script>\n",
              "</div>\n",
              "    </div>\n",
              "  </div>\n"
            ]
          },
          "metadata": {},
          "execution_count": 102
        }
      ]
    },
    {
      "cell_type": "code",
      "metadata": {
        "colab": {
          "base_uri": "https://localhost:8080/",
          "height": 238
        },
        "id": "ZYIfW8VxLkfV",
        "outputId": "d910583d-883a-4a0c-9f00-af0764fae2bf"
      },
      "source": [
        "gas95_madeira_df[(gas95_madeira_df.price > 1.5) & (gas95_madeira_df.price < 1.61)]  # selection based on two conditions"
      ],
      "execution_count": 103,
      "outputs": [
        {
          "output_type": "execute_result",
          "data": {
            "text/plain": [
              "         data  price\n",
              "0  2023-01-30  1.608\n",
              "3  2023-02-20  1.599\n",
              "4  2023-02-27  1.605\n",
              "5  2023-03-06  1.604\n",
              "8  2023-03-27  1.590\n",
              "9  2023-04-03  1.600"
            ],
            "text/html": [
              "\n",
              "  <div id=\"df-4c93b369-287d-4af8-ab26-4e19f19a191b\" class=\"colab-df-container\">\n",
              "    <div>\n",
              "<style scoped>\n",
              "    .dataframe tbody tr th:only-of-type {\n",
              "        vertical-align: middle;\n",
              "    }\n",
              "\n",
              "    .dataframe tbody tr th {\n",
              "        vertical-align: top;\n",
              "    }\n",
              "\n",
              "    .dataframe thead th {\n",
              "        text-align: right;\n",
              "    }\n",
              "</style>\n",
              "<table border=\"1\" class=\"dataframe\">\n",
              "  <thead>\n",
              "    <tr style=\"text-align: right;\">\n",
              "      <th></th>\n",
              "      <th>data</th>\n",
              "      <th>price</th>\n",
              "    </tr>\n",
              "  </thead>\n",
              "  <tbody>\n",
              "    <tr>\n",
              "      <th>0</th>\n",
              "      <td>2023-01-30</td>\n",
              "      <td>1.608</td>\n",
              "    </tr>\n",
              "    <tr>\n",
              "      <th>3</th>\n",
              "      <td>2023-02-20</td>\n",
              "      <td>1.599</td>\n",
              "    </tr>\n",
              "    <tr>\n",
              "      <th>4</th>\n",
              "      <td>2023-02-27</td>\n",
              "      <td>1.605</td>\n",
              "    </tr>\n",
              "    <tr>\n",
              "      <th>5</th>\n",
              "      <td>2023-03-06</td>\n",
              "      <td>1.604</td>\n",
              "    </tr>\n",
              "    <tr>\n",
              "      <th>8</th>\n",
              "      <td>2023-03-27</td>\n",
              "      <td>1.590</td>\n",
              "    </tr>\n",
              "    <tr>\n",
              "      <th>9</th>\n",
              "      <td>2023-04-03</td>\n",
              "      <td>1.600</td>\n",
              "    </tr>\n",
              "  </tbody>\n",
              "</table>\n",
              "</div>\n",
              "    <div class=\"colab-df-buttons\">\n",
              "\n",
              "  <div class=\"colab-df-container\">\n",
              "    <button class=\"colab-df-convert\" onclick=\"convertToInteractive('df-4c93b369-287d-4af8-ab26-4e19f19a191b')\"\n",
              "            title=\"Convert this dataframe to an interactive table.\"\n",
              "            style=\"display:none;\">\n",
              "\n",
              "  <svg xmlns=\"http://www.w3.org/2000/svg\" height=\"24px\" viewBox=\"0 -960 960 960\">\n",
              "    <path d=\"M120-120v-720h720v720H120Zm60-500h600v-160H180v160Zm220 220h160v-160H400v160Zm0 220h160v-160H400v160ZM180-400h160v-160H180v160Zm440 0h160v-160H620v160ZM180-180h160v-160H180v160Zm440 0h160v-160H620v160Z\"/>\n",
              "  </svg>\n",
              "    </button>\n",
              "\n",
              "  <style>\n",
              "    .colab-df-container {\n",
              "      display:flex;\n",
              "      gap: 12px;\n",
              "    }\n",
              "\n",
              "    .colab-df-convert {\n",
              "      background-color: #E8F0FE;\n",
              "      border: none;\n",
              "      border-radius: 50%;\n",
              "      cursor: pointer;\n",
              "      display: none;\n",
              "      fill: #1967D2;\n",
              "      height: 32px;\n",
              "      padding: 0 0 0 0;\n",
              "      width: 32px;\n",
              "    }\n",
              "\n",
              "    .colab-df-convert:hover {\n",
              "      background-color: #E2EBFA;\n",
              "      box-shadow: 0px 1px 2px rgba(60, 64, 67, 0.3), 0px 1px 3px 1px rgba(60, 64, 67, 0.15);\n",
              "      fill: #174EA6;\n",
              "    }\n",
              "\n",
              "    .colab-df-buttons div {\n",
              "      margin-bottom: 4px;\n",
              "    }\n",
              "\n",
              "    [theme=dark] .colab-df-convert {\n",
              "      background-color: #3B4455;\n",
              "      fill: #D2E3FC;\n",
              "    }\n",
              "\n",
              "    [theme=dark] .colab-df-convert:hover {\n",
              "      background-color: #434B5C;\n",
              "      box-shadow: 0px 1px 3px 1px rgba(0, 0, 0, 0.15);\n",
              "      filter: drop-shadow(0px 1px 2px rgba(0, 0, 0, 0.3));\n",
              "      fill: #FFFFFF;\n",
              "    }\n",
              "  </style>\n",
              "\n",
              "    <script>\n",
              "      const buttonEl =\n",
              "        document.querySelector('#df-4c93b369-287d-4af8-ab26-4e19f19a191b button.colab-df-convert');\n",
              "      buttonEl.style.display =\n",
              "        google.colab.kernel.accessAllowed ? 'block' : 'none';\n",
              "\n",
              "      async function convertToInteractive(key) {\n",
              "        const element = document.querySelector('#df-4c93b369-287d-4af8-ab26-4e19f19a191b');\n",
              "        const dataTable =\n",
              "          await google.colab.kernel.invokeFunction('convertToInteractive',\n",
              "                                                    [key], {});\n",
              "        if (!dataTable) return;\n",
              "\n",
              "        const docLinkHtml = 'Like what you see? Visit the ' +\n",
              "          '<a target=\"_blank\" href=https://colab.research.google.com/notebooks/data_table.ipynb>data table notebook</a>'\n",
              "          + ' to learn more about interactive tables.';\n",
              "        element.innerHTML = '';\n",
              "        dataTable['output_type'] = 'display_data';\n",
              "        await google.colab.output.renderOutput(dataTable, element);\n",
              "        const docLink = document.createElement('div');\n",
              "        docLink.innerHTML = docLinkHtml;\n",
              "        element.appendChild(docLink);\n",
              "      }\n",
              "    </script>\n",
              "  </div>\n",
              "\n",
              "\n",
              "<div id=\"df-9f743cad-f67f-4e9b-91ed-cf20c2350d6b\">\n",
              "  <button class=\"colab-df-quickchart\" onclick=\"quickchart('df-9f743cad-f67f-4e9b-91ed-cf20c2350d6b')\"\n",
              "            title=\"Suggest charts.\"\n",
              "            style=\"display:none;\">\n",
              "\n",
              "<svg xmlns=\"http://www.w3.org/2000/svg\" height=\"24px\"viewBox=\"0 0 24 24\"\n",
              "     width=\"24px\">\n",
              "    <g>\n",
              "        <path d=\"M19 3H5c-1.1 0-2 .9-2 2v14c0 1.1.9 2 2 2h14c1.1 0 2-.9 2-2V5c0-1.1-.9-2-2-2zM9 17H7v-7h2v7zm4 0h-2V7h2v10zm4 0h-2v-4h2v4z\"/>\n",
              "    </g>\n",
              "</svg>\n",
              "  </button>\n",
              "\n",
              "<style>\n",
              "  .colab-df-quickchart {\n",
              "      --bg-color: #E8F0FE;\n",
              "      --fill-color: #1967D2;\n",
              "      --hover-bg-color: #E2EBFA;\n",
              "      --hover-fill-color: #174EA6;\n",
              "      --disabled-fill-color: #AAA;\n",
              "      --disabled-bg-color: #DDD;\n",
              "  }\n",
              "\n",
              "  [theme=dark] .colab-df-quickchart {\n",
              "      --bg-color: #3B4455;\n",
              "      --fill-color: #D2E3FC;\n",
              "      --hover-bg-color: #434B5C;\n",
              "      --hover-fill-color: #FFFFFF;\n",
              "      --disabled-bg-color: #3B4455;\n",
              "      --disabled-fill-color: #666;\n",
              "  }\n",
              "\n",
              "  .colab-df-quickchart {\n",
              "    background-color: var(--bg-color);\n",
              "    border: none;\n",
              "    border-radius: 50%;\n",
              "    cursor: pointer;\n",
              "    display: none;\n",
              "    fill: var(--fill-color);\n",
              "    height: 32px;\n",
              "    padding: 0;\n",
              "    width: 32px;\n",
              "  }\n",
              "\n",
              "  .colab-df-quickchart:hover {\n",
              "    background-color: var(--hover-bg-color);\n",
              "    box-shadow: 0 1px 2px rgba(60, 64, 67, 0.3), 0 1px 3px 1px rgba(60, 64, 67, 0.15);\n",
              "    fill: var(--button-hover-fill-color);\n",
              "  }\n",
              "\n",
              "  .colab-df-quickchart-complete:disabled,\n",
              "  .colab-df-quickchart-complete:disabled:hover {\n",
              "    background-color: var(--disabled-bg-color);\n",
              "    fill: var(--disabled-fill-color);\n",
              "    box-shadow: none;\n",
              "  }\n",
              "\n",
              "  .colab-df-spinner {\n",
              "    border: 2px solid var(--fill-color);\n",
              "    border-color: transparent;\n",
              "    border-bottom-color: var(--fill-color);\n",
              "    animation:\n",
              "      spin 1s steps(1) infinite;\n",
              "  }\n",
              "\n",
              "  @keyframes spin {\n",
              "    0% {\n",
              "      border-color: transparent;\n",
              "      border-bottom-color: var(--fill-color);\n",
              "      border-left-color: var(--fill-color);\n",
              "    }\n",
              "    20% {\n",
              "      border-color: transparent;\n",
              "      border-left-color: var(--fill-color);\n",
              "      border-top-color: var(--fill-color);\n",
              "    }\n",
              "    30% {\n",
              "      border-color: transparent;\n",
              "      border-left-color: var(--fill-color);\n",
              "      border-top-color: var(--fill-color);\n",
              "      border-right-color: var(--fill-color);\n",
              "    }\n",
              "    40% {\n",
              "      border-color: transparent;\n",
              "      border-right-color: var(--fill-color);\n",
              "      border-top-color: var(--fill-color);\n",
              "    }\n",
              "    60% {\n",
              "      border-color: transparent;\n",
              "      border-right-color: var(--fill-color);\n",
              "    }\n",
              "    80% {\n",
              "      border-color: transparent;\n",
              "      border-right-color: var(--fill-color);\n",
              "      border-bottom-color: var(--fill-color);\n",
              "    }\n",
              "    90% {\n",
              "      border-color: transparent;\n",
              "      border-bottom-color: var(--fill-color);\n",
              "    }\n",
              "  }\n",
              "</style>\n",
              "\n",
              "  <script>\n",
              "    async function quickchart(key) {\n",
              "      const quickchartButtonEl =\n",
              "        document.querySelector('#' + key + ' button');\n",
              "      quickchartButtonEl.disabled = true;  // To prevent multiple clicks.\n",
              "      quickchartButtonEl.classList.add('colab-df-spinner');\n",
              "      try {\n",
              "        const charts = await google.colab.kernel.invokeFunction(\n",
              "            'suggestCharts', [key], {});\n",
              "      } catch (error) {\n",
              "        console.error('Error during call to suggestCharts:', error);\n",
              "      }\n",
              "      quickchartButtonEl.classList.remove('colab-df-spinner');\n",
              "      quickchartButtonEl.classList.add('colab-df-quickchart-complete');\n",
              "    }\n",
              "    (() => {\n",
              "      let quickchartButtonEl =\n",
              "        document.querySelector('#df-9f743cad-f67f-4e9b-91ed-cf20c2350d6b button');\n",
              "      quickchartButtonEl.style.display =\n",
              "        google.colab.kernel.accessAllowed ? 'block' : 'none';\n",
              "    })();\n",
              "  </script>\n",
              "</div>\n",
              "    </div>\n",
              "  </div>\n"
            ]
          },
          "metadata": {},
          "execution_count": 103
        }
      ]
    },
    {
      "cell_type": "markdown",
      "metadata": {
        "id": "XBeXtA3fW_2e"
      },
      "source": [
        "## CSV Reading"
      ]
    },
    {
      "cell_type": "code",
      "metadata": {
        "colab": {
          "base_uri": "https://localhost:8080/",
          "height": 1000
        },
        "id": "yiw7shJ5NDaR",
        "outputId": "765eb523-8111-443a-d4f8-50687905b13d"
      },
      "source": [
        "gas = pd.read_csv('https://raw.githubusercontent.com/carlosrsabreu/devo-abastecer/main/history/gas_info_history.csv')  # files can be located in the disk or online\n",
        "gas.start_date = pd.to_datetime(gas.start_date, format='%Y-%m-%d')  # convert the `data` column to date\n",
        "\n",
        "gas.end_date = pd.to_datetime(gas.end_date, format='%Y-%m-%d')  # convert the `data` column to date\n",
        "\n",
        "gas"
      ],
      "execution_count": 104,
      "outputs": [
        {
          "output_type": "execute_result",
          "data": {
            "text/plain": [
              "   start_date   end_date  gasolina_IO95  gasoleo_rodoviario  \\\n",
              "0  2022-07-25 2022-07-31          1.889               1.789   \n",
              "1  2022-08-01 2022-08-07          1.841               1.748   \n",
              "2  2022-08-08 2022-08-14          1.835               1.721   \n",
              "3  2022-08-15 2022-08-21          1.751               1.638   \n",
              "4  2022-08-22 2022-08-28          1.734               1.621   \n",
              "5  2022-08-29 2022-09-04          1.724               1.663   \n",
              "6  2022-09-05 2022-09-11          1.728               1.756   \n",
              "7  2022-09-12 2022-09-18          1.666               1.720   \n",
              "8  2022-09-19 2022-09-25          1.650               1.714   \n",
              "9  2022-10-03 2022-10-09          1.635               1.629   \n",
              "10 2022-10-10 2022-10-16          1.643               1.643   \n",
              "11 2022-10-17 2022-10-23          1.766               1.746   \n",
              "12 2022-10-31 2022-11-06          1.765               1.825   \n",
              "13 2022-11-07 2022-11-13          1.747               1.813   \n",
              "14 2022-11-14 2022-11-20          1.767               1.789   \n",
              "15 2022-11-21 2022-11-27          1.729               1.708   \n",
              "16 2022-11-28 2022-12-04          1.648               1.613   \n",
              "17 2022-12-05 2022-12-11          1.593               1.556   \n",
              "18 2022-12-12 2022-12-18          1.568               1.507   \n",
              "19 2022-12-19 2022-12-25          1.510               1.428   \n",
              "20 2022-12-26 2023-01-01          1.499               1.472   \n",
              "21 2023-01-02 2023-01-08          1.517               1.471   \n",
              "22 2023-01-09 2023-01-15          1.572               1.482   \n",
              "23 2023-01-16 2023-01-22          1.564               1.482   \n",
              "24 2023-01-23 2023-01-29          1.575               1.454   \n",
              "25 2023-01-30 2023-02-05          1.608               1.466   \n",
              "26 2023-02-06 2023-02-12          1.642               1.488   \n",
              "27 2023-02-13 2023-02-19          1.620               1.504   \n",
              "28 2023-02-20 2023-02-26          1.599               1.401   \n",
              "29 2023-02-27 2023-03-05          1.605               1.401   \n",
              "30 2023-03-06 2023-03-12          1.604               1.407   \n",
              "31 2023-03-13 2023-03-19          1.610               1.393   \n",
              "32 2023-03-20 2023-03-26          1.615               1.419   \n",
              "33 2023-03-27 2023-04-02          1.590               1.405   \n",
              "34 2023-04-03 2023-04-09          1.600               1.375   \n",
              "35 2023-04-10 2023-04-16          1.625               1.367   \n",
              "\n",
              "    gasoleo_colorido_marcado  gasolina_IO98  \n",
              "0                      1.425          2.039  \n",
              "1                      1.379          1.991  \n",
              "2                      1.354          1.985  \n",
              "3                      1.278          1.901  \n",
              "4                      1.262          1.884  \n",
              "5                      1.301          1.874  \n",
              "6                      1.386          1.878  \n",
              "7                      1.353          1.816  \n",
              "8                      1.348          1.800  \n",
              "9                      1.270          1.785  \n",
              "10                     1.283          1.793  \n",
              "11                     1.377          1.916  \n",
              "12                     1.466          1.915  \n",
              "13                     1.455          1.897  \n",
              "14                     1.433          1.917  \n",
              "15                     1.358          1.879  \n",
              "16                     1.271          1.798  \n",
              "17                     1.219          1.743  \n",
              "18                     1.174          1.718  \n",
              "19                     1.101          1.660  \n",
              "20                     1.142          1.649  \n",
              "21                     1.141          1.667  \n",
              "22                     1.151          1.722  \n",
              "23                     1.151          1.714  \n",
              "24                     1.119          1.725  \n",
              "25                     1.130          1.758  \n",
              "26                     1.151          1.792  \n",
              "27                     1.166          1.770  \n",
              "28                     1.059          1.749  \n",
              "29                     1.059          1.755  \n",
              "30                     1.065          1.754  \n",
              "31                     1.052          1.760  \n",
              "32                     1.076          1.765  \n",
              "33                     1.063          1.740  \n",
              "34                     1.030          1.750  \n",
              "35                     1.022          1.775  "
            ],
            "text/html": [
              "\n",
              "  <div id=\"df-9bae3a81-3bf6-414e-ae73-d481a14f0644\" class=\"colab-df-container\">\n",
              "    <div>\n",
              "<style scoped>\n",
              "    .dataframe tbody tr th:only-of-type {\n",
              "        vertical-align: middle;\n",
              "    }\n",
              "\n",
              "    .dataframe tbody tr th {\n",
              "        vertical-align: top;\n",
              "    }\n",
              "\n",
              "    .dataframe thead th {\n",
              "        text-align: right;\n",
              "    }\n",
              "</style>\n",
              "<table border=\"1\" class=\"dataframe\">\n",
              "  <thead>\n",
              "    <tr style=\"text-align: right;\">\n",
              "      <th></th>\n",
              "      <th>start_date</th>\n",
              "      <th>end_date</th>\n",
              "      <th>gasolina_IO95</th>\n",
              "      <th>gasoleo_rodoviario</th>\n",
              "      <th>gasoleo_colorido_marcado</th>\n",
              "      <th>gasolina_IO98</th>\n",
              "    </tr>\n",
              "  </thead>\n",
              "  <tbody>\n",
              "    <tr>\n",
              "      <th>0</th>\n",
              "      <td>2022-07-25</td>\n",
              "      <td>2022-07-31</td>\n",
              "      <td>1.889</td>\n",
              "      <td>1.789</td>\n",
              "      <td>1.425</td>\n",
              "      <td>2.039</td>\n",
              "    </tr>\n",
              "    <tr>\n",
              "      <th>1</th>\n",
              "      <td>2022-08-01</td>\n",
              "      <td>2022-08-07</td>\n",
              "      <td>1.841</td>\n",
              "      <td>1.748</td>\n",
              "      <td>1.379</td>\n",
              "      <td>1.991</td>\n",
              "    </tr>\n",
              "    <tr>\n",
              "      <th>2</th>\n",
              "      <td>2022-08-08</td>\n",
              "      <td>2022-08-14</td>\n",
              "      <td>1.835</td>\n",
              "      <td>1.721</td>\n",
              "      <td>1.354</td>\n",
              "      <td>1.985</td>\n",
              "    </tr>\n",
              "    <tr>\n",
              "      <th>3</th>\n",
              "      <td>2022-08-15</td>\n",
              "      <td>2022-08-21</td>\n",
              "      <td>1.751</td>\n",
              "      <td>1.638</td>\n",
              "      <td>1.278</td>\n",
              "      <td>1.901</td>\n",
              "    </tr>\n",
              "    <tr>\n",
              "      <th>4</th>\n",
              "      <td>2022-08-22</td>\n",
              "      <td>2022-08-28</td>\n",
              "      <td>1.734</td>\n",
              "      <td>1.621</td>\n",
              "      <td>1.262</td>\n",
              "      <td>1.884</td>\n",
              "    </tr>\n",
              "    <tr>\n",
              "      <th>5</th>\n",
              "      <td>2022-08-29</td>\n",
              "      <td>2022-09-04</td>\n",
              "      <td>1.724</td>\n",
              "      <td>1.663</td>\n",
              "      <td>1.301</td>\n",
              "      <td>1.874</td>\n",
              "    </tr>\n",
              "    <tr>\n",
              "      <th>6</th>\n",
              "      <td>2022-09-05</td>\n",
              "      <td>2022-09-11</td>\n",
              "      <td>1.728</td>\n",
              "      <td>1.756</td>\n",
              "      <td>1.386</td>\n",
              "      <td>1.878</td>\n",
              "    </tr>\n",
              "    <tr>\n",
              "      <th>7</th>\n",
              "      <td>2022-09-12</td>\n",
              "      <td>2022-09-18</td>\n",
              "      <td>1.666</td>\n",
              "      <td>1.720</td>\n",
              "      <td>1.353</td>\n",
              "      <td>1.816</td>\n",
              "    </tr>\n",
              "    <tr>\n",
              "      <th>8</th>\n",
              "      <td>2022-09-19</td>\n",
              "      <td>2022-09-25</td>\n",
              "      <td>1.650</td>\n",
              "      <td>1.714</td>\n",
              "      <td>1.348</td>\n",
              "      <td>1.800</td>\n",
              "    </tr>\n",
              "    <tr>\n",
              "      <th>9</th>\n",
              "      <td>2022-10-03</td>\n",
              "      <td>2022-10-09</td>\n",
              "      <td>1.635</td>\n",
              "      <td>1.629</td>\n",
              "      <td>1.270</td>\n",
              "      <td>1.785</td>\n",
              "    </tr>\n",
              "    <tr>\n",
              "      <th>10</th>\n",
              "      <td>2022-10-10</td>\n",
              "      <td>2022-10-16</td>\n",
              "      <td>1.643</td>\n",
              "      <td>1.643</td>\n",
              "      <td>1.283</td>\n",
              "      <td>1.793</td>\n",
              "    </tr>\n",
              "    <tr>\n",
              "      <th>11</th>\n",
              "      <td>2022-10-17</td>\n",
              "      <td>2022-10-23</td>\n",
              "      <td>1.766</td>\n",
              "      <td>1.746</td>\n",
              "      <td>1.377</td>\n",
              "      <td>1.916</td>\n",
              "    </tr>\n",
              "    <tr>\n",
              "      <th>12</th>\n",
              "      <td>2022-10-31</td>\n",
              "      <td>2022-11-06</td>\n",
              "      <td>1.765</td>\n",
              "      <td>1.825</td>\n",
              "      <td>1.466</td>\n",
              "      <td>1.915</td>\n",
              "    </tr>\n",
              "    <tr>\n",
              "      <th>13</th>\n",
              "      <td>2022-11-07</td>\n",
              "      <td>2022-11-13</td>\n",
              "      <td>1.747</td>\n",
              "      <td>1.813</td>\n",
              "      <td>1.455</td>\n",
              "      <td>1.897</td>\n",
              "    </tr>\n",
              "    <tr>\n",
              "      <th>14</th>\n",
              "      <td>2022-11-14</td>\n",
              "      <td>2022-11-20</td>\n",
              "      <td>1.767</td>\n",
              "      <td>1.789</td>\n",
              "      <td>1.433</td>\n",
              "      <td>1.917</td>\n",
              "    </tr>\n",
              "    <tr>\n",
              "      <th>15</th>\n",
              "      <td>2022-11-21</td>\n",
              "      <td>2022-11-27</td>\n",
              "      <td>1.729</td>\n",
              "      <td>1.708</td>\n",
              "      <td>1.358</td>\n",
              "      <td>1.879</td>\n",
              "    </tr>\n",
              "    <tr>\n",
              "      <th>16</th>\n",
              "      <td>2022-11-28</td>\n",
              "      <td>2022-12-04</td>\n",
              "      <td>1.648</td>\n",
              "      <td>1.613</td>\n",
              "      <td>1.271</td>\n",
              "      <td>1.798</td>\n",
              "    </tr>\n",
              "    <tr>\n",
              "      <th>17</th>\n",
              "      <td>2022-12-05</td>\n",
              "      <td>2022-12-11</td>\n",
              "      <td>1.593</td>\n",
              "      <td>1.556</td>\n",
              "      <td>1.219</td>\n",
              "      <td>1.743</td>\n",
              "    </tr>\n",
              "    <tr>\n",
              "      <th>18</th>\n",
              "      <td>2022-12-12</td>\n",
              "      <td>2022-12-18</td>\n",
              "      <td>1.568</td>\n",
              "      <td>1.507</td>\n",
              "      <td>1.174</td>\n",
              "      <td>1.718</td>\n",
              "    </tr>\n",
              "    <tr>\n",
              "      <th>19</th>\n",
              "      <td>2022-12-19</td>\n",
              "      <td>2022-12-25</td>\n",
              "      <td>1.510</td>\n",
              "      <td>1.428</td>\n",
              "      <td>1.101</td>\n",
              "      <td>1.660</td>\n",
              "    </tr>\n",
              "    <tr>\n",
              "      <th>20</th>\n",
              "      <td>2022-12-26</td>\n",
              "      <td>2023-01-01</td>\n",
              "      <td>1.499</td>\n",
              "      <td>1.472</td>\n",
              "      <td>1.142</td>\n",
              "      <td>1.649</td>\n",
              "    </tr>\n",
              "    <tr>\n",
              "      <th>21</th>\n",
              "      <td>2023-01-02</td>\n",
              "      <td>2023-01-08</td>\n",
              "      <td>1.517</td>\n",
              "      <td>1.471</td>\n",
              "      <td>1.141</td>\n",
              "      <td>1.667</td>\n",
              "    </tr>\n",
              "    <tr>\n",
              "      <th>22</th>\n",
              "      <td>2023-01-09</td>\n",
              "      <td>2023-01-15</td>\n",
              "      <td>1.572</td>\n",
              "      <td>1.482</td>\n",
              "      <td>1.151</td>\n",
              "      <td>1.722</td>\n",
              "    </tr>\n",
              "    <tr>\n",
              "      <th>23</th>\n",
              "      <td>2023-01-16</td>\n",
              "      <td>2023-01-22</td>\n",
              "      <td>1.564</td>\n",
              "      <td>1.482</td>\n",
              "      <td>1.151</td>\n",
              "      <td>1.714</td>\n",
              "    </tr>\n",
              "    <tr>\n",
              "      <th>24</th>\n",
              "      <td>2023-01-23</td>\n",
              "      <td>2023-01-29</td>\n",
              "      <td>1.575</td>\n",
              "      <td>1.454</td>\n",
              "      <td>1.119</td>\n",
              "      <td>1.725</td>\n",
              "    </tr>\n",
              "    <tr>\n",
              "      <th>25</th>\n",
              "      <td>2023-01-30</td>\n",
              "      <td>2023-02-05</td>\n",
              "      <td>1.608</td>\n",
              "      <td>1.466</td>\n",
              "      <td>1.130</td>\n",
              "      <td>1.758</td>\n",
              "    </tr>\n",
              "    <tr>\n",
              "      <th>26</th>\n",
              "      <td>2023-02-06</td>\n",
              "      <td>2023-02-12</td>\n",
              "      <td>1.642</td>\n",
              "      <td>1.488</td>\n",
              "      <td>1.151</td>\n",
              "      <td>1.792</td>\n",
              "    </tr>\n",
              "    <tr>\n",
              "      <th>27</th>\n",
              "      <td>2023-02-13</td>\n",
              "      <td>2023-02-19</td>\n",
              "      <td>1.620</td>\n",
              "      <td>1.504</td>\n",
              "      <td>1.166</td>\n",
              "      <td>1.770</td>\n",
              "    </tr>\n",
              "    <tr>\n",
              "      <th>28</th>\n",
              "      <td>2023-02-20</td>\n",
              "      <td>2023-02-26</td>\n",
              "      <td>1.599</td>\n",
              "      <td>1.401</td>\n",
              "      <td>1.059</td>\n",
              "      <td>1.749</td>\n",
              "    </tr>\n",
              "    <tr>\n",
              "      <th>29</th>\n",
              "      <td>2023-02-27</td>\n",
              "      <td>2023-03-05</td>\n",
              "      <td>1.605</td>\n",
              "      <td>1.401</td>\n",
              "      <td>1.059</td>\n",
              "      <td>1.755</td>\n",
              "    </tr>\n",
              "    <tr>\n",
              "      <th>30</th>\n",
              "      <td>2023-03-06</td>\n",
              "      <td>2023-03-12</td>\n",
              "      <td>1.604</td>\n",
              "      <td>1.407</td>\n",
              "      <td>1.065</td>\n",
              "      <td>1.754</td>\n",
              "    </tr>\n",
              "    <tr>\n",
              "      <th>31</th>\n",
              "      <td>2023-03-13</td>\n",
              "      <td>2023-03-19</td>\n",
              "      <td>1.610</td>\n",
              "      <td>1.393</td>\n",
              "      <td>1.052</td>\n",
              "      <td>1.760</td>\n",
              "    </tr>\n",
              "    <tr>\n",
              "      <th>32</th>\n",
              "      <td>2023-03-20</td>\n",
              "      <td>2023-03-26</td>\n",
              "      <td>1.615</td>\n",
              "      <td>1.419</td>\n",
              "      <td>1.076</td>\n",
              "      <td>1.765</td>\n",
              "    </tr>\n",
              "    <tr>\n",
              "      <th>33</th>\n",
              "      <td>2023-03-27</td>\n",
              "      <td>2023-04-02</td>\n",
              "      <td>1.590</td>\n",
              "      <td>1.405</td>\n",
              "      <td>1.063</td>\n",
              "      <td>1.740</td>\n",
              "    </tr>\n",
              "    <tr>\n",
              "      <th>34</th>\n",
              "      <td>2023-04-03</td>\n",
              "      <td>2023-04-09</td>\n",
              "      <td>1.600</td>\n",
              "      <td>1.375</td>\n",
              "      <td>1.030</td>\n",
              "      <td>1.750</td>\n",
              "    </tr>\n",
              "    <tr>\n",
              "      <th>35</th>\n",
              "      <td>2023-04-10</td>\n",
              "      <td>2023-04-16</td>\n",
              "      <td>1.625</td>\n",
              "      <td>1.367</td>\n",
              "      <td>1.022</td>\n",
              "      <td>1.775</td>\n",
              "    </tr>\n",
              "  </tbody>\n",
              "</table>\n",
              "</div>\n",
              "    <div class=\"colab-df-buttons\">\n",
              "\n",
              "  <div class=\"colab-df-container\">\n",
              "    <button class=\"colab-df-convert\" onclick=\"convertToInteractive('df-9bae3a81-3bf6-414e-ae73-d481a14f0644')\"\n",
              "            title=\"Convert this dataframe to an interactive table.\"\n",
              "            style=\"display:none;\">\n",
              "\n",
              "  <svg xmlns=\"http://www.w3.org/2000/svg\" height=\"24px\" viewBox=\"0 -960 960 960\">\n",
              "    <path d=\"M120-120v-720h720v720H120Zm60-500h600v-160H180v160Zm220 220h160v-160H400v160Zm0 220h160v-160H400v160ZM180-400h160v-160H180v160Zm440 0h160v-160H620v160ZM180-180h160v-160H180v160Zm440 0h160v-160H620v160Z\"/>\n",
              "  </svg>\n",
              "    </button>\n",
              "\n",
              "  <style>\n",
              "    .colab-df-container {\n",
              "      display:flex;\n",
              "      gap: 12px;\n",
              "    }\n",
              "\n",
              "    .colab-df-convert {\n",
              "      background-color: #E8F0FE;\n",
              "      border: none;\n",
              "      border-radius: 50%;\n",
              "      cursor: pointer;\n",
              "      display: none;\n",
              "      fill: #1967D2;\n",
              "      height: 32px;\n",
              "      padding: 0 0 0 0;\n",
              "      width: 32px;\n",
              "    }\n",
              "\n",
              "    .colab-df-convert:hover {\n",
              "      background-color: #E2EBFA;\n",
              "      box-shadow: 0px 1px 2px rgba(60, 64, 67, 0.3), 0px 1px 3px 1px rgba(60, 64, 67, 0.15);\n",
              "      fill: #174EA6;\n",
              "    }\n",
              "\n",
              "    .colab-df-buttons div {\n",
              "      margin-bottom: 4px;\n",
              "    }\n",
              "\n",
              "    [theme=dark] .colab-df-convert {\n",
              "      background-color: #3B4455;\n",
              "      fill: #D2E3FC;\n",
              "    }\n",
              "\n",
              "    [theme=dark] .colab-df-convert:hover {\n",
              "      background-color: #434B5C;\n",
              "      box-shadow: 0px 1px 3px 1px rgba(0, 0, 0, 0.15);\n",
              "      filter: drop-shadow(0px 1px 2px rgba(0, 0, 0, 0.3));\n",
              "      fill: #FFFFFF;\n",
              "    }\n",
              "  </style>\n",
              "\n",
              "    <script>\n",
              "      const buttonEl =\n",
              "        document.querySelector('#df-9bae3a81-3bf6-414e-ae73-d481a14f0644 button.colab-df-convert');\n",
              "      buttonEl.style.display =\n",
              "        google.colab.kernel.accessAllowed ? 'block' : 'none';\n",
              "\n",
              "      async function convertToInteractive(key) {\n",
              "        const element = document.querySelector('#df-9bae3a81-3bf6-414e-ae73-d481a14f0644');\n",
              "        const dataTable =\n",
              "          await google.colab.kernel.invokeFunction('convertToInteractive',\n",
              "                                                    [key], {});\n",
              "        if (!dataTable) return;\n",
              "\n",
              "        const docLinkHtml = 'Like what you see? Visit the ' +\n",
              "          '<a target=\"_blank\" href=https://colab.research.google.com/notebooks/data_table.ipynb>data table notebook</a>'\n",
              "          + ' to learn more about interactive tables.';\n",
              "        element.innerHTML = '';\n",
              "        dataTable['output_type'] = 'display_data';\n",
              "        await google.colab.output.renderOutput(dataTable, element);\n",
              "        const docLink = document.createElement('div');\n",
              "        docLink.innerHTML = docLinkHtml;\n",
              "        element.appendChild(docLink);\n",
              "      }\n",
              "    </script>\n",
              "  </div>\n",
              "\n",
              "\n",
              "<div id=\"df-c916aabe-bbfa-46fd-8f0f-20948968d692\">\n",
              "  <button class=\"colab-df-quickchart\" onclick=\"quickchart('df-c916aabe-bbfa-46fd-8f0f-20948968d692')\"\n",
              "            title=\"Suggest charts.\"\n",
              "            style=\"display:none;\">\n",
              "\n",
              "<svg xmlns=\"http://www.w3.org/2000/svg\" height=\"24px\"viewBox=\"0 0 24 24\"\n",
              "     width=\"24px\">\n",
              "    <g>\n",
              "        <path d=\"M19 3H5c-1.1 0-2 .9-2 2v14c0 1.1.9 2 2 2h14c1.1 0 2-.9 2-2V5c0-1.1-.9-2-2-2zM9 17H7v-7h2v7zm4 0h-2V7h2v10zm4 0h-2v-4h2v4z\"/>\n",
              "    </g>\n",
              "</svg>\n",
              "  </button>\n",
              "\n",
              "<style>\n",
              "  .colab-df-quickchart {\n",
              "      --bg-color: #E8F0FE;\n",
              "      --fill-color: #1967D2;\n",
              "      --hover-bg-color: #E2EBFA;\n",
              "      --hover-fill-color: #174EA6;\n",
              "      --disabled-fill-color: #AAA;\n",
              "      --disabled-bg-color: #DDD;\n",
              "  }\n",
              "\n",
              "  [theme=dark] .colab-df-quickchart {\n",
              "      --bg-color: #3B4455;\n",
              "      --fill-color: #D2E3FC;\n",
              "      --hover-bg-color: #434B5C;\n",
              "      --hover-fill-color: #FFFFFF;\n",
              "      --disabled-bg-color: #3B4455;\n",
              "      --disabled-fill-color: #666;\n",
              "  }\n",
              "\n",
              "  .colab-df-quickchart {\n",
              "    background-color: var(--bg-color);\n",
              "    border: none;\n",
              "    border-radius: 50%;\n",
              "    cursor: pointer;\n",
              "    display: none;\n",
              "    fill: var(--fill-color);\n",
              "    height: 32px;\n",
              "    padding: 0;\n",
              "    width: 32px;\n",
              "  }\n",
              "\n",
              "  .colab-df-quickchart:hover {\n",
              "    background-color: var(--hover-bg-color);\n",
              "    box-shadow: 0 1px 2px rgba(60, 64, 67, 0.3), 0 1px 3px 1px rgba(60, 64, 67, 0.15);\n",
              "    fill: var(--button-hover-fill-color);\n",
              "  }\n",
              "\n",
              "  .colab-df-quickchart-complete:disabled,\n",
              "  .colab-df-quickchart-complete:disabled:hover {\n",
              "    background-color: var(--disabled-bg-color);\n",
              "    fill: var(--disabled-fill-color);\n",
              "    box-shadow: none;\n",
              "  }\n",
              "\n",
              "  .colab-df-spinner {\n",
              "    border: 2px solid var(--fill-color);\n",
              "    border-color: transparent;\n",
              "    border-bottom-color: var(--fill-color);\n",
              "    animation:\n",
              "      spin 1s steps(1) infinite;\n",
              "  }\n",
              "\n",
              "  @keyframes spin {\n",
              "    0% {\n",
              "      border-color: transparent;\n",
              "      border-bottom-color: var(--fill-color);\n",
              "      border-left-color: var(--fill-color);\n",
              "    }\n",
              "    20% {\n",
              "      border-color: transparent;\n",
              "      border-left-color: var(--fill-color);\n",
              "      border-top-color: var(--fill-color);\n",
              "    }\n",
              "    30% {\n",
              "      border-color: transparent;\n",
              "      border-left-color: var(--fill-color);\n",
              "      border-top-color: var(--fill-color);\n",
              "      border-right-color: var(--fill-color);\n",
              "    }\n",
              "    40% {\n",
              "      border-color: transparent;\n",
              "      border-right-color: var(--fill-color);\n",
              "      border-top-color: var(--fill-color);\n",
              "    }\n",
              "    60% {\n",
              "      border-color: transparent;\n",
              "      border-right-color: var(--fill-color);\n",
              "    }\n",
              "    80% {\n",
              "      border-color: transparent;\n",
              "      border-right-color: var(--fill-color);\n",
              "      border-bottom-color: var(--fill-color);\n",
              "    }\n",
              "    90% {\n",
              "      border-color: transparent;\n",
              "      border-bottom-color: var(--fill-color);\n",
              "    }\n",
              "  }\n",
              "</style>\n",
              "\n",
              "  <script>\n",
              "    async function quickchart(key) {\n",
              "      const quickchartButtonEl =\n",
              "        document.querySelector('#' + key + ' button');\n",
              "      quickchartButtonEl.disabled = true;  // To prevent multiple clicks.\n",
              "      quickchartButtonEl.classList.add('colab-df-spinner');\n",
              "      try {\n",
              "        const charts = await google.colab.kernel.invokeFunction(\n",
              "            'suggestCharts', [key], {});\n",
              "      } catch (error) {\n",
              "        console.error('Error during call to suggestCharts:', error);\n",
              "      }\n",
              "      quickchartButtonEl.classList.remove('colab-df-spinner');\n",
              "      quickchartButtonEl.classList.add('colab-df-quickchart-complete');\n",
              "    }\n",
              "    (() => {\n",
              "      let quickchartButtonEl =\n",
              "        document.querySelector('#df-c916aabe-bbfa-46fd-8f0f-20948968d692 button');\n",
              "      quickchartButtonEl.style.display =\n",
              "        google.colab.kernel.accessAllowed ? 'block' : 'none';\n",
              "    })();\n",
              "  </script>\n",
              "</div>\n",
              "    </div>\n",
              "  </div>\n"
            ]
          },
          "metadata": {},
          "execution_count": 104
        }
      ]
    },
    {
      "cell_type": "markdown",
      "metadata": {
        "id": "XiRInQ75YeR5"
      },
      "source": [
        "## CSV Writing"
      ]
    },
    {
      "cell_type": "code",
      "metadata": {
        "id": "FCC5Zk5GYdwA"
      },
      "source": [
        "new_df = gas[(gas.start_date >= '2023-01-01\t') & (gas.start_date <= '2023-01-31')][['start_date', 'gasoleo_rodoviario']]  # let's create a new DataFrame with fewer data\n",
        "new_df.to_csv('gas_madeira_jan_2023.csv')"
      ],
      "execution_count": 105,
      "outputs": []
    },
    {
      "cell_type": "markdown",
      "metadata": {
        "id": "7CB0rPMLWUFM"
      },
      "source": [
        "## Operations"
      ]
    },
    {
      "cell_type": "markdown",
      "metadata": {
        "id": "QYs6-OFqbg_U"
      },
      "source": [
        "### Aggregation functions"
      ]
    },
    {
      "cell_type": "code",
      "metadata": {
        "colab": {
          "base_uri": "https://localhost:8080/"
        },
        "id": "J8wUMIojaQGO",
        "outputId": "bcc18734-43d0-4477-ffb3-ce0001bfa2e0"
      },
      "source": [
        "print(f'Mean of array {gas.gasolina_IO95.mean():.2f}')\n",
        "print(f'STD of array {gas.gasolina_IO95.std():.2f}')\n",
        "print(f'Min of array {gas.gasolina_IO95.min()}')\n",
        "print(f'Max of array {gas.gasolina_IO95.max()}')"
      ],
      "execution_count": 106,
      "outputs": [
        {
          "output_type": "stream",
          "name": "stdout",
          "text": [
            "Mean of array 1.66\n",
            "STD of array 0.10\n",
            "Min of array 1.499\n",
            "Max of array 1.889\n"
          ]
        }
      ]
    },
    {
      "cell_type": "code",
      "metadata": {
        "colab": {
          "base_uri": "https://localhost:8080/"
        },
        "id": "knLFoXIKcMz4",
        "outputId": "3fba1120-d698-4629-9442-fea0d51cc8ec"
      },
      "source": [
        "gas.gasolina_IO95.describe()  # this function can be used to quickly describe our data"
      ],
      "execution_count": 107,
      "outputs": [
        {
          "output_type": "execute_result",
          "data": {
            "text/plain": [
              "count    36.000000\n",
              "mean      1.656500\n",
              "std       0.095598\n",
              "min       1.499000\n",
              "25%       1.597500\n",
              "50%       1.630000\n",
              "75%       1.730250\n",
              "max       1.889000\n",
              "Name: gasolina_IO95, dtype: float64"
            ]
          },
          "metadata": {},
          "execution_count": 107
        }
      ]
    },
    {
      "cell_type": "markdown",
      "metadata": {
        "id": "CuzKmPRwcY09"
      },
      "source": [
        "### Vectorized functions"
      ]
    },
    {
      "cell_type": "code",
      "metadata": {
        "id": "yN4xu7FKaQZQ"
      },
      "source": [
        "gas['difference_gas'] = gas.gasolina_IO95 - np.mean(gas.gasoleo_rodoviario) # NumPy's operations work with pandas dataframes"
      ],
      "execution_count": 108,
      "outputs": []
    },
    {
      "cell_type": "markdown",
      "metadata": {
        "id": "eXYCY2oBWT9v"
      },
      "source": [
        "### Append"
      ]
    },
    {
      "cell_type": "code",
      "source": [
        "gas = pd.concat([gas, gas.iloc[[-1]]], ignore_index=True) # append a new row at the end of the array\n",
        "gas.iloc[-2:]"
      ],
      "metadata": {
        "colab": {
          "base_uri": "https://localhost:8080/",
          "height": 167
        },
        "id": "0mqRsdXyf3UO",
        "outputId": "a92abcea-5593-42b9-c93c-f5d0f70e3ec8"
      },
      "execution_count": 109,
      "outputs": [
        {
          "output_type": "execute_result",
          "data": {
            "text/plain": [
              "   start_date   end_date  gasolina_IO95  gasoleo_rodoviario  \\\n",
              "35 2023-04-10 2023-04-16          1.625               1.367   \n",
              "36 2023-04-10 2023-04-16          1.625               1.367   \n",
              "\n",
              "    gasoleo_colorido_marcado  gasolina_IO98  difference_gas  \n",
              "35                     1.022          1.775        0.052389  \n",
              "36                     1.022          1.775        0.052389  "
            ],
            "text/html": [
              "\n",
              "  <div id=\"df-5723a148-6af0-4e89-ac7c-6d3dc2677ed2\" class=\"colab-df-container\">\n",
              "    <div>\n",
              "<style scoped>\n",
              "    .dataframe tbody tr th:only-of-type {\n",
              "        vertical-align: middle;\n",
              "    }\n",
              "\n",
              "    .dataframe tbody tr th {\n",
              "        vertical-align: top;\n",
              "    }\n",
              "\n",
              "    .dataframe thead th {\n",
              "        text-align: right;\n",
              "    }\n",
              "</style>\n",
              "<table border=\"1\" class=\"dataframe\">\n",
              "  <thead>\n",
              "    <tr style=\"text-align: right;\">\n",
              "      <th></th>\n",
              "      <th>start_date</th>\n",
              "      <th>end_date</th>\n",
              "      <th>gasolina_IO95</th>\n",
              "      <th>gasoleo_rodoviario</th>\n",
              "      <th>gasoleo_colorido_marcado</th>\n",
              "      <th>gasolina_IO98</th>\n",
              "      <th>difference_gas</th>\n",
              "    </tr>\n",
              "  </thead>\n",
              "  <tbody>\n",
              "    <tr>\n",
              "      <th>35</th>\n",
              "      <td>2023-04-10</td>\n",
              "      <td>2023-04-16</td>\n",
              "      <td>1.625</td>\n",
              "      <td>1.367</td>\n",
              "      <td>1.022</td>\n",
              "      <td>1.775</td>\n",
              "      <td>0.052389</td>\n",
              "    </tr>\n",
              "    <tr>\n",
              "      <th>36</th>\n",
              "      <td>2023-04-10</td>\n",
              "      <td>2023-04-16</td>\n",
              "      <td>1.625</td>\n",
              "      <td>1.367</td>\n",
              "      <td>1.022</td>\n",
              "      <td>1.775</td>\n",
              "      <td>0.052389</td>\n",
              "    </tr>\n",
              "  </tbody>\n",
              "</table>\n",
              "</div>\n",
              "    <div class=\"colab-df-buttons\">\n",
              "\n",
              "  <div class=\"colab-df-container\">\n",
              "    <button class=\"colab-df-convert\" onclick=\"convertToInteractive('df-5723a148-6af0-4e89-ac7c-6d3dc2677ed2')\"\n",
              "            title=\"Convert this dataframe to an interactive table.\"\n",
              "            style=\"display:none;\">\n",
              "\n",
              "  <svg xmlns=\"http://www.w3.org/2000/svg\" height=\"24px\" viewBox=\"0 -960 960 960\">\n",
              "    <path d=\"M120-120v-720h720v720H120Zm60-500h600v-160H180v160Zm220 220h160v-160H400v160Zm0 220h160v-160H400v160ZM180-400h160v-160H180v160Zm440 0h160v-160H620v160ZM180-180h160v-160H180v160Zm440 0h160v-160H620v160Z\"/>\n",
              "  </svg>\n",
              "    </button>\n",
              "\n",
              "  <style>\n",
              "    .colab-df-container {\n",
              "      display:flex;\n",
              "      gap: 12px;\n",
              "    }\n",
              "\n",
              "    .colab-df-convert {\n",
              "      background-color: #E8F0FE;\n",
              "      border: none;\n",
              "      border-radius: 50%;\n",
              "      cursor: pointer;\n",
              "      display: none;\n",
              "      fill: #1967D2;\n",
              "      height: 32px;\n",
              "      padding: 0 0 0 0;\n",
              "      width: 32px;\n",
              "    }\n",
              "\n",
              "    .colab-df-convert:hover {\n",
              "      background-color: #E2EBFA;\n",
              "      box-shadow: 0px 1px 2px rgba(60, 64, 67, 0.3), 0px 1px 3px 1px rgba(60, 64, 67, 0.15);\n",
              "      fill: #174EA6;\n",
              "    }\n",
              "\n",
              "    .colab-df-buttons div {\n",
              "      margin-bottom: 4px;\n",
              "    }\n",
              "\n",
              "    [theme=dark] .colab-df-convert {\n",
              "      background-color: #3B4455;\n",
              "      fill: #D2E3FC;\n",
              "    }\n",
              "\n",
              "    [theme=dark] .colab-df-convert:hover {\n",
              "      background-color: #434B5C;\n",
              "      box-shadow: 0px 1px 3px 1px rgba(0, 0, 0, 0.15);\n",
              "      filter: drop-shadow(0px 1px 2px rgba(0, 0, 0, 0.3));\n",
              "      fill: #FFFFFF;\n",
              "    }\n",
              "  </style>\n",
              "\n",
              "    <script>\n",
              "      const buttonEl =\n",
              "        document.querySelector('#df-5723a148-6af0-4e89-ac7c-6d3dc2677ed2 button.colab-df-convert');\n",
              "      buttonEl.style.display =\n",
              "        google.colab.kernel.accessAllowed ? 'block' : 'none';\n",
              "\n",
              "      async function convertToInteractive(key) {\n",
              "        const element = document.querySelector('#df-5723a148-6af0-4e89-ac7c-6d3dc2677ed2');\n",
              "        const dataTable =\n",
              "          await google.colab.kernel.invokeFunction('convertToInteractive',\n",
              "                                                    [key], {});\n",
              "        if (!dataTable) return;\n",
              "\n",
              "        const docLinkHtml = 'Like what you see? Visit the ' +\n",
              "          '<a target=\"_blank\" href=https://colab.research.google.com/notebooks/data_table.ipynb>data table notebook</a>'\n",
              "          + ' to learn more about interactive tables.';\n",
              "        element.innerHTML = '';\n",
              "        dataTable['output_type'] = 'display_data';\n",
              "        await google.colab.output.renderOutput(dataTable, element);\n",
              "        const docLink = document.createElement('div');\n",
              "        docLink.innerHTML = docLinkHtml;\n",
              "        element.appendChild(docLink);\n",
              "      }\n",
              "    </script>\n",
              "  </div>\n",
              "\n",
              "\n",
              "<div id=\"df-5d76ebce-6ff6-4f0b-81cf-50e0a830355a\">\n",
              "  <button class=\"colab-df-quickchart\" onclick=\"quickchart('df-5d76ebce-6ff6-4f0b-81cf-50e0a830355a')\"\n",
              "            title=\"Suggest charts.\"\n",
              "            style=\"display:none;\">\n",
              "\n",
              "<svg xmlns=\"http://www.w3.org/2000/svg\" height=\"24px\"viewBox=\"0 0 24 24\"\n",
              "     width=\"24px\">\n",
              "    <g>\n",
              "        <path d=\"M19 3H5c-1.1 0-2 .9-2 2v14c0 1.1.9 2 2 2h14c1.1 0 2-.9 2-2V5c0-1.1-.9-2-2-2zM9 17H7v-7h2v7zm4 0h-2V7h2v10zm4 0h-2v-4h2v4z\"/>\n",
              "    </g>\n",
              "</svg>\n",
              "  </button>\n",
              "\n",
              "<style>\n",
              "  .colab-df-quickchart {\n",
              "      --bg-color: #E8F0FE;\n",
              "      --fill-color: #1967D2;\n",
              "      --hover-bg-color: #E2EBFA;\n",
              "      --hover-fill-color: #174EA6;\n",
              "      --disabled-fill-color: #AAA;\n",
              "      --disabled-bg-color: #DDD;\n",
              "  }\n",
              "\n",
              "  [theme=dark] .colab-df-quickchart {\n",
              "      --bg-color: #3B4455;\n",
              "      --fill-color: #D2E3FC;\n",
              "      --hover-bg-color: #434B5C;\n",
              "      --hover-fill-color: #FFFFFF;\n",
              "      --disabled-bg-color: #3B4455;\n",
              "      --disabled-fill-color: #666;\n",
              "  }\n",
              "\n",
              "  .colab-df-quickchart {\n",
              "    background-color: var(--bg-color);\n",
              "    border: none;\n",
              "    border-radius: 50%;\n",
              "    cursor: pointer;\n",
              "    display: none;\n",
              "    fill: var(--fill-color);\n",
              "    height: 32px;\n",
              "    padding: 0;\n",
              "    width: 32px;\n",
              "  }\n",
              "\n",
              "  .colab-df-quickchart:hover {\n",
              "    background-color: var(--hover-bg-color);\n",
              "    box-shadow: 0 1px 2px rgba(60, 64, 67, 0.3), 0 1px 3px 1px rgba(60, 64, 67, 0.15);\n",
              "    fill: var(--button-hover-fill-color);\n",
              "  }\n",
              "\n",
              "  .colab-df-quickchart-complete:disabled,\n",
              "  .colab-df-quickchart-complete:disabled:hover {\n",
              "    background-color: var(--disabled-bg-color);\n",
              "    fill: var(--disabled-fill-color);\n",
              "    box-shadow: none;\n",
              "  }\n",
              "\n",
              "  .colab-df-spinner {\n",
              "    border: 2px solid var(--fill-color);\n",
              "    border-color: transparent;\n",
              "    border-bottom-color: var(--fill-color);\n",
              "    animation:\n",
              "      spin 1s steps(1) infinite;\n",
              "  }\n",
              "\n",
              "  @keyframes spin {\n",
              "    0% {\n",
              "      border-color: transparent;\n",
              "      border-bottom-color: var(--fill-color);\n",
              "      border-left-color: var(--fill-color);\n",
              "    }\n",
              "    20% {\n",
              "      border-color: transparent;\n",
              "      border-left-color: var(--fill-color);\n",
              "      border-top-color: var(--fill-color);\n",
              "    }\n",
              "    30% {\n",
              "      border-color: transparent;\n",
              "      border-left-color: var(--fill-color);\n",
              "      border-top-color: var(--fill-color);\n",
              "      border-right-color: var(--fill-color);\n",
              "    }\n",
              "    40% {\n",
              "      border-color: transparent;\n",
              "      border-right-color: var(--fill-color);\n",
              "      border-top-color: var(--fill-color);\n",
              "    }\n",
              "    60% {\n",
              "      border-color: transparent;\n",
              "      border-right-color: var(--fill-color);\n",
              "    }\n",
              "    80% {\n",
              "      border-color: transparent;\n",
              "      border-right-color: var(--fill-color);\n",
              "      border-bottom-color: var(--fill-color);\n",
              "    }\n",
              "    90% {\n",
              "      border-color: transparent;\n",
              "      border-bottom-color: var(--fill-color);\n",
              "    }\n",
              "  }\n",
              "</style>\n",
              "\n",
              "  <script>\n",
              "    async function quickchart(key) {\n",
              "      const quickchartButtonEl =\n",
              "        document.querySelector('#' + key + ' button');\n",
              "      quickchartButtonEl.disabled = true;  // To prevent multiple clicks.\n",
              "      quickchartButtonEl.classList.add('colab-df-spinner');\n",
              "      try {\n",
              "        const charts = await google.colab.kernel.invokeFunction(\n",
              "            'suggestCharts', [key], {});\n",
              "      } catch (error) {\n",
              "        console.error('Error during call to suggestCharts:', error);\n",
              "      }\n",
              "      quickchartButtonEl.classList.remove('colab-df-spinner');\n",
              "      quickchartButtonEl.classList.add('colab-df-quickchart-complete');\n",
              "    }\n",
              "    (() => {\n",
              "      let quickchartButtonEl =\n",
              "        document.querySelector('#df-5d76ebce-6ff6-4f0b-81cf-50e0a830355a button');\n",
              "      quickchartButtonEl.style.display =\n",
              "        google.colab.kernel.accessAllowed ? 'block' : 'none';\n",
              "    })();\n",
              "  </script>\n",
              "</div>\n",
              "    </div>\n",
              "  </div>\n"
            ]
          },
          "metadata": {},
          "execution_count": 109
        }
      ]
    },
    {
      "cell_type": "markdown",
      "metadata": {
        "id": "nVNo7t1pWT3I"
      },
      "source": [
        "### Update"
      ]
    },
    {
      "cell_type": "code",
      "metadata": {
        "colab": {
          "base_uri": "https://localhost:8080/",
          "height": 149
        },
        "id": "5Kj50PIwd5d5",
        "outputId": "d43df922-612a-4066-c83f-7034036de73e"
      },
      "source": [
        "gas.loc[gas.iloc[-1].name, ['start_date', 'end_date']] = np.nan\n",
        "gas.iloc[-2:]"
      ],
      "execution_count": 110,
      "outputs": [
        {
          "output_type": "execute_result",
          "data": {
            "text/plain": [
              "   start_date   end_date  gasolina_IO95  gasoleo_rodoviario  \\\n",
              "35 2023-04-10 2023-04-16          1.625               1.367   \n",
              "36        NaT        NaT          1.625               1.367   \n",
              "\n",
              "    gasoleo_colorido_marcado  gasolina_IO98  difference_gas  \n",
              "35                     1.022          1.775        0.052389  \n",
              "36                     1.022          1.775        0.052389  "
            ],
            "text/html": [
              "\n",
              "  <div id=\"df-8c6f5789-1bf6-4412-bb99-6d26c4672c05\" class=\"colab-df-container\">\n",
              "    <div>\n",
              "<style scoped>\n",
              "    .dataframe tbody tr th:only-of-type {\n",
              "        vertical-align: middle;\n",
              "    }\n",
              "\n",
              "    .dataframe tbody tr th {\n",
              "        vertical-align: top;\n",
              "    }\n",
              "\n",
              "    .dataframe thead th {\n",
              "        text-align: right;\n",
              "    }\n",
              "</style>\n",
              "<table border=\"1\" class=\"dataframe\">\n",
              "  <thead>\n",
              "    <tr style=\"text-align: right;\">\n",
              "      <th></th>\n",
              "      <th>start_date</th>\n",
              "      <th>end_date</th>\n",
              "      <th>gasolina_IO95</th>\n",
              "      <th>gasoleo_rodoviario</th>\n",
              "      <th>gasoleo_colorido_marcado</th>\n",
              "      <th>gasolina_IO98</th>\n",
              "      <th>difference_gas</th>\n",
              "    </tr>\n",
              "  </thead>\n",
              "  <tbody>\n",
              "    <tr>\n",
              "      <th>35</th>\n",
              "      <td>2023-04-10</td>\n",
              "      <td>2023-04-16</td>\n",
              "      <td>1.625</td>\n",
              "      <td>1.367</td>\n",
              "      <td>1.022</td>\n",
              "      <td>1.775</td>\n",
              "      <td>0.052389</td>\n",
              "    </tr>\n",
              "    <tr>\n",
              "      <th>36</th>\n",
              "      <td>NaT</td>\n",
              "      <td>NaT</td>\n",
              "      <td>1.625</td>\n",
              "      <td>1.367</td>\n",
              "      <td>1.022</td>\n",
              "      <td>1.775</td>\n",
              "      <td>0.052389</td>\n",
              "    </tr>\n",
              "  </tbody>\n",
              "</table>\n",
              "</div>\n",
              "    <div class=\"colab-df-buttons\">\n",
              "\n",
              "  <div class=\"colab-df-container\">\n",
              "    <button class=\"colab-df-convert\" onclick=\"convertToInteractive('df-8c6f5789-1bf6-4412-bb99-6d26c4672c05')\"\n",
              "            title=\"Convert this dataframe to an interactive table.\"\n",
              "            style=\"display:none;\">\n",
              "\n",
              "  <svg xmlns=\"http://www.w3.org/2000/svg\" height=\"24px\" viewBox=\"0 -960 960 960\">\n",
              "    <path d=\"M120-120v-720h720v720H120Zm60-500h600v-160H180v160Zm220 220h160v-160H400v160Zm0 220h160v-160H400v160ZM180-400h160v-160H180v160Zm440 0h160v-160H620v160ZM180-180h160v-160H180v160Zm440 0h160v-160H620v160Z\"/>\n",
              "  </svg>\n",
              "    </button>\n",
              "\n",
              "  <style>\n",
              "    .colab-df-container {\n",
              "      display:flex;\n",
              "      gap: 12px;\n",
              "    }\n",
              "\n",
              "    .colab-df-convert {\n",
              "      background-color: #E8F0FE;\n",
              "      border: none;\n",
              "      border-radius: 50%;\n",
              "      cursor: pointer;\n",
              "      display: none;\n",
              "      fill: #1967D2;\n",
              "      height: 32px;\n",
              "      padding: 0 0 0 0;\n",
              "      width: 32px;\n",
              "    }\n",
              "\n",
              "    .colab-df-convert:hover {\n",
              "      background-color: #E2EBFA;\n",
              "      box-shadow: 0px 1px 2px rgba(60, 64, 67, 0.3), 0px 1px 3px 1px rgba(60, 64, 67, 0.15);\n",
              "      fill: #174EA6;\n",
              "    }\n",
              "\n",
              "    .colab-df-buttons div {\n",
              "      margin-bottom: 4px;\n",
              "    }\n",
              "\n",
              "    [theme=dark] .colab-df-convert {\n",
              "      background-color: #3B4455;\n",
              "      fill: #D2E3FC;\n",
              "    }\n",
              "\n",
              "    [theme=dark] .colab-df-convert:hover {\n",
              "      background-color: #434B5C;\n",
              "      box-shadow: 0px 1px 3px 1px rgba(0, 0, 0, 0.15);\n",
              "      filter: drop-shadow(0px 1px 2px rgba(0, 0, 0, 0.3));\n",
              "      fill: #FFFFFF;\n",
              "    }\n",
              "  </style>\n",
              "\n",
              "    <script>\n",
              "      const buttonEl =\n",
              "        document.querySelector('#df-8c6f5789-1bf6-4412-bb99-6d26c4672c05 button.colab-df-convert');\n",
              "      buttonEl.style.display =\n",
              "        google.colab.kernel.accessAllowed ? 'block' : 'none';\n",
              "\n",
              "      async function convertToInteractive(key) {\n",
              "        const element = document.querySelector('#df-8c6f5789-1bf6-4412-bb99-6d26c4672c05');\n",
              "        const dataTable =\n",
              "          await google.colab.kernel.invokeFunction('convertToInteractive',\n",
              "                                                    [key], {});\n",
              "        if (!dataTable) return;\n",
              "\n",
              "        const docLinkHtml = 'Like what you see? Visit the ' +\n",
              "          '<a target=\"_blank\" href=https://colab.research.google.com/notebooks/data_table.ipynb>data table notebook</a>'\n",
              "          + ' to learn more about interactive tables.';\n",
              "        element.innerHTML = '';\n",
              "        dataTable['output_type'] = 'display_data';\n",
              "        await google.colab.output.renderOutput(dataTable, element);\n",
              "        const docLink = document.createElement('div');\n",
              "        docLink.innerHTML = docLinkHtml;\n",
              "        element.appendChild(docLink);\n",
              "      }\n",
              "    </script>\n",
              "  </div>\n",
              "\n",
              "\n",
              "<div id=\"df-b155e3cc-1404-42f0-9669-59680fd60951\">\n",
              "  <button class=\"colab-df-quickchart\" onclick=\"quickchart('df-b155e3cc-1404-42f0-9669-59680fd60951')\"\n",
              "            title=\"Suggest charts.\"\n",
              "            style=\"display:none;\">\n",
              "\n",
              "<svg xmlns=\"http://www.w3.org/2000/svg\" height=\"24px\"viewBox=\"0 0 24 24\"\n",
              "     width=\"24px\">\n",
              "    <g>\n",
              "        <path d=\"M19 3H5c-1.1 0-2 .9-2 2v14c0 1.1.9 2 2 2h14c1.1 0 2-.9 2-2V5c0-1.1-.9-2-2-2zM9 17H7v-7h2v7zm4 0h-2V7h2v10zm4 0h-2v-4h2v4z\"/>\n",
              "    </g>\n",
              "</svg>\n",
              "  </button>\n",
              "\n",
              "<style>\n",
              "  .colab-df-quickchart {\n",
              "      --bg-color: #E8F0FE;\n",
              "      --fill-color: #1967D2;\n",
              "      --hover-bg-color: #E2EBFA;\n",
              "      --hover-fill-color: #174EA6;\n",
              "      --disabled-fill-color: #AAA;\n",
              "      --disabled-bg-color: #DDD;\n",
              "  }\n",
              "\n",
              "  [theme=dark] .colab-df-quickchart {\n",
              "      --bg-color: #3B4455;\n",
              "      --fill-color: #D2E3FC;\n",
              "      --hover-bg-color: #434B5C;\n",
              "      --hover-fill-color: #FFFFFF;\n",
              "      --disabled-bg-color: #3B4455;\n",
              "      --disabled-fill-color: #666;\n",
              "  }\n",
              "\n",
              "  .colab-df-quickchart {\n",
              "    background-color: var(--bg-color);\n",
              "    border: none;\n",
              "    border-radius: 50%;\n",
              "    cursor: pointer;\n",
              "    display: none;\n",
              "    fill: var(--fill-color);\n",
              "    height: 32px;\n",
              "    padding: 0;\n",
              "    width: 32px;\n",
              "  }\n",
              "\n",
              "  .colab-df-quickchart:hover {\n",
              "    background-color: var(--hover-bg-color);\n",
              "    box-shadow: 0 1px 2px rgba(60, 64, 67, 0.3), 0 1px 3px 1px rgba(60, 64, 67, 0.15);\n",
              "    fill: var(--button-hover-fill-color);\n",
              "  }\n",
              "\n",
              "  .colab-df-quickchart-complete:disabled,\n",
              "  .colab-df-quickchart-complete:disabled:hover {\n",
              "    background-color: var(--disabled-bg-color);\n",
              "    fill: var(--disabled-fill-color);\n",
              "    box-shadow: none;\n",
              "  }\n",
              "\n",
              "  .colab-df-spinner {\n",
              "    border: 2px solid var(--fill-color);\n",
              "    border-color: transparent;\n",
              "    border-bottom-color: var(--fill-color);\n",
              "    animation:\n",
              "      spin 1s steps(1) infinite;\n",
              "  }\n",
              "\n",
              "  @keyframes spin {\n",
              "    0% {\n",
              "      border-color: transparent;\n",
              "      border-bottom-color: var(--fill-color);\n",
              "      border-left-color: var(--fill-color);\n",
              "    }\n",
              "    20% {\n",
              "      border-color: transparent;\n",
              "      border-left-color: var(--fill-color);\n",
              "      border-top-color: var(--fill-color);\n",
              "    }\n",
              "    30% {\n",
              "      border-color: transparent;\n",
              "      border-left-color: var(--fill-color);\n",
              "      border-top-color: var(--fill-color);\n",
              "      border-right-color: var(--fill-color);\n",
              "    }\n",
              "    40% {\n",
              "      border-color: transparent;\n",
              "      border-right-color: var(--fill-color);\n",
              "      border-top-color: var(--fill-color);\n",
              "    }\n",
              "    60% {\n",
              "      border-color: transparent;\n",
              "      border-right-color: var(--fill-color);\n",
              "    }\n",
              "    80% {\n",
              "      border-color: transparent;\n",
              "      border-right-color: var(--fill-color);\n",
              "      border-bottom-color: var(--fill-color);\n",
              "    }\n",
              "    90% {\n",
              "      border-color: transparent;\n",
              "      border-bottom-color: var(--fill-color);\n",
              "    }\n",
              "  }\n",
              "</style>\n",
              "\n",
              "  <script>\n",
              "    async function quickchart(key) {\n",
              "      const quickchartButtonEl =\n",
              "        document.querySelector('#' + key + ' button');\n",
              "      quickchartButtonEl.disabled = true;  // To prevent multiple clicks.\n",
              "      quickchartButtonEl.classList.add('colab-df-spinner');\n",
              "      try {\n",
              "        const charts = await google.colab.kernel.invokeFunction(\n",
              "            'suggestCharts', [key], {});\n",
              "      } catch (error) {\n",
              "        console.error('Error during call to suggestCharts:', error);\n",
              "      }\n",
              "      quickchartButtonEl.classList.remove('colab-df-spinner');\n",
              "      quickchartButtonEl.classList.add('colab-df-quickchart-complete');\n",
              "    }\n",
              "    (() => {\n",
              "      let quickchartButtonEl =\n",
              "        document.querySelector('#df-b155e3cc-1404-42f0-9669-59680fd60951 button');\n",
              "      quickchartButtonEl.style.display =\n",
              "        google.colab.kernel.accessAllowed ? 'block' : 'none';\n",
              "    })();\n",
              "  </script>\n",
              "</div>\n",
              "    </div>\n",
              "  </div>\n"
            ]
          },
          "metadata": {},
          "execution_count": 110
        }
      ]
    },
    {
      "cell_type": "markdown",
      "metadata": {
        "id": "0nMZOvjBWTuf"
      },
      "source": [
        "### Remove"
      ]
    },
    {
      "cell_type": "code",
      "metadata": {
        "id": "FxnuErK9lxJh"
      },
      "source": [
        "mask = ~gas.start_date.isnull()  # drop all rows with NaN values on the column\n",
        "gas = gas[mask].copy()  # use the mask to select the elements that verify the mask"
      ],
      "execution_count": 111,
      "outputs": []
    },
    {
      "cell_type": "markdown",
      "source": [
        "### Sort"
      ],
      "metadata": {
        "id": "6wo_UWaihJjz"
      }
    },
    {
      "cell_type": "code",
      "source": [
        "gas.sort_values(by=['gasolina_IO98', 'gasolina_IO98'], ascending=False)"
      ],
      "metadata": {
        "colab": {
          "base_uri": "https://localhost:8080/",
          "height": 1000
        },
        "id": "E93IkB6RhKB1",
        "outputId": "4e2fddce-13d1-44ee-b9d5-d1f5376bbfb5"
      },
      "execution_count": 112,
      "outputs": [
        {
          "output_type": "execute_result",
          "data": {
            "text/plain": [
              "   start_date   end_date  gasolina_IO95  gasoleo_rodoviario  \\\n",
              "0  2022-07-25 2022-07-31          1.889               1.789   \n",
              "1  2022-08-01 2022-08-07          1.841               1.748   \n",
              "2  2022-08-08 2022-08-14          1.835               1.721   \n",
              "14 2022-11-14 2022-11-20          1.767               1.789   \n",
              "11 2022-10-17 2022-10-23          1.766               1.746   \n",
              "12 2022-10-31 2022-11-06          1.765               1.825   \n",
              "3  2022-08-15 2022-08-21          1.751               1.638   \n",
              "13 2022-11-07 2022-11-13          1.747               1.813   \n",
              "4  2022-08-22 2022-08-28          1.734               1.621   \n",
              "15 2022-11-21 2022-11-27          1.729               1.708   \n",
              "6  2022-09-05 2022-09-11          1.728               1.756   \n",
              "5  2022-08-29 2022-09-04          1.724               1.663   \n",
              "7  2022-09-12 2022-09-18          1.666               1.720   \n",
              "8  2022-09-19 2022-09-25          1.650               1.714   \n",
              "16 2022-11-28 2022-12-04          1.648               1.613   \n",
              "10 2022-10-10 2022-10-16          1.643               1.643   \n",
              "26 2023-02-06 2023-02-12          1.642               1.488   \n",
              "9  2022-10-03 2022-10-09          1.635               1.629   \n",
              "35 2023-04-10 2023-04-16          1.625               1.367   \n",
              "27 2023-02-13 2023-02-19          1.620               1.504   \n",
              "32 2023-03-20 2023-03-26          1.615               1.419   \n",
              "31 2023-03-13 2023-03-19          1.610               1.393   \n",
              "25 2023-01-30 2023-02-05          1.608               1.466   \n",
              "29 2023-02-27 2023-03-05          1.605               1.401   \n",
              "30 2023-03-06 2023-03-12          1.604               1.407   \n",
              "34 2023-04-03 2023-04-09          1.600               1.375   \n",
              "28 2023-02-20 2023-02-26          1.599               1.401   \n",
              "17 2022-12-05 2022-12-11          1.593               1.556   \n",
              "33 2023-03-27 2023-04-02          1.590               1.405   \n",
              "24 2023-01-23 2023-01-29          1.575               1.454   \n",
              "22 2023-01-09 2023-01-15          1.572               1.482   \n",
              "18 2022-12-12 2022-12-18          1.568               1.507   \n",
              "23 2023-01-16 2023-01-22          1.564               1.482   \n",
              "21 2023-01-02 2023-01-08          1.517               1.471   \n",
              "19 2022-12-19 2022-12-25          1.510               1.428   \n",
              "20 2022-12-26 2023-01-01          1.499               1.472   \n",
              "\n",
              "    gasoleo_colorido_marcado  gasolina_IO98  difference_gas  \n",
              "0                      1.425          2.039        0.316389  \n",
              "1                      1.379          1.991        0.268389  \n",
              "2                      1.354          1.985        0.262389  \n",
              "14                     1.433          1.917        0.194389  \n",
              "11                     1.377          1.916        0.193389  \n",
              "12                     1.466          1.915        0.192389  \n",
              "3                      1.278          1.901        0.178389  \n",
              "13                     1.455          1.897        0.174389  \n",
              "4                      1.262          1.884        0.161389  \n",
              "15                     1.358          1.879        0.156389  \n",
              "6                      1.386          1.878        0.155389  \n",
              "5                      1.301          1.874        0.151389  \n",
              "7                      1.353          1.816        0.093389  \n",
              "8                      1.348          1.800        0.077389  \n",
              "16                     1.271          1.798        0.075389  \n",
              "10                     1.283          1.793        0.070389  \n",
              "26                     1.151          1.792        0.069389  \n",
              "9                      1.270          1.785        0.062389  \n",
              "35                     1.022          1.775        0.052389  \n",
              "27                     1.166          1.770        0.047389  \n",
              "32                     1.076          1.765        0.042389  \n",
              "31                     1.052          1.760        0.037389  \n",
              "25                     1.130          1.758        0.035389  \n",
              "29                     1.059          1.755        0.032389  \n",
              "30                     1.065          1.754        0.031389  \n",
              "34                     1.030          1.750        0.027389  \n",
              "28                     1.059          1.749        0.026389  \n",
              "17                     1.219          1.743        0.020389  \n",
              "33                     1.063          1.740        0.017389  \n",
              "24                     1.119          1.725        0.002389  \n",
              "22                     1.151          1.722       -0.000611  \n",
              "18                     1.174          1.718       -0.004611  \n",
              "23                     1.151          1.714       -0.008611  \n",
              "21                     1.141          1.667       -0.055611  \n",
              "19                     1.101          1.660       -0.062611  \n",
              "20                     1.142          1.649       -0.073611  "
            ],
            "text/html": [
              "\n",
              "  <div id=\"df-c9cb4653-7ac5-4cf6-a151-5f4aef590ec2\" class=\"colab-df-container\">\n",
              "    <div>\n",
              "<style scoped>\n",
              "    .dataframe tbody tr th:only-of-type {\n",
              "        vertical-align: middle;\n",
              "    }\n",
              "\n",
              "    .dataframe tbody tr th {\n",
              "        vertical-align: top;\n",
              "    }\n",
              "\n",
              "    .dataframe thead th {\n",
              "        text-align: right;\n",
              "    }\n",
              "</style>\n",
              "<table border=\"1\" class=\"dataframe\">\n",
              "  <thead>\n",
              "    <tr style=\"text-align: right;\">\n",
              "      <th></th>\n",
              "      <th>start_date</th>\n",
              "      <th>end_date</th>\n",
              "      <th>gasolina_IO95</th>\n",
              "      <th>gasoleo_rodoviario</th>\n",
              "      <th>gasoleo_colorido_marcado</th>\n",
              "      <th>gasolina_IO98</th>\n",
              "      <th>difference_gas</th>\n",
              "    </tr>\n",
              "  </thead>\n",
              "  <tbody>\n",
              "    <tr>\n",
              "      <th>0</th>\n",
              "      <td>2022-07-25</td>\n",
              "      <td>2022-07-31</td>\n",
              "      <td>1.889</td>\n",
              "      <td>1.789</td>\n",
              "      <td>1.425</td>\n",
              "      <td>2.039</td>\n",
              "      <td>0.316389</td>\n",
              "    </tr>\n",
              "    <tr>\n",
              "      <th>1</th>\n",
              "      <td>2022-08-01</td>\n",
              "      <td>2022-08-07</td>\n",
              "      <td>1.841</td>\n",
              "      <td>1.748</td>\n",
              "      <td>1.379</td>\n",
              "      <td>1.991</td>\n",
              "      <td>0.268389</td>\n",
              "    </tr>\n",
              "    <tr>\n",
              "      <th>2</th>\n",
              "      <td>2022-08-08</td>\n",
              "      <td>2022-08-14</td>\n",
              "      <td>1.835</td>\n",
              "      <td>1.721</td>\n",
              "      <td>1.354</td>\n",
              "      <td>1.985</td>\n",
              "      <td>0.262389</td>\n",
              "    </tr>\n",
              "    <tr>\n",
              "      <th>14</th>\n",
              "      <td>2022-11-14</td>\n",
              "      <td>2022-11-20</td>\n",
              "      <td>1.767</td>\n",
              "      <td>1.789</td>\n",
              "      <td>1.433</td>\n",
              "      <td>1.917</td>\n",
              "      <td>0.194389</td>\n",
              "    </tr>\n",
              "    <tr>\n",
              "      <th>11</th>\n",
              "      <td>2022-10-17</td>\n",
              "      <td>2022-10-23</td>\n",
              "      <td>1.766</td>\n",
              "      <td>1.746</td>\n",
              "      <td>1.377</td>\n",
              "      <td>1.916</td>\n",
              "      <td>0.193389</td>\n",
              "    </tr>\n",
              "    <tr>\n",
              "      <th>12</th>\n",
              "      <td>2022-10-31</td>\n",
              "      <td>2022-11-06</td>\n",
              "      <td>1.765</td>\n",
              "      <td>1.825</td>\n",
              "      <td>1.466</td>\n",
              "      <td>1.915</td>\n",
              "      <td>0.192389</td>\n",
              "    </tr>\n",
              "    <tr>\n",
              "      <th>3</th>\n",
              "      <td>2022-08-15</td>\n",
              "      <td>2022-08-21</td>\n",
              "      <td>1.751</td>\n",
              "      <td>1.638</td>\n",
              "      <td>1.278</td>\n",
              "      <td>1.901</td>\n",
              "      <td>0.178389</td>\n",
              "    </tr>\n",
              "    <tr>\n",
              "      <th>13</th>\n",
              "      <td>2022-11-07</td>\n",
              "      <td>2022-11-13</td>\n",
              "      <td>1.747</td>\n",
              "      <td>1.813</td>\n",
              "      <td>1.455</td>\n",
              "      <td>1.897</td>\n",
              "      <td>0.174389</td>\n",
              "    </tr>\n",
              "    <tr>\n",
              "      <th>4</th>\n",
              "      <td>2022-08-22</td>\n",
              "      <td>2022-08-28</td>\n",
              "      <td>1.734</td>\n",
              "      <td>1.621</td>\n",
              "      <td>1.262</td>\n",
              "      <td>1.884</td>\n",
              "      <td>0.161389</td>\n",
              "    </tr>\n",
              "    <tr>\n",
              "      <th>15</th>\n",
              "      <td>2022-11-21</td>\n",
              "      <td>2022-11-27</td>\n",
              "      <td>1.729</td>\n",
              "      <td>1.708</td>\n",
              "      <td>1.358</td>\n",
              "      <td>1.879</td>\n",
              "      <td>0.156389</td>\n",
              "    </tr>\n",
              "    <tr>\n",
              "      <th>6</th>\n",
              "      <td>2022-09-05</td>\n",
              "      <td>2022-09-11</td>\n",
              "      <td>1.728</td>\n",
              "      <td>1.756</td>\n",
              "      <td>1.386</td>\n",
              "      <td>1.878</td>\n",
              "      <td>0.155389</td>\n",
              "    </tr>\n",
              "    <tr>\n",
              "      <th>5</th>\n",
              "      <td>2022-08-29</td>\n",
              "      <td>2022-09-04</td>\n",
              "      <td>1.724</td>\n",
              "      <td>1.663</td>\n",
              "      <td>1.301</td>\n",
              "      <td>1.874</td>\n",
              "      <td>0.151389</td>\n",
              "    </tr>\n",
              "    <tr>\n",
              "      <th>7</th>\n",
              "      <td>2022-09-12</td>\n",
              "      <td>2022-09-18</td>\n",
              "      <td>1.666</td>\n",
              "      <td>1.720</td>\n",
              "      <td>1.353</td>\n",
              "      <td>1.816</td>\n",
              "      <td>0.093389</td>\n",
              "    </tr>\n",
              "    <tr>\n",
              "      <th>8</th>\n",
              "      <td>2022-09-19</td>\n",
              "      <td>2022-09-25</td>\n",
              "      <td>1.650</td>\n",
              "      <td>1.714</td>\n",
              "      <td>1.348</td>\n",
              "      <td>1.800</td>\n",
              "      <td>0.077389</td>\n",
              "    </tr>\n",
              "    <tr>\n",
              "      <th>16</th>\n",
              "      <td>2022-11-28</td>\n",
              "      <td>2022-12-04</td>\n",
              "      <td>1.648</td>\n",
              "      <td>1.613</td>\n",
              "      <td>1.271</td>\n",
              "      <td>1.798</td>\n",
              "      <td>0.075389</td>\n",
              "    </tr>\n",
              "    <tr>\n",
              "      <th>10</th>\n",
              "      <td>2022-10-10</td>\n",
              "      <td>2022-10-16</td>\n",
              "      <td>1.643</td>\n",
              "      <td>1.643</td>\n",
              "      <td>1.283</td>\n",
              "      <td>1.793</td>\n",
              "      <td>0.070389</td>\n",
              "    </tr>\n",
              "    <tr>\n",
              "      <th>26</th>\n",
              "      <td>2023-02-06</td>\n",
              "      <td>2023-02-12</td>\n",
              "      <td>1.642</td>\n",
              "      <td>1.488</td>\n",
              "      <td>1.151</td>\n",
              "      <td>1.792</td>\n",
              "      <td>0.069389</td>\n",
              "    </tr>\n",
              "    <tr>\n",
              "      <th>9</th>\n",
              "      <td>2022-10-03</td>\n",
              "      <td>2022-10-09</td>\n",
              "      <td>1.635</td>\n",
              "      <td>1.629</td>\n",
              "      <td>1.270</td>\n",
              "      <td>1.785</td>\n",
              "      <td>0.062389</td>\n",
              "    </tr>\n",
              "    <tr>\n",
              "      <th>35</th>\n",
              "      <td>2023-04-10</td>\n",
              "      <td>2023-04-16</td>\n",
              "      <td>1.625</td>\n",
              "      <td>1.367</td>\n",
              "      <td>1.022</td>\n",
              "      <td>1.775</td>\n",
              "      <td>0.052389</td>\n",
              "    </tr>\n",
              "    <tr>\n",
              "      <th>27</th>\n",
              "      <td>2023-02-13</td>\n",
              "      <td>2023-02-19</td>\n",
              "      <td>1.620</td>\n",
              "      <td>1.504</td>\n",
              "      <td>1.166</td>\n",
              "      <td>1.770</td>\n",
              "      <td>0.047389</td>\n",
              "    </tr>\n",
              "    <tr>\n",
              "      <th>32</th>\n",
              "      <td>2023-03-20</td>\n",
              "      <td>2023-03-26</td>\n",
              "      <td>1.615</td>\n",
              "      <td>1.419</td>\n",
              "      <td>1.076</td>\n",
              "      <td>1.765</td>\n",
              "      <td>0.042389</td>\n",
              "    </tr>\n",
              "    <tr>\n",
              "      <th>31</th>\n",
              "      <td>2023-03-13</td>\n",
              "      <td>2023-03-19</td>\n",
              "      <td>1.610</td>\n",
              "      <td>1.393</td>\n",
              "      <td>1.052</td>\n",
              "      <td>1.760</td>\n",
              "      <td>0.037389</td>\n",
              "    </tr>\n",
              "    <tr>\n",
              "      <th>25</th>\n",
              "      <td>2023-01-30</td>\n",
              "      <td>2023-02-05</td>\n",
              "      <td>1.608</td>\n",
              "      <td>1.466</td>\n",
              "      <td>1.130</td>\n",
              "      <td>1.758</td>\n",
              "      <td>0.035389</td>\n",
              "    </tr>\n",
              "    <tr>\n",
              "      <th>29</th>\n",
              "      <td>2023-02-27</td>\n",
              "      <td>2023-03-05</td>\n",
              "      <td>1.605</td>\n",
              "      <td>1.401</td>\n",
              "      <td>1.059</td>\n",
              "      <td>1.755</td>\n",
              "      <td>0.032389</td>\n",
              "    </tr>\n",
              "    <tr>\n",
              "      <th>30</th>\n",
              "      <td>2023-03-06</td>\n",
              "      <td>2023-03-12</td>\n",
              "      <td>1.604</td>\n",
              "      <td>1.407</td>\n",
              "      <td>1.065</td>\n",
              "      <td>1.754</td>\n",
              "      <td>0.031389</td>\n",
              "    </tr>\n",
              "    <tr>\n",
              "      <th>34</th>\n",
              "      <td>2023-04-03</td>\n",
              "      <td>2023-04-09</td>\n",
              "      <td>1.600</td>\n",
              "      <td>1.375</td>\n",
              "      <td>1.030</td>\n",
              "      <td>1.750</td>\n",
              "      <td>0.027389</td>\n",
              "    </tr>\n",
              "    <tr>\n",
              "      <th>28</th>\n",
              "      <td>2023-02-20</td>\n",
              "      <td>2023-02-26</td>\n",
              "      <td>1.599</td>\n",
              "      <td>1.401</td>\n",
              "      <td>1.059</td>\n",
              "      <td>1.749</td>\n",
              "      <td>0.026389</td>\n",
              "    </tr>\n",
              "    <tr>\n",
              "      <th>17</th>\n",
              "      <td>2022-12-05</td>\n",
              "      <td>2022-12-11</td>\n",
              "      <td>1.593</td>\n",
              "      <td>1.556</td>\n",
              "      <td>1.219</td>\n",
              "      <td>1.743</td>\n",
              "      <td>0.020389</td>\n",
              "    </tr>\n",
              "    <tr>\n",
              "      <th>33</th>\n",
              "      <td>2023-03-27</td>\n",
              "      <td>2023-04-02</td>\n",
              "      <td>1.590</td>\n",
              "      <td>1.405</td>\n",
              "      <td>1.063</td>\n",
              "      <td>1.740</td>\n",
              "      <td>0.017389</td>\n",
              "    </tr>\n",
              "    <tr>\n",
              "      <th>24</th>\n",
              "      <td>2023-01-23</td>\n",
              "      <td>2023-01-29</td>\n",
              "      <td>1.575</td>\n",
              "      <td>1.454</td>\n",
              "      <td>1.119</td>\n",
              "      <td>1.725</td>\n",
              "      <td>0.002389</td>\n",
              "    </tr>\n",
              "    <tr>\n",
              "      <th>22</th>\n",
              "      <td>2023-01-09</td>\n",
              "      <td>2023-01-15</td>\n",
              "      <td>1.572</td>\n",
              "      <td>1.482</td>\n",
              "      <td>1.151</td>\n",
              "      <td>1.722</td>\n",
              "      <td>-0.000611</td>\n",
              "    </tr>\n",
              "    <tr>\n",
              "      <th>18</th>\n",
              "      <td>2022-12-12</td>\n",
              "      <td>2022-12-18</td>\n",
              "      <td>1.568</td>\n",
              "      <td>1.507</td>\n",
              "      <td>1.174</td>\n",
              "      <td>1.718</td>\n",
              "      <td>-0.004611</td>\n",
              "    </tr>\n",
              "    <tr>\n",
              "      <th>23</th>\n",
              "      <td>2023-01-16</td>\n",
              "      <td>2023-01-22</td>\n",
              "      <td>1.564</td>\n",
              "      <td>1.482</td>\n",
              "      <td>1.151</td>\n",
              "      <td>1.714</td>\n",
              "      <td>-0.008611</td>\n",
              "    </tr>\n",
              "    <tr>\n",
              "      <th>21</th>\n",
              "      <td>2023-01-02</td>\n",
              "      <td>2023-01-08</td>\n",
              "      <td>1.517</td>\n",
              "      <td>1.471</td>\n",
              "      <td>1.141</td>\n",
              "      <td>1.667</td>\n",
              "      <td>-0.055611</td>\n",
              "    </tr>\n",
              "    <tr>\n",
              "      <th>19</th>\n",
              "      <td>2022-12-19</td>\n",
              "      <td>2022-12-25</td>\n",
              "      <td>1.510</td>\n",
              "      <td>1.428</td>\n",
              "      <td>1.101</td>\n",
              "      <td>1.660</td>\n",
              "      <td>-0.062611</td>\n",
              "    </tr>\n",
              "    <tr>\n",
              "      <th>20</th>\n",
              "      <td>2022-12-26</td>\n",
              "      <td>2023-01-01</td>\n",
              "      <td>1.499</td>\n",
              "      <td>1.472</td>\n",
              "      <td>1.142</td>\n",
              "      <td>1.649</td>\n",
              "      <td>-0.073611</td>\n",
              "    </tr>\n",
              "  </tbody>\n",
              "</table>\n",
              "</div>\n",
              "    <div class=\"colab-df-buttons\">\n",
              "\n",
              "  <div class=\"colab-df-container\">\n",
              "    <button class=\"colab-df-convert\" onclick=\"convertToInteractive('df-c9cb4653-7ac5-4cf6-a151-5f4aef590ec2')\"\n",
              "            title=\"Convert this dataframe to an interactive table.\"\n",
              "            style=\"display:none;\">\n",
              "\n",
              "  <svg xmlns=\"http://www.w3.org/2000/svg\" height=\"24px\" viewBox=\"0 -960 960 960\">\n",
              "    <path d=\"M120-120v-720h720v720H120Zm60-500h600v-160H180v160Zm220 220h160v-160H400v160Zm0 220h160v-160H400v160ZM180-400h160v-160H180v160Zm440 0h160v-160H620v160ZM180-180h160v-160H180v160Zm440 0h160v-160H620v160Z\"/>\n",
              "  </svg>\n",
              "    </button>\n",
              "\n",
              "  <style>\n",
              "    .colab-df-container {\n",
              "      display:flex;\n",
              "      gap: 12px;\n",
              "    }\n",
              "\n",
              "    .colab-df-convert {\n",
              "      background-color: #E8F0FE;\n",
              "      border: none;\n",
              "      border-radius: 50%;\n",
              "      cursor: pointer;\n",
              "      display: none;\n",
              "      fill: #1967D2;\n",
              "      height: 32px;\n",
              "      padding: 0 0 0 0;\n",
              "      width: 32px;\n",
              "    }\n",
              "\n",
              "    .colab-df-convert:hover {\n",
              "      background-color: #E2EBFA;\n",
              "      box-shadow: 0px 1px 2px rgba(60, 64, 67, 0.3), 0px 1px 3px 1px rgba(60, 64, 67, 0.15);\n",
              "      fill: #174EA6;\n",
              "    }\n",
              "\n",
              "    .colab-df-buttons div {\n",
              "      margin-bottom: 4px;\n",
              "    }\n",
              "\n",
              "    [theme=dark] .colab-df-convert {\n",
              "      background-color: #3B4455;\n",
              "      fill: #D2E3FC;\n",
              "    }\n",
              "\n",
              "    [theme=dark] .colab-df-convert:hover {\n",
              "      background-color: #434B5C;\n",
              "      box-shadow: 0px 1px 3px 1px rgba(0, 0, 0, 0.15);\n",
              "      filter: drop-shadow(0px 1px 2px rgba(0, 0, 0, 0.3));\n",
              "      fill: #FFFFFF;\n",
              "    }\n",
              "  </style>\n",
              "\n",
              "    <script>\n",
              "      const buttonEl =\n",
              "        document.querySelector('#df-c9cb4653-7ac5-4cf6-a151-5f4aef590ec2 button.colab-df-convert');\n",
              "      buttonEl.style.display =\n",
              "        google.colab.kernel.accessAllowed ? 'block' : 'none';\n",
              "\n",
              "      async function convertToInteractive(key) {\n",
              "        const element = document.querySelector('#df-c9cb4653-7ac5-4cf6-a151-5f4aef590ec2');\n",
              "        const dataTable =\n",
              "          await google.colab.kernel.invokeFunction('convertToInteractive',\n",
              "                                                    [key], {});\n",
              "        if (!dataTable) return;\n",
              "\n",
              "        const docLinkHtml = 'Like what you see? Visit the ' +\n",
              "          '<a target=\"_blank\" href=https://colab.research.google.com/notebooks/data_table.ipynb>data table notebook</a>'\n",
              "          + ' to learn more about interactive tables.';\n",
              "        element.innerHTML = '';\n",
              "        dataTable['output_type'] = 'display_data';\n",
              "        await google.colab.output.renderOutput(dataTable, element);\n",
              "        const docLink = document.createElement('div');\n",
              "        docLink.innerHTML = docLinkHtml;\n",
              "        element.appendChild(docLink);\n",
              "      }\n",
              "    </script>\n",
              "  </div>\n",
              "\n",
              "\n",
              "<div id=\"df-1da343f5-9ec6-4f9a-86bd-da4a78354d1a\">\n",
              "  <button class=\"colab-df-quickchart\" onclick=\"quickchart('df-1da343f5-9ec6-4f9a-86bd-da4a78354d1a')\"\n",
              "            title=\"Suggest charts.\"\n",
              "            style=\"display:none;\">\n",
              "\n",
              "<svg xmlns=\"http://www.w3.org/2000/svg\" height=\"24px\"viewBox=\"0 0 24 24\"\n",
              "     width=\"24px\">\n",
              "    <g>\n",
              "        <path d=\"M19 3H5c-1.1 0-2 .9-2 2v14c0 1.1.9 2 2 2h14c1.1 0 2-.9 2-2V5c0-1.1-.9-2-2-2zM9 17H7v-7h2v7zm4 0h-2V7h2v10zm4 0h-2v-4h2v4z\"/>\n",
              "    </g>\n",
              "</svg>\n",
              "  </button>\n",
              "\n",
              "<style>\n",
              "  .colab-df-quickchart {\n",
              "      --bg-color: #E8F0FE;\n",
              "      --fill-color: #1967D2;\n",
              "      --hover-bg-color: #E2EBFA;\n",
              "      --hover-fill-color: #174EA6;\n",
              "      --disabled-fill-color: #AAA;\n",
              "      --disabled-bg-color: #DDD;\n",
              "  }\n",
              "\n",
              "  [theme=dark] .colab-df-quickchart {\n",
              "      --bg-color: #3B4455;\n",
              "      --fill-color: #D2E3FC;\n",
              "      --hover-bg-color: #434B5C;\n",
              "      --hover-fill-color: #FFFFFF;\n",
              "      --disabled-bg-color: #3B4455;\n",
              "      --disabled-fill-color: #666;\n",
              "  }\n",
              "\n",
              "  .colab-df-quickchart {\n",
              "    background-color: var(--bg-color);\n",
              "    border: none;\n",
              "    border-radius: 50%;\n",
              "    cursor: pointer;\n",
              "    display: none;\n",
              "    fill: var(--fill-color);\n",
              "    height: 32px;\n",
              "    padding: 0;\n",
              "    width: 32px;\n",
              "  }\n",
              "\n",
              "  .colab-df-quickchart:hover {\n",
              "    background-color: var(--hover-bg-color);\n",
              "    box-shadow: 0 1px 2px rgba(60, 64, 67, 0.3), 0 1px 3px 1px rgba(60, 64, 67, 0.15);\n",
              "    fill: var(--button-hover-fill-color);\n",
              "  }\n",
              "\n",
              "  .colab-df-quickchart-complete:disabled,\n",
              "  .colab-df-quickchart-complete:disabled:hover {\n",
              "    background-color: var(--disabled-bg-color);\n",
              "    fill: var(--disabled-fill-color);\n",
              "    box-shadow: none;\n",
              "  }\n",
              "\n",
              "  .colab-df-spinner {\n",
              "    border: 2px solid var(--fill-color);\n",
              "    border-color: transparent;\n",
              "    border-bottom-color: var(--fill-color);\n",
              "    animation:\n",
              "      spin 1s steps(1) infinite;\n",
              "  }\n",
              "\n",
              "  @keyframes spin {\n",
              "    0% {\n",
              "      border-color: transparent;\n",
              "      border-bottom-color: var(--fill-color);\n",
              "      border-left-color: var(--fill-color);\n",
              "    }\n",
              "    20% {\n",
              "      border-color: transparent;\n",
              "      border-left-color: var(--fill-color);\n",
              "      border-top-color: var(--fill-color);\n",
              "    }\n",
              "    30% {\n",
              "      border-color: transparent;\n",
              "      border-left-color: var(--fill-color);\n",
              "      border-top-color: var(--fill-color);\n",
              "      border-right-color: var(--fill-color);\n",
              "    }\n",
              "    40% {\n",
              "      border-color: transparent;\n",
              "      border-right-color: var(--fill-color);\n",
              "      border-top-color: var(--fill-color);\n",
              "    }\n",
              "    60% {\n",
              "      border-color: transparent;\n",
              "      border-right-color: var(--fill-color);\n",
              "    }\n",
              "    80% {\n",
              "      border-color: transparent;\n",
              "      border-right-color: var(--fill-color);\n",
              "      border-bottom-color: var(--fill-color);\n",
              "    }\n",
              "    90% {\n",
              "      border-color: transparent;\n",
              "      border-bottom-color: var(--fill-color);\n",
              "    }\n",
              "  }\n",
              "</style>\n",
              "\n",
              "  <script>\n",
              "    async function quickchart(key) {\n",
              "      const quickchartButtonEl =\n",
              "        document.querySelector('#' + key + ' button');\n",
              "      quickchartButtonEl.disabled = true;  // To prevent multiple clicks.\n",
              "      quickchartButtonEl.classList.add('colab-df-spinner');\n",
              "      try {\n",
              "        const charts = await google.colab.kernel.invokeFunction(\n",
              "            'suggestCharts', [key], {});\n",
              "      } catch (error) {\n",
              "        console.error('Error during call to suggestCharts:', error);\n",
              "      }\n",
              "      quickchartButtonEl.classList.remove('colab-df-spinner');\n",
              "      quickchartButtonEl.classList.add('colab-df-quickchart-complete');\n",
              "    }\n",
              "    (() => {\n",
              "      let quickchartButtonEl =\n",
              "        document.querySelector('#df-1da343f5-9ec6-4f9a-86bd-da4a78354d1a button');\n",
              "      quickchartButtonEl.style.display =\n",
              "        google.colab.kernel.accessAllowed ? 'block' : 'none';\n",
              "    })();\n",
              "  </script>\n",
              "</div>\n",
              "    </div>\n",
              "  </div>\n"
            ]
          },
          "metadata": {},
          "execution_count": 112
        }
      ]
    },
    {
      "cell_type": "markdown",
      "metadata": {
        "id": "ch5bLO9VT4PS"
      },
      "source": [
        "## Pre-processing"
      ]
    },
    {
      "cell_type": "code",
      "source": [
        "malfunction_start_dates = ['2023-04-10', '2023-01-09', '2022-09-12']\n",
        "\n",
        "gas.loc[gas.start_date.isin(malfunction_start_dates), ['gasolina_IO95', 'gasoleo_rodoviario', 'gasoleo_colorido_marcado']] = np.nan"
      ],
      "metadata": {
        "id": "Jopo-pqmxy2t"
      },
      "execution_count": 113,
      "outputs": []
    },
    {
      "cell_type": "code",
      "metadata": {
        "colab": {
          "base_uri": "https://localhost:8080/"
        },
        "id": "kG5eJLzrT1NF",
        "outputId": "0f91ed21-ad52-47d7-9375-2b83060a72f8"
      },
      "source": [
        "gas.columns[gas.isnull().any()]  # check the columns with NaN values"
      ],
      "execution_count": 114,
      "outputs": [
        {
          "output_type": "execute_result",
          "data": {
            "text/plain": [
              "Index(['gasolina_IO95', 'gasoleo_rodoviario', 'gasoleo_colorido_marcado'], dtype='object')"
            ]
          },
          "metadata": {},
          "execution_count": 114
        }
      ]
    },
    {
      "cell_type": "code",
      "metadata": {
        "id": "WX1E1_5vVbqt"
      },
      "source": [
        "gas.fillna({'gasolina_IO95': 0}, inplace=True)  # replace NaNs by zeros"
      ],
      "execution_count": 115,
      "outputs": []
    },
    {
      "cell_type": "code",
      "metadata": {
        "id": "LTbVDVy6VvwY"
      },
      "source": [
        "gas.gasoleo_rodoviario = gas.gasoleo_rodoviario.fillna(method='bfill')  # replace NaN by the previous values"
      ],
      "execution_count": 116,
      "outputs": []
    },
    {
      "cell_type": "code",
      "metadata": {
        "id": "O9FveTJaT1Ck"
      },
      "source": [
        "gas.dropna(subset=['gasoleo_colorido_marcado'], inplace=True)  # drop all the rows with NaN values in those columns"
      ],
      "execution_count": 117,
      "outputs": []
    },
    {
      "cell_type": "markdown",
      "metadata": {
        "id": "TK95re2jnXsT"
      },
      "source": [
        "# Plotting"
      ]
    },
    {
      "cell_type": "code",
      "source": [
        "import matplotlib.pyplot as plt\n",
        "\n",
        "# for nice plots theme colors\n",
        "import seaborn as sns\n",
        "\n",
        "sns.set()"
      ],
      "metadata": {
        "id": "WhRbc5A4-cPj",
        "ExecuteTime": {
          "end_time": "2023-09-09T19:26:30.774112Z",
          "start_time": "2023-09-09T19:26:30.731389Z"
        }
      },
      "execution_count": 118,
      "outputs": []
    },
    {
      "cell_type": "code",
      "source": [
        "x = np.linspace(0, 10, 100)\n",
        "plt.plot(np.sin(x))\n",
        "plt.show()"
      ],
      "metadata": {
        "colab": {
          "base_uri": "https://localhost:8080/",
          "height": 434
        },
        "id": "-7uYRq1k-hnP",
        "outputId": "9e4d3abe-350c-4fcf-bb0d-df11f1f63552",
        "ExecuteTime": {
          "end_time": "2023-09-09T19:26:31.472346Z",
          "start_time": "2023-09-09T19:26:31.325948Z"
        }
      },
      "execution_count": 119,
      "outputs": [
        {
          "output_type": "display_data",
          "data": {
            "text/plain": [
              "<Figure size 640x480 with 1 Axes>"
            ],
            "image/png": "[encoded data removed]"
          },
          "metadata": {}
        }
      ]
    },
    {
      "cell_type": "code",
      "source": [
        "# plots with two lines, title, legend and save figure\n",
        "values1 = [1, 5, 8, 9, 2, 0, 3, 10, 4, 7]\n",
        "values2 = [3, 8, 9, 2, 1, 2, 4, 7, 6, 6]\n",
        "\n",
        "ax = plt.axes()\n",
        "\n",
        "plt.plot(values1, 'o', color='g', label='Data 1')\n",
        "plt.plot(values2, ':', marker='^', label='Data 2')\n",
        "\n",
        "plt.title('Plotting some random data')\n",
        "plt.xlabel('x')\n",
        "plt.ylabel('y')\n",
        "\n",
        "ax.legend(loc='lower right')\n",
        "\n",
        "plt.savefig('MyFirstPlot.png', format='png', dpi=150)\n",
        "plt.show()"
      ],
      "metadata": {
        "colab": {
          "base_uri": "https://localhost:8080/",
          "height": 480
        },
        "id": "e3pDyXRs-oRH",
        "outputId": "49a1a93f-b259-46d8-af40-fbaf189def2e",
        "ExecuteTime": {
          "end_time": "2023-09-09T19:26:31.939729Z",
          "start_time": "2023-09-09T19:26:31.812674Z"
        }
      },
      "execution_count": 120,
      "outputs": [
        {
          "output_type": "display_data",
          "data": {
            "text/plain": [
              "<Figure size 640x480 with 1 Axes>"
            ],
            "image/png": "[encoded data removed]"
          },
          "metadata": {}
        }
      ]
    },
    {
      "cell_type": "code",
      "source": [
        "# multiple plots in the same figure\n",
        "plt.figure()\n",
        "\n",
        "plt.subplot(2, 1, 1)  # create two rows, with one colum\n",
        "plt.plot(np.sin(x))\n",
        "plt.grid(axis='x', color='green', linestyle='--')\n",
        "plt.title('Sin')\n",
        "\n",
        "plt.subplot(2, 1, 2)  # create two rows, with one colum\n",
        "plt.plot(np.cos(x), color='r', linestyle='dashed')\n",
        "plt.grid(axis='y')\n",
        "plt.title('Cos')\n",
        "\n",
        "plt.suptitle('Sin vs. Cos')\n",
        "plt.show()"
      ],
      "metadata": {
        "colab": {
          "base_uri": "https://localhost:8080/",
          "height": 482
        },
        "id": "nqF-D3_D_O7b",
        "outputId": "e5bc2621-af03-4e2b-9be1-b31dbb3cb563",
        "ExecuteTime": {
          "end_time": "2023-09-09T19:26:32.629593Z",
          "start_time": "2023-09-09T19:26:32.508234Z"
        }
      },
      "execution_count": 121,
      "outputs": [
        {
          "output_type": "display_data",
          "data": {
            "text/plain": [
              "<Figure size 640x480 with 2 Axes>"
            ],
            "image/png": "[encoded data removed]"
          },
          "metadata": {}
        }
      ]
    },
    {
      "cell_type": "code",
      "source": [
        "# bar plot\n",
        "values = [5, 8, 9, 10, 4, 7]\n",
        "labels = ['A', 'B', 'C', 'D', 'E', 'F']\n",
        "\n",
        "plt.bar(labels, values)\n",
        "plt.show()"
      ],
      "metadata": {
        "colab": {
          "base_uri": "https://localhost:8080/",
          "height": 434
        },
        "id": "fRsPQZ44BVNj",
        "outputId": "7214bffc-350e-4f28-8c40-4277c9858d5e",
        "ExecuteTime": {
          "end_time": "2023-09-09T19:26:33.179938Z",
          "start_time": "2023-09-09T19:26:33.120279Z"
        }
      },
      "execution_count": 122,
      "outputs": [
        {
          "output_type": "display_data",
          "data": {
            "text/plain": [
              "<Figure size 640x480 with 1 Axes>"
            ],
            "image/png": "[encoded data removed]"
          },
          "metadata": {}
        }
      ]
    },
    {
      "cell_type": "code",
      "source": [
        "# pie plot\n",
        "plt.pie(values, labels=labels, autopct='%1.2f%%')\n",
        "plt.show()"
      ],
      "metadata": {
        "colab": {
          "base_uri": "https://localhost:8080/",
          "height": 406
        },
        "id": "_QG9_tLABrKw",
        "outputId": "0115f4ba-d0bd-4ced-f21e-a703081fcf47",
        "ExecuteTime": {
          "end_time": "2023-09-09T19:26:33.788106Z",
          "start_time": "2023-09-09T19:26:33.720175Z"
        }
      },
      "execution_count": 123,
      "outputs": [
        {
          "output_type": "display_data",
          "data": {
            "text/plain": [
              "<Figure size 640x480 with 1 Axes>"
            ],
            "image/png": "[encoded data removed]"
          },
          "metadata": {}
        }
      ]
    },
    {
      "cell_type": "code",
      "source": [
        "# histogram\n",
        "x = np.random.randn(10000)\n",
        "plt.hist(x, 20)  # 20 is the number of bins\n",
        "plt.show()"
      ],
      "metadata": {
        "colab": {
          "base_uri": "https://localhost:8080/",
          "height": 434
        },
        "id": "-pmbRIh0Bswz",
        "outputId": "654c8379-e752-45ae-fd96-6d47c904e9aa",
        "ExecuteTime": {
          "end_time": "2023-09-09T19:26:34.393585Z",
          "start_time": "2023-09-09T19:26:34.299134Z"
        }
      },
      "execution_count": 124,
      "outputs": [
        {
          "output_type": "display_data",
          "data": {
            "text/plain": [
              "<Figure size 640x480 with 1 Axes>"
            ],
            "image/png": "[encoded data removed]"
          },
          "metadata": {}
        }
      ]
    },
    {
      "cell_type": "code",
      "source": [
        "x = np.random.exponential(scale=1.0, size=100)\n",
        "y = np.random.normal(loc=0, scale=1.0, size=100)\n",
        "\n",
        "plt.scatter(x, y, label='Scatter Plot', color='blue', marker='o')\n",
        "\n",
        "plt.xlabel('X-axis')\n",
        "plt.ylabel('Y-axis')\n",
        "plt.title('Scatter Plot Example')\n",
        "\n",
        "plt.legend()\n",
        "\n",
        "plt.show()"
      ],
      "metadata": {
        "colab": {
          "base_uri": "https://localhost:8080/",
          "height": 480
        },
        "id": "wQ4sPNaw1qV2",
        "outputId": "1f45897c-cd16-4326-ca66-bc5e1a46f49a"
      },
      "execution_count": 125,
      "outputs": [
        {
          "output_type": "display_data",
          "data": {
            "text/plain": [
              "<Figure size 640x480 with 1 Axes>"
            ],
            "image/png": "[encoded data removed]"
          },
          "metadata": {}
        }
      ]
    },
    {
      "cell_type": "markdown",
      "source": [
        "## Pandas"
      ],
      "metadata": {
        "id": "XkXxKRXoCLwZ"
      }
    },
    {
      "cell_type": "markdown",
      "metadata": {
        "id": "5PFWudkhnXlE"
      },
      "source": [
        "Pandas makes plotting DataFrame really simple, as the pandas' library possess a wrapper for the command `plt.plot()` of the Matplotlib module.\n",
        "\n",
        "For more details about chart visualization, refer to https://pandas.pydata.org/pandas-docs/stable/user_guide/visualization.html."
      ]
    },
    {
      "cell_type": "code",
      "source": [
        "gas.plot(x='start_date', y=['gasolina_IO95', 'gasoleo_rodoviario'],\n",
        "        label=['Gasoline', 'Diesel'], title='Gas Prince in Madeira');"
      ],
      "metadata": {
        "colab": {
          "base_uri": "https://localhost:8080/",
          "height": 467
        },
        "id": "cWpZ8-r6Bt_U",
        "outputId": "299ba186-c81b-450e-98c5-ce573299243d",
        "ExecuteTime": {
          "end_time": "2023-09-09T19:26:37.340172Z",
          "start_time": "2023-09-09T19:26:37.270784Z"
        }
      },
      "execution_count": 126,
      "outputs": [
        {
          "output_type": "display_data",
          "data": {
            "text/plain": [
              "<Figure size 640x480 with 1 Axes>"
            ],
            "image/png": "[encoded data removed]"
          },
          "metadata": {}
        }
      ]
    },
    {
      "cell_type": "code",
      "source": [
        "df = pd.DataFrame(np.random.rand(10, 5), columns=['D1', 'D2', 'D3', 'D4', 'D5'])\n",
        "df.plot.box();"
      ],
      "metadata": {
        "id": "8rTUjIB0CPaV",
        "colab": {
          "base_uri": "https://localhost:8080/",
          "height": 437
        },
        "outputId": "7a934003-056f-46c8-a05a-5f1bc2f4d609",
        "ExecuteTime": {
          "end_time": "2023-09-09T19:26:37.921492Z",
          "start_time": "2023-09-09T19:26:37.836480Z"
        }
      },
      "execution_count": 127,
      "outputs": [
        {
          "output_type": "display_data",
          "data": {
            "text/plain": [
              "<Figure size 640x480 with 1 Axes>"
            ],
            "image/png": "[encoded data removed]"
          },
          "metadata": {}
        }
      ]
    },
    {
      "cell_type": "code",
      "source": [
        "df = pd.DataFrame(np.random.rand(4, 2), index=['L1', 'L2', 'L3', 'L4'], columns=['D1', 'D2'])\n",
        "df.plot.pie(subplots=True, figsize=(8, 4));"
      ],
      "metadata": {
        "colab": {
          "base_uri": "https://localhost:8080/",
          "height": 318
        },
        "id": "AXq1PDJkEEL0",
        "outputId": "abceea0c-b17b-48fb-8afc-68339543362c",
        "ExecuteTime": {
          "end_time": "2023-09-09T19:26:38.804222Z",
          "start_time": "2023-09-09T19:26:38.718005Z"
        }
      },
      "execution_count": 128,
      "outputs": [
        {
          "output_type": "display_data",
          "data": {
            "text/plain": [
              "<Figure size 800x400 with 2 Axes>"
            ],
            "image/png": "[encoded data removed]"
          },
          "metadata": {}
        }
      ]
    }
  ]
}